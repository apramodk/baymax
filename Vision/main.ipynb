{
 "cells": [
  {
   "cell_type": "code",
   "execution_count": null,
   "metadata": {},
   "outputs": [],
   "source": [
    "!python3.11 -m pip install --upgrade pip\n",
    "!pip3 install opencv-python ultralytics supervision torch"
   ]
  },
  {
   "cell_type": "code",
   "execution_count": null,
   "metadata": {},
   "outputs": [],
   "source": [
    "# imports\n",
    "import cv2 as cv\n",
    "import numpy as np\n",
    "import matplotlib.pyplot as plt\n",
    "from ultralytics import YOLO\n",
    "import supervision as sv\n",
    "from collections import defaultdict"
   ]
  },
  {
   "cell_type": "markdown",
   "metadata": {},
   "source": [
    "## Data Loading + Preprocessing"
   ]
  },
  {
   "cell_type": "code",
   "execution_count": null,
   "metadata": {},
   "outputs": [],
   "source": [
    "# get frames for initializing \n",
    "cap = cv.VideoCapture(1)\n",
    "model = YOLO('yolov8n.pt')\n",
    "names = model.names\n",
    "savedFrames = []\n",
    "\n",
    "itr = 0\n",
    "while True:\n",
    "    ret, frame = cap.read()\n",
    "    if not ret:\n",
    "        break\n",
    "    \n",
    "    results = model(frame)\n",
    "\n",
    "    for result in results:\n",
    "        save_buffer = []\n",
    "        box_buffer = []\n",
    "        boxes = result.boxes.cpu().numpy()\n",
    "        \n",
    "        for box, xywh in zip(boxes.cls, boxes.xyxy):\n",
    "            if names[box] == 'person':\n",
    "                x1, y1, x2, y2 = map(int,xywh)\n",
    "                \n",
    "                # print(x, y, w, h)\n",
    "                person_roi = frame[y1:y2, x1:x2]\n",
    "                save_buffer.append(person_roi)\n",
    "        if len(save_buffer) == 1:\n",
    "            savedFrames.append(save_buffer[0])\n",
    "        else:\n",
    "            break\n",
    "\n",
    "    detections = sv.Detections(\n",
    "                    xyxy=results[0].boxes.xyxy.cpu().numpy(),\n",
    "                    confidence=results[0].boxes.conf.cpu().numpy(),\n",
    "                    class_id=results[0].boxes.cls.cpu().numpy().astype(int),\n",
    "                    )\n",
    "\n",
    "    frame = sv.BoxAnnotator(sv.ColorPalette.default(), thickness=3, text_thickness=3, text_scale=1.5).annotate(scene=frame, detections=detections)\n",
    "    cv.imshow('Live Video', frame)\n",
    "    if cv.waitKey(1) & 0xFF == 27:  # Press 'Esc' key to exit the loop\n",
    "        break\n",
    "\n",
    "cap.release()\n",
    "cv.destroyAllWindows()"
   ]
  },
  {
   "cell_type": "code",
   "execution_count": null,
   "metadata": {},
   "outputs": [],
   "source": [
    "tmp = \"McLovin_\"\n",
    "itr = 0\n",
    "for frame in savedFrames:\n",
    "    bgr = cv.cvtColor(frame, cv.COLOR_BGR2RGB)\n",
    "    hsv = cv.cvtColor(frame, cv.COLOR_BGR2HSV)\n",
    "\n",
    "    cv.imwrite(\"img/rgb_\"+tmp + str(itr) + \".png\", frame)\n",
    "    cv.imwrite(\"img/bgr_\"+tmp + str(itr) + \".png\", bgr)\n",
    "    cv.imwrite(\"img/hsv_\"+tmp + str(itr) + \".png\", hsv)\n",
    "    # print(frame)\n",
    "    itr += 1"
   ]
  },
  {
   "cell_type": "markdown",
   "metadata": {},
   "source": [
    "## Model Testing"
   ]
  },
  {
   "cell_type": "code",
   "execution_count": null,
   "metadata": {},
   "outputs": [],
   "source": [
    "cap = cv.VideoCapture(1)\n",
    "model = YOLO('models/segment-hpo/bestMcChimkns.pt')\n",
    "\n",
    "\n",
    "while True:\n",
    "    ret, frame = cap.read()\n",
    "\n",
    "    if not ret:\n",
    "        break\n",
    "    \n",
    "    results = model.track(frame, persist=True)\n",
    "    annotated_frame = results[0].plot()\n",
    "\n",
    "    cv.imshow('Live Video',annotated_frame)\n",
    "    if cv.waitKey(1) & 0xFF == 27:  # Press 'Esc' key to exit the loop\n",
    "        break\n",
    "\n",
    "cap.release()\n",
    "cv.destroyAllWindows()"
   ]
  },
  {
   "cell_type": "markdown",
   "metadata": {},
   "source": [
    "## Frame Sampling"
   ]
  },
  {
   "cell_type": "code",
   "execution_count": null,
   "metadata": {},
   "outputs": [],
   "source": [
    "cap = cv.VideoCapture(1)\n",
    "cacheFrames = []\n",
    "\n",
    "while True:\n",
    "    ret, frame = cap.read()\n",
    "\n",
    "    if not ret:\n",
    "        break\n",
    "    \n",
    "    # results = model(frame)\n",
    "    # annotated_frame = results[0].plot()\n",
    "    cacheFrames.append(frame)\n",
    "    cv.imshow('Live Video',frame)\n",
    "    if cv.waitKey(1) & 0xFF == 27:  # Press 'Esc' key to exit the loop\n",
    "        break\n",
    "\n",
    "cap.release()\n",
    "cv.destroyAllWindows()"
   ]
  },
  {
   "cell_type": "code",
   "execution_count": null,
   "metadata": {},
   "outputs": [],
   "source": [
    "for frame in cacheFrames:\n",
    "    \n",
    "    cv.imshow('Live Video',frame)\n",
    "    if cv.waitKey(1) & 0xFF == 27:  # Press 'Esc' key to exit the loop\n",
    "        break\n",
    "\n",
    "cap.release()\n",
    "cv.destroyAllWindows()"
   ]
  }
 ],
 "metadata": {
  "kernelspec": {
   "display_name": "Python 3",
   "language": "python",
   "name": "python3"
  },
  "language_info": {
   "codemirror_mode": {
    "name": "ipython",
    "version": 3
   },
   "file_extension": ".py",
   "mimetype": "text/x-python",
   "name": "python",
   "nbconvert_exporter": "python",
   "pygments_lexer": "ipython3",
   "version": "3.11.5"
  }
 },
 "nbformat": 4,
 "nbformat_minor": 2
}
