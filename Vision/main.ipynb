{
 "cells": [
  {
   "cell_type": "code",
   "execution_count": 9,
   "metadata": {},
   "outputs": [],
   "source": [
    "# imports\n",
    "import cv2 as cv\n",
    "import numpy as np\n",
    "import matplotlib.pyplot as plt\n",
    "from ultralytics import YOLO\n",
    "import supervision as sv"
   ]
  },
  {
   "cell_type": "code",
   "execution_count": 28,
   "metadata": {},
   "outputs": [
    {
     "name": "stderr",
     "output_type": "stream",
     "text": [
      "\n",
      "0: 384x640 (no detections), 108.5ms\n",
      "Speed: 5.5ms preprocess, 108.5ms inference, 0.6ms postprocess per image at shape (1, 3, 384, 640)\n",
      "\n",
      "0: 384x640 (no detections), 98.5ms\n",
      "Speed: 16.4ms preprocess, 98.5ms inference, 0.6ms postprocess per image at shape (1, 3, 384, 640)\n",
      "\n",
      "0: 384x640 (no detections), 94.5ms\n",
      "Speed: 27.2ms preprocess, 94.5ms inference, 0.9ms postprocess per image at shape (1, 3, 384, 640)\n",
      "\n",
      "0: 384x640 (no detections), 81.1ms\n",
      "Speed: 1.7ms preprocess, 81.1ms inference, 0.5ms postprocess per image at shape (1, 3, 384, 640)\n",
      "\n",
      "0: 384x640 (no detections), 56.5ms\n",
      "Speed: 1.5ms preprocess, 56.5ms inference, 0.5ms postprocess per image at shape (1, 3, 384, 640)\n",
      "\n",
      "0: 384x640 1 bottle, 66.0ms\n",
      "Speed: 1.9ms preprocess, 66.0ms inference, 0.7ms postprocess per image at shape (1, 3, 384, 640)\n",
      "\n",
      "0: 384x640 (no detections), 53.6ms\n",
      "Speed: 1.8ms preprocess, 53.6ms inference, 0.6ms postprocess per image at shape (1, 3, 384, 640)\n",
      "\n",
      "0: 384x640 1 cup, 50.2ms\n",
      "Speed: 1.4ms preprocess, 50.2ms inference, 0.8ms postprocess per image at shape (1, 3, 384, 640)\n",
      "\n",
      "0: 384x640 1 cup, 1 chair, 1 laptop, 1 mouse, 1 cell phone, 50.3ms\n",
      "Speed: 1.5ms preprocess, 50.3ms inference, 0.9ms postprocess per image at shape (1, 3, 384, 640)\n",
      "\n",
      "0: 384x640 1 bottle, 2 cups, 1 chair, 51.9ms\n",
      "Speed: 1.5ms preprocess, 51.9ms inference, 0.9ms postprocess per image at shape (1, 3, 384, 640)\n",
      "\n",
      "0: 384x640 1 bottle, 2 cups, 1 chair, 1 tv, 1 laptop, 61.4ms\n",
      "Speed: 1.4ms preprocess, 61.4ms inference, 1.2ms postprocess per image at shape (1, 3, 384, 640)\n",
      "\n",
      "0: 384x640 1 person, 1 bottle, 2 cups, 52.6ms\n",
      "Speed: 1.5ms preprocess, 52.6ms inference, 0.7ms postprocess per image at shape (1, 3, 384, 640)\n",
      "\n",
      "0: 384x640 1 person, 1 bottle, 1 cup, 1 chair, 2 laptops, 1 cell phone, 53.9ms\n",
      "Speed: 1.5ms preprocess, 53.9ms inference, 0.8ms postprocess per image at shape (1, 3, 384, 640)\n"
     ]
    },
    {
     "name": "stdout",
     "output_type": "stream",
     "text": [
      "BOX START ---------------------\n",
      " person \n",
      "BOX END ---------------------\n",
      "BOX START ---------------------\n",
      " person \n",
      "BOX END ---------------------\n"
     ]
    },
    {
     "name": "stderr",
     "output_type": "stream",
     "text": [
      "\n",
      "0: 384x640 1 person, 1 bottle, 1 cup, 2 cell phones, 53.4ms\n",
      "Speed: 1.5ms preprocess, 53.4ms inference, 0.9ms postprocess per image at shape (1, 3, 384, 640)\n",
      "\n",
      "0: 384x640 1 person, 1 bottle, 2 laptops, 1 cell phone, 49.3ms\n",
      "Speed: 1.6ms preprocess, 49.3ms inference, 0.8ms postprocess per image at shape (1, 3, 384, 640)\n"
     ]
    },
    {
     "name": "stdout",
     "output_type": "stream",
     "text": [
      "BOX START ---------------------\n",
      " person \n",
      "BOX END ---------------------\n",
      "BOX START ---------------------\n",
      " person \n",
      "BOX END ---------------------\n"
     ]
    },
    {
     "name": "stderr",
     "output_type": "stream",
     "text": [
      "\n",
      "0: 384x640 1 person, 1 bottle, 3 laptops, 1 cell phone, 54.0ms\n",
      "Speed: 1.5ms preprocess, 54.0ms inference, 1.0ms postprocess per image at shape (1, 3, 384, 640)\n",
      "\n",
      "0: 384x640 1 person, 1 bottle, 1 cup, 2 laptops, 1 cell phone, 50.7ms\n",
      "Speed: 1.4ms preprocess, 50.7ms inference, 0.6ms postprocess per image at shape (1, 3, 384, 640)\n",
      "\n"
     ]
    },
    {
     "name": "stdout",
     "output_type": "stream",
     "text": [
      "BOX START ---------------------\n",
      " person \n",
      "BOX END ---------------------\n",
      "BOX START ---------------------\n",
      " person \n",
      "BOX END ---------------------\n"
     ]
    },
    {
     "name": "stderr",
     "output_type": "stream",
     "text": [
      "0: 384x640 1 person, 1 bottle, 1 cup, 4 laptops, 1 cell phone, 53.0ms\n",
      "Speed: 1.6ms preprocess, 53.0ms inference, 0.9ms postprocess per image at shape (1, 3, 384, 640)\n",
      "\n",
      "0: 384x640 1 person, 1 bottle, 50.5ms\n",
      "Speed: 1.4ms preprocess, 50.5ms inference, 0.6ms postprocess per image at shape (1, 3, 384, 640)\n",
      "\n"
     ]
    },
    {
     "name": "stdout",
     "output_type": "stream",
     "text": [
      "BOX START ---------------------\n",
      " person \n",
      "BOX END ---------------------\n",
      "BOX START ---------------------\n",
      " person \n",
      "BOX END ---------------------\n"
     ]
    },
    {
     "name": "stderr",
     "output_type": "stream",
     "text": [
      "0: 384x640 2 persons, 1 parking meter, 51.8ms\n",
      "Speed: 1.5ms preprocess, 51.8ms inference, 0.6ms postprocess per image at shape (1, 3, 384, 640)\n",
      "\n",
      "0: 384x640 1 person, 1 bottle, 3 laptops, 47.8ms\n",
      "Speed: 1.5ms preprocess, 47.8ms inference, 0.6ms postprocess per image at shape (1, 3, 384, 640)\n",
      "\n"
     ]
    },
    {
     "name": "stdout",
     "output_type": "stream",
     "text": [
      "BOX START ---------------------\n",
      " person \n",
      "BOX END ---------------------\n",
      "BOX START ---------------------\n",
      " person \n",
      "BOX END ---------------------\n",
      "BOX START ---------------------\n",
      " person \n",
      "BOX END ---------------------\n"
     ]
    },
    {
     "name": "stderr",
     "output_type": "stream",
     "text": [
      "0: 384x640 1 person, 1 bottle, 3 laptops, 54.1ms\n",
      "Speed: 1.5ms preprocess, 54.1ms inference, 0.8ms postprocess per image at shape (1, 3, 384, 640)\n",
      "\n",
      "0: 384x640 1 person, 1 bottle, 49.7ms\n",
      "Speed: 1.5ms preprocess, 49.7ms inference, 0.6ms postprocess per image at shape (1, 3, 384, 640)\n",
      "\n"
     ]
    },
    {
     "name": "stdout",
     "output_type": "stream",
     "text": [
      "BOX START ---------------------\n",
      " person \n",
      "BOX END ---------------------\n",
      "BOX START ---------------------\n",
      " person \n",
      "BOX END ---------------------\n"
     ]
    },
    {
     "name": "stderr",
     "output_type": "stream",
     "text": [
      "0: 384x640 1 person, 1 car, 1 train, 52.0ms\n",
      "Speed: 1.8ms preprocess, 52.0ms inference, 0.7ms postprocess per image at shape (1, 3, 384, 640)\n",
      "\n",
      "0: 384x640 1 car, 1 bus, 48.3ms\n",
      "Speed: 1.5ms preprocess, 48.3ms inference, 0.6ms postprocess per image at shape (1, 3, 384, 640)\n",
      "\n"
     ]
    },
    {
     "name": "stdout",
     "output_type": "stream",
     "text": [
      "BOX START ---------------------\n",
      " person \n",
      "BOX END ---------------------\n"
     ]
    },
    {
     "name": "stderr",
     "output_type": "stream",
     "text": [
      "0: 384x640 1 person, 51.9ms\n",
      "Speed: 1.5ms preprocess, 51.9ms inference, 0.9ms postprocess per image at shape (1, 3, 384, 640)\n",
      "\n",
      "0: 384x640 1 person, 1 laptop, 1 book, 50.3ms\n",
      "Speed: 1.5ms preprocess, 50.3ms inference, 0.8ms postprocess per image at shape (1, 3, 384, 640)\n",
      "\n"
     ]
    },
    {
     "name": "stdout",
     "output_type": "stream",
     "text": [
      "BOX START ---------------------\n",
      " person \n",
      "BOX END ---------------------\n",
      "BOX START ---------------------\n",
      " person \n",
      "BOX END ---------------------\n"
     ]
    },
    {
     "name": "stderr",
     "output_type": "stream",
     "text": [
      "0: 384x640 1 person, 1 laptop, 1 book, 99.7ms\n",
      "Speed: 1.5ms preprocess, 99.7ms inference, 0.7ms postprocess per image at shape (1, 3, 384, 640)\n",
      "\n",
      "0: 384x640 1 person, 2 laptops, 50.6ms\n",
      "Speed: 1.7ms preprocess, 50.6ms inference, 0.8ms postprocess per image at shape (1, 3, 384, 640)\n",
      "\n"
     ]
    },
    {
     "name": "stdout",
     "output_type": "stream",
     "text": [
      "BOX START ---------------------\n",
      " person \n",
      "BOX END ---------------------\n",
      "BOX START ---------------------\n",
      " person \n",
      "BOX END ---------------------\n"
     ]
    },
    {
     "name": "stderr",
     "output_type": "stream",
     "text": [
      "0: 384x640 1 person, 3 laptops, 54.9ms\n",
      "Speed: 1.7ms preprocess, 54.9ms inference, 0.7ms postprocess per image at shape (1, 3, 384, 640)\n",
      "\n",
      "0: 384x640 1 person, 2 laptops, 51.4ms\n",
      "Speed: 1.5ms preprocess, 51.4ms inference, 0.9ms postprocess per image at shape (1, 3, 384, 640)\n"
     ]
    },
    {
     "name": "stdout",
     "output_type": "stream",
     "text": [
      "BOX START ---------------------\n",
      " person \n",
      "BOX END ---------------------\n",
      "BOX START ---------------------\n",
      " person \n",
      "BOX END ---------------------\n"
     ]
    },
    {
     "name": "stderr",
     "output_type": "stream",
     "text": [
      "\n",
      "0: 384x640 1 person, 1 chair, 2 laptops, 60.6ms\n",
      "Speed: 1.5ms preprocess, 60.6ms inference, 0.7ms postprocess per image at shape (1, 3, 384, 640)\n",
      "\n",
      "0: 384x640 3 persons, 5 laptops, 55.2ms\n",
      "Speed: 1.8ms preprocess, 55.2ms inference, 0.7ms postprocess per image at shape (1, 3, 384, 640)\n",
      "\n"
     ]
    },
    {
     "name": "stdout",
     "output_type": "stream",
     "text": [
      "BOX START ---------------------\n",
      " person \n",
      "BOX END ---------------------\n",
      "BOX START ---------------------\n",
      " person \n",
      "BOX END ---------------------\n",
      "BOX START ---------------------\n",
      " person \n",
      "BOX END ---------------------\n",
      "BOX START ---------------------\n",
      " person \n",
      "BOX END ---------------------\n"
     ]
    },
    {
     "name": "stderr",
     "output_type": "stream",
     "text": [
      "0: 384x640 2 persons, 1 chair, 2 laptops, 62.2ms\n",
      "Speed: 2.0ms preprocess, 62.2ms inference, 0.9ms postprocess per image at shape (1, 3, 384, 640)\n",
      "\n",
      "0: 384x640 2 persons, 1 chair, 3 laptops, 55.2ms\n",
      "Speed: 1.6ms preprocess, 55.2ms inference, 0.8ms postprocess per image at shape (1, 3, 384, 640)\n",
      "\n"
     ]
    },
    {
     "name": "stdout",
     "output_type": "stream",
     "text": [
      "BOX START ---------------------\n",
      " person \n",
      "BOX END ---------------------\n",
      "BOX START ---------------------\n",
      " person \n",
      "BOX END ---------------------\n",
      "BOX START ---------------------\n",
      " person \n",
      "BOX END ---------------------\n",
      "BOX START ---------------------\n",
      " person \n",
      "BOX END ---------------------\n"
     ]
    },
    {
     "name": "stderr",
     "output_type": "stream",
     "text": [
      "0: 384x640 2 persons, 1 chair, 1 laptop, 71.3ms\n",
      "Speed: 1.4ms preprocess, 71.3ms inference, 0.8ms postprocess per image at shape (1, 3, 384, 640)\n",
      "\n",
      "0: 384x640 2 persons, 1 chair, 1 laptop, 48.5ms\n",
      "Speed: 1.8ms preprocess, 48.5ms inference, 0.6ms postprocess per image at shape (1, 3, 384, 640)\n",
      "\n"
     ]
    },
    {
     "name": "stdout",
     "output_type": "stream",
     "text": [
      "BOX START ---------------------\n",
      " person \n",
      "BOX END ---------------------\n",
      "BOX START ---------------------\n",
      " person \n",
      "BOX END ---------------------\n",
      "BOX START ---------------------\n",
      " person \n",
      "BOX END ---------------------\n",
      "BOX START ---------------------\n",
      " person \n",
      "BOX END ---------------------\n"
     ]
    },
    {
     "name": "stderr",
     "output_type": "stream",
     "text": [
      "0: 384x640 2 persons, 1 laptop, 53.2ms\n",
      "Speed: 1.7ms preprocess, 53.2ms inference, 0.8ms postprocess per image at shape (1, 3, 384, 640)\n",
      "\n",
      "0: 384x640 2 persons, 1 laptop, 121.4ms\n",
      "Speed: 3.8ms preprocess, 121.4ms inference, 0.6ms postprocess per image at shape (1, 3, 384, 640)\n"
     ]
    },
    {
     "name": "stdout",
     "output_type": "stream",
     "text": [
      "BOX START ---------------------\n",
      " person \n",
      "BOX END ---------------------\n",
      "BOX START ---------------------\n",
      " person \n",
      "BOX END ---------------------\n",
      "BOX START ---------------------\n",
      " person \n",
      "BOX END ---------------------\n",
      "BOX START ---------------------\n",
      " person \n",
      "BOX END ---------------------\n"
     ]
    },
    {
     "name": "stderr",
     "output_type": "stream",
     "text": [
      "\n",
      "0: 384x640 2 persons, 2 chairs, 1 laptop, 48.8ms\n",
      "Speed: 1.6ms preprocess, 48.8ms inference, 0.6ms postprocess per image at shape (1, 3, 384, 640)\n",
      "\n",
      "0: 384x640 2 persons, 3 laptops, 48.9ms\n",
      "Speed: 1.5ms preprocess, 48.9ms inference, 0.6ms postprocess per image at shape (1, 3, 384, 640)\n",
      "\n"
     ]
    },
    {
     "name": "stdout",
     "output_type": "stream",
     "text": [
      "BOX START ---------------------\n",
      " person \n",
      "BOX END ---------------------\n",
      "BOX START ---------------------\n",
      " person \n",
      "BOX END ---------------------\n",
      "BOX START ---------------------\n",
      " person \n",
      "BOX END ---------------------\n",
      "BOX START ---------------------\n",
      " person \n",
      "BOX END ---------------------\n"
     ]
    },
    {
     "name": "stderr",
     "output_type": "stream",
     "text": [
      "0: 384x640 2 persons, 2 laptops, 50.8ms\n",
      "Speed: 2.1ms preprocess, 50.8ms inference, 0.6ms postprocess per image at shape (1, 3, 384, 640)\n",
      "\n",
      "0: 384x640 2 persons, 1 handbag, 1 laptop, 117.7ms\n",
      "Speed: 1.5ms preprocess, 117.7ms inference, 1.0ms postprocess per image at shape (1, 3, 384, 640)\n"
     ]
    },
    {
     "name": "stdout",
     "output_type": "stream",
     "text": [
      "BOX START ---------------------\n",
      " person \n",
      "BOX END ---------------------\n",
      "BOX START ---------------------\n",
      " person \n",
      "BOX END ---------------------\n",
      "BOX START ---------------------\n",
      " person \n",
      "BOX END ---------------------\n",
      "BOX START ---------------------\n",
      " person \n",
      "BOX END ---------------------\n"
     ]
    },
    {
     "name": "stderr",
     "output_type": "stream",
     "text": [
      "\n",
      "0: 384x640 2 persons, 1 handbag, 2 laptops, 50.6ms\n",
      "Speed: 1.4ms preprocess, 50.6ms inference, 0.6ms postprocess per image at shape (1, 3, 384, 640)\n",
      "\n",
      "0: 384x640 2 persons, 1 chair, 2 laptops, 50.3ms\n",
      "Speed: 1.7ms preprocess, 50.3ms inference, 0.6ms postprocess per image at shape (1, 3, 384, 640)\n",
      "\n"
     ]
    },
    {
     "name": "stdout",
     "output_type": "stream",
     "text": [
      "BOX START ---------------------\n",
      " person \n",
      "BOX END ---------------------\n",
      "BOX START ---------------------\n",
      " person \n",
      "BOX END ---------------------\n",
      "BOX START ---------------------\n",
      " person \n",
      "BOX END ---------------------\n",
      "BOX START ---------------------\n",
      " person \n",
      "BOX END ---------------------\n"
     ]
    },
    {
     "name": "stderr",
     "output_type": "stream",
     "text": [
      "0: 384x640 2 persons, 2 chairs, 2 laptops, 52.6ms\n",
      "Speed: 1.4ms preprocess, 52.6ms inference, 0.7ms postprocess per image at shape (1, 3, 384, 640)\n",
      "\n",
      "0: 384x640 2 persons, 2 chairs, 1 laptop, 47.4ms\n",
      "Speed: 1.4ms preprocess, 47.4ms inference, 0.6ms postprocess per image at shape (1, 3, 384, 640)\n",
      "\n"
     ]
    },
    {
     "name": "stdout",
     "output_type": "stream",
     "text": [
      "BOX START ---------------------\n",
      " person \n",
      "BOX END ---------------------\n",
      "BOX START ---------------------\n",
      " person \n",
      "BOX END ---------------------\n",
      "BOX START ---------------------\n",
      " person \n",
      "BOX END ---------------------\n",
      "BOX START ---------------------\n",
      " person \n",
      "BOX END ---------------------\n"
     ]
    },
    {
     "name": "stderr",
     "output_type": "stream",
     "text": [
      "0: 384x640 3 persons, 1 laptop, 53.7ms\n",
      "Speed: 1.4ms preprocess, 53.7ms inference, 1.1ms postprocess per image at shape (1, 3, 384, 640)\n",
      "\n",
      "0: 384x640 3 persons, 1 chair, 2 laptops, 53.4ms\n",
      "Speed: 2.3ms preprocess, 53.4ms inference, 0.7ms postprocess per image at shape (1, 3, 384, 640)\n",
      "\n"
     ]
    },
    {
     "name": "stdout",
     "output_type": "stream",
     "text": [
      "BOX START ---------------------\n",
      " person \n",
      "BOX END ---------------------\n",
      "BOX START ---------------------\n",
      " person \n",
      "BOX END ---------------------\n",
      "BOX START ---------------------\n",
      " person \n",
      "BOX END ---------------------\n",
      "BOX START ---------------------\n",
      " person \n",
      "BOX END ---------------------\n",
      "BOX START ---------------------\n",
      " person \n",
      "BOX END ---------------------\n",
      "BOX START ---------------------\n",
      " person \n",
      "BOX END ---------------------\n"
     ]
    },
    {
     "name": "stderr",
     "output_type": "stream",
     "text": [
      "0: 384x640 3 persons, 2 chairs, 1 laptop, 54.8ms\n",
      "Speed: 1.4ms preprocess, 54.8ms inference, 1.0ms postprocess per image at shape (1, 3, 384, 640)\n",
      "\n",
      "0: 384x640 3 persons, 2 chairs, 2 laptops, 82.7ms\n",
      "Speed: 1.6ms preprocess, 82.7ms inference, 1.1ms postprocess per image at shape (1, 3, 384, 640)\n"
     ]
    },
    {
     "name": "stdout",
     "output_type": "stream",
     "text": [
      "BOX START ---------------------\n",
      " person \n",
      "BOX END ---------------------\n",
      "BOX START ---------------------\n",
      " person \n",
      "BOX END ---------------------\n",
      "BOX START ---------------------\n",
      " person \n",
      "BOX END ---------------------\n",
      "BOX START ---------------------\n",
      " person \n",
      "BOX END ---------------------\n",
      "BOX START ---------------------\n",
      " person \n",
      "BOX END ---------------------\n",
      "BOX START ---------------------\n",
      " person \n",
      "BOX END ---------------------\n"
     ]
    },
    {
     "name": "stderr",
     "output_type": "stream",
     "text": [
      "\n",
      "0: 384x640 3 persons, 2 laptops, 66.1ms\n",
      "Speed: 1.6ms preprocess, 66.1ms inference, 1.1ms postprocess per image at shape (1, 3, 384, 640)\n",
      "\n",
      "0: 384x640 3 persons, 2 laptops, 62.2ms\n",
      "Speed: 1.9ms preprocess, 62.2ms inference, 0.7ms postprocess per image at shape (1, 3, 384, 640)\n",
      "\n"
     ]
    },
    {
     "name": "stdout",
     "output_type": "stream",
     "text": [
      "BOX START ---------------------\n",
      " person \n",
      "BOX END ---------------------\n",
      "BOX START ---------------------\n",
      " person \n",
      "BOX END ---------------------\n",
      "BOX START ---------------------\n",
      " person \n",
      "BOX END ---------------------\n",
      "BOX START ---------------------\n",
      " person \n",
      "BOX END ---------------------\n",
      "BOX START ---------------------\n",
      " person \n",
      "BOX END ---------------------\n",
      "BOX START ---------------------\n",
      " person \n",
      "BOX END ---------------------\n"
     ]
    },
    {
     "name": "stderr",
     "output_type": "stream",
     "text": [
      "0: 384x640 3 persons, 3 laptops, 63.7ms\n",
      "Speed: 1.5ms preprocess, 63.7ms inference, 0.7ms postprocess per image at shape (1, 3, 384, 640)\n",
      "\n",
      "0: 384x640 3 persons, 1 handbag, 3 laptops, 57.8ms\n",
      "Speed: 1.4ms preprocess, 57.8ms inference, 0.7ms postprocess per image at shape (1, 3, 384, 640)\n",
      "\n"
     ]
    },
    {
     "name": "stdout",
     "output_type": "stream",
     "text": [
      "BOX START ---------------------\n",
      " person \n",
      "BOX END ---------------------\n",
      "BOX START ---------------------\n",
      " person \n",
      "BOX END ---------------------\n",
      "BOX START ---------------------\n",
      " person \n",
      "BOX END ---------------------\n",
      "BOX START ---------------------\n",
      " person \n",
      "BOX END ---------------------\n",
      "BOX START ---------------------\n",
      " person \n",
      "BOX END ---------------------\n",
      "BOX START ---------------------\n",
      " person \n",
      "BOX END ---------------------\n"
     ]
    },
    {
     "name": "stderr",
     "output_type": "stream",
     "text": [
      "0: 384x640 2 persons, 1 handbag, 3 laptops, 59.7ms\n",
      "Speed: 1.5ms preprocess, 59.7ms inference, 0.8ms postprocess per image at shape (1, 3, 384, 640)\n",
      "\n",
      "0: 384x640 2 persons, 1 handbag, 3 laptops, 58.3ms\n",
      "Speed: 1.6ms preprocess, 58.3ms inference, 0.7ms postprocess per image at shape (1, 3, 384, 640)\n",
      "\n"
     ]
    },
    {
     "name": "stdout",
     "output_type": "stream",
     "text": [
      "BOX START ---------------------\n",
      " person \n",
      "BOX END ---------------------\n",
      "BOX START ---------------------\n",
      " person \n",
      "BOX END ---------------------\n",
      "BOX START ---------------------\n",
      " person \n",
      "BOX END ---------------------\n",
      "BOX START ---------------------\n",
      " person \n",
      "BOX END ---------------------\n"
     ]
    },
    {
     "name": "stderr",
     "output_type": "stream",
     "text": [
      "0: 384x640 2 persons, 2 laptops, 112.5ms\n",
      "Speed: 1.5ms preprocess, 112.5ms inference, 0.7ms postprocess per image at shape (1, 3, 384, 640)\n",
      "\n",
      "0: 384x640 2 persons, 2 laptops, 54.7ms\n",
      "Speed: 1.6ms preprocess, 54.7ms inference, 0.9ms postprocess per image at shape (1, 3, 384, 640)\n",
      "\n"
     ]
    },
    {
     "name": "stdout",
     "output_type": "stream",
     "text": [
      "BOX START ---------------------\n",
      " person \n",
      "BOX END ---------------------\n",
      "BOX START ---------------------\n",
      " person \n",
      "BOX END ---------------------\n",
      "BOX START ---------------------\n",
      " person \n",
      "BOX END ---------------------\n",
      "BOX START ---------------------\n",
      " person \n",
      "BOX END ---------------------\n"
     ]
    },
    {
     "name": "stderr",
     "output_type": "stream",
     "text": [
      "0: 384x640 2 persons, 2 laptops, 57.0ms\n",
      "Speed: 1.5ms preprocess, 57.0ms inference, 0.6ms postprocess per image at shape (1, 3, 384, 640)\n",
      "\n",
      "0: 384x640 3 persons, 1 handbag, 2 laptops, 56.1ms\n",
      "Speed: 1.4ms preprocess, 56.1ms inference, 0.6ms postprocess per image at shape (1, 3, 384, 640)\n",
      "\n"
     ]
    },
    {
     "name": "stdout",
     "output_type": "stream",
     "text": [
      "BOX START ---------------------\n",
      " person \n",
      "BOX END ---------------------\n",
      "BOX START ---------------------\n",
      " person \n",
      "BOX END ---------------------\n",
      "BOX START ---------------------\n",
      " person \n",
      "BOX END ---------------------\n",
      "BOX START ---------------------\n",
      " person \n",
      "BOX END ---------------------\n",
      "BOX START ---------------------\n",
      " person \n",
      "BOX END ---------------------\n"
     ]
    },
    {
     "name": "stderr",
     "output_type": "stream",
     "text": [
      "0: 384x640 3 persons, 2 laptops, 56.4ms\n",
      "Speed: 2.0ms preprocess, 56.4ms inference, 0.7ms postprocess per image at shape (1, 3, 384, 640)\n",
      "\n",
      "0: 384x640 3 persons, 1 handbag, 1 chair, 3 laptops, 53.4ms\n",
      "Speed: 1.6ms preprocess, 53.4ms inference, 0.8ms postprocess per image at shape (1, 3, 384, 640)\n",
      "\n"
     ]
    },
    {
     "name": "stdout",
     "output_type": "stream",
     "text": [
      "BOX START ---------------------\n",
      " person \n",
      "BOX END ---------------------\n",
      "BOX START ---------------------\n",
      " person \n",
      "BOX END ---------------------\n",
      "BOX START ---------------------\n",
      " person \n",
      "BOX END ---------------------\n",
      "BOX START ---------------------\n",
      " person \n",
      "BOX END ---------------------\n",
      "BOX START ---------------------\n",
      " person \n",
      "BOX END ---------------------\n",
      "BOX START ---------------------\n",
      " person \n",
      "BOX END ---------------------\n"
     ]
    },
    {
     "name": "stderr",
     "output_type": "stream",
     "text": [
      "0: 384x640 3 persons, 1 handbag, 1 laptop, 62.9ms\n",
      "Speed: 1.5ms preprocess, 62.9ms inference, 0.6ms postprocess per image at shape (1, 3, 384, 640)\n",
      "\n",
      "0: 384x640 3 persons, 1 laptop, 52.4ms\n",
      "Speed: 1.5ms preprocess, 52.4ms inference, 0.8ms postprocess per image at shape (1, 3, 384, 640)\n",
      "\n"
     ]
    },
    {
     "name": "stdout",
     "output_type": "stream",
     "text": [
      "BOX START ---------------------\n",
      " person \n",
      "BOX END ---------------------\n",
      "BOX START ---------------------\n",
      " person \n",
      "BOX END ---------------------\n",
      "BOX START ---------------------\n",
      " person \n",
      "BOX END ---------------------\n",
      "BOX START ---------------------\n",
      " person \n",
      "BOX END ---------------------\n",
      "BOX START ---------------------\n",
      " person \n",
      "BOX END ---------------------\n",
      "BOX START ---------------------\n",
      " person \n",
      "BOX END ---------------------\n"
     ]
    },
    {
     "name": "stderr",
     "output_type": "stream",
     "text": [
      "0: 384x640 3 persons, 1 chair, 1 laptop, 60.7ms\n",
      "Speed: 1.6ms preprocess, 60.7ms inference, 0.8ms postprocess per image at shape (1, 3, 384, 640)\n",
      "\n",
      "0: 384x640 3 persons, 1 chair, 2 laptops, 59.2ms\n",
      "Speed: 1.7ms preprocess, 59.2ms inference, 0.8ms postprocess per image at shape (1, 3, 384, 640)\n",
      "\n"
     ]
    },
    {
     "name": "stdout",
     "output_type": "stream",
     "text": [
      "BOX START ---------------------\n",
      " person \n",
      "BOX END ---------------------\n",
      "BOX START ---------------------\n",
      " person \n",
      "BOX END ---------------------\n",
      "BOX START ---------------------\n",
      " person \n",
      "BOX END ---------------------\n",
      "BOX START ---------------------\n",
      " person \n",
      "BOX END ---------------------\n",
      "BOX START ---------------------\n",
      " person \n",
      "BOX END ---------------------\n",
      "BOX START ---------------------\n",
      " person \n",
      "BOX END ---------------------\n"
     ]
    },
    {
     "name": "stderr",
     "output_type": "stream",
     "text": [
      "0: 384x640 2 persons, 1 chair, 1 laptop, 56.9ms\n",
      "Speed: 1.6ms preprocess, 56.9ms inference, 1.0ms postprocess per image at shape (1, 3, 384, 640)\n",
      "\n",
      "0: 384x640 2 persons, 1 laptop, 51.9ms\n",
      "Speed: 1.5ms preprocess, 51.9ms inference, 0.6ms postprocess per image at shape (1, 3, 384, 640)\n",
      "\n"
     ]
    },
    {
     "name": "stdout",
     "output_type": "stream",
     "text": [
      "BOX START ---------------------\n",
      " person \n",
      "BOX END ---------------------\n",
      "BOX START ---------------------\n",
      " person \n",
      "BOX END ---------------------\n",
      "BOX START ---------------------\n",
      " person \n",
      "BOX END ---------------------\n",
      "BOX START ---------------------\n",
      " person \n",
      "BOX END ---------------------\n"
     ]
    },
    {
     "name": "stderr",
     "output_type": "stream",
     "text": [
      "0: 384x640 3 persons, 1 chair, 1 laptop, 61.5ms\n",
      "Speed: 1.8ms preprocess, 61.5ms inference, 0.7ms postprocess per image at shape (1, 3, 384, 640)\n",
      "\n",
      "0: 384x640 2 persons, 1 chair, 2 laptops, 2 cell phones, 56.2ms\n",
      "Speed: 1.5ms preprocess, 56.2ms inference, 1.1ms postprocess per image at shape (1, 3, 384, 640)\n",
      "\n"
     ]
    },
    {
     "name": "stdout",
     "output_type": "stream",
     "text": [
      "BOX START ---------------------\n",
      " person \n",
      "BOX END ---------------------\n",
      "BOX START ---------------------\n",
      " person \n",
      "BOX END ---------------------\n",
      "BOX START ---------------------\n",
      " person \n",
      "BOX END ---------------------\n",
      "BOX START ---------------------\n",
      " person \n",
      "BOX END ---------------------\n",
      "BOX START ---------------------\n",
      " person \n",
      "BOX END ---------------------\n"
     ]
    },
    {
     "name": "stderr",
     "output_type": "stream",
     "text": [
      "0: 384x640 2 persons, 1 laptop, 58.0ms\n",
      "Speed: 10.2ms preprocess, 58.0ms inference, 0.7ms postprocess per image at shape (1, 3, 384, 640)\n",
      "\n",
      "0: 384x640 2 persons, 2 laptops, 67.2ms\n",
      "Speed: 1.7ms preprocess, 67.2ms inference, 0.8ms postprocess per image at shape (1, 3, 384, 640)\n",
      "\n"
     ]
    },
    {
     "name": "stdout",
     "output_type": "stream",
     "text": [
      "BOX START ---------------------\n",
      " person \n",
      "BOX END ---------------------\n",
      "BOX START ---------------------\n",
      " person \n",
      "BOX END ---------------------\n",
      "BOX START ---------------------\n",
      " person \n",
      "BOX END ---------------------\n",
      "BOX START ---------------------\n",
      " person \n",
      "BOX END ---------------------\n"
     ]
    },
    {
     "name": "stderr",
     "output_type": "stream",
     "text": [
      "0: 384x640 2 persons, 2 laptops, 67.1ms\n",
      "Speed: 1.6ms preprocess, 67.1ms inference, 0.7ms postprocess per image at shape (1, 3, 384, 640)\n",
      "\n",
      "0: 384x640 2 persons, 1 chair, 1 laptop, 55.1ms\n",
      "Speed: 1.5ms preprocess, 55.1ms inference, 0.7ms postprocess per image at shape (1, 3, 384, 640)\n",
      "\n"
     ]
    },
    {
     "name": "stdout",
     "output_type": "stream",
     "text": [
      "BOX START ---------------------\n",
      " person \n",
      "BOX END ---------------------\n",
      "BOX START ---------------------\n",
      " person \n",
      "BOX END ---------------------\n",
      "BOX START ---------------------\n",
      " person \n",
      "BOX END ---------------------\n",
      "BOX START ---------------------\n",
      " person \n",
      "BOX END ---------------------\n"
     ]
    },
    {
     "name": "stderr",
     "output_type": "stream",
     "text": [
      "0: 384x640 2 persons, 1 bottle, 1 chair, 1 laptop, 56.7ms\n",
      "Speed: 1.4ms preprocess, 56.7ms inference, 0.8ms postprocess per image at shape (1, 3, 384, 640)\n",
      "\n",
      "0: 384x640 2 persons, 1 bottle, 3 laptops, 48.5ms\n",
      "Speed: 1.5ms preprocess, 48.5ms inference, 1.1ms postprocess per image at shape (1, 3, 384, 640)\n",
      "\n"
     ]
    },
    {
     "name": "stdout",
     "output_type": "stream",
     "text": [
      "BOX START ---------------------\n",
      " person \n",
      "BOX END ---------------------\n",
      "BOX START ---------------------\n",
      " person \n",
      "BOX END ---------------------\n",
      "BOX START ---------------------\n",
      " person \n",
      "BOX END ---------------------\n",
      "BOX START ---------------------\n",
      " person \n",
      "BOX END ---------------------\n"
     ]
    },
    {
     "name": "stderr",
     "output_type": "stream",
     "text": [
      "0: 384x640 2 persons, 1 bottle, 2 laptops, 53.3ms\n",
      "Speed: 1.4ms preprocess, 53.3ms inference, 0.8ms postprocess per image at shape (1, 3, 384, 640)\n",
      "\n",
      "0: 384x640 2 persons, 50.3ms\n",
      "Speed: 1.7ms preprocess, 50.3ms inference, 0.7ms postprocess per image at shape (1, 3, 384, 640)\n"
     ]
    },
    {
     "name": "stdout",
     "output_type": "stream",
     "text": [
      "BOX START ---------------------\n",
      " person \n",
      "BOX END ---------------------\n",
      "BOX START ---------------------\n",
      " person \n",
      "BOX END ---------------------\n",
      "BOX START ---------------------\n",
      " person \n",
      "BOX END ---------------------\n",
      "BOX START ---------------------\n",
      " person \n",
      "BOX END ---------------------\n"
     ]
    },
    {
     "name": "stderr",
     "output_type": "stream",
     "text": [
      "\n",
      "0: 384x640 2 persons, 1 laptop, 53.7ms\n",
      "Speed: 1.5ms preprocess, 53.7ms inference, 0.7ms postprocess per image at shape (1, 3, 384, 640)\n",
      "\n",
      "0: 384x640 2 persons, 1 laptop, 51.4ms\n",
      "Speed: 1.5ms preprocess, 51.4ms inference, 0.7ms postprocess per image at shape (1, 3, 384, 640)\n",
      "\n"
     ]
    },
    {
     "name": "stdout",
     "output_type": "stream",
     "text": [
      "BOX START ---------------------\n",
      " person \n",
      "BOX END ---------------------\n",
      "BOX START ---------------------\n",
      " person \n",
      "BOX END ---------------------\n",
      "BOX START ---------------------\n",
      " person \n",
      "BOX END ---------------------\n",
      "BOX START ---------------------\n",
      " person \n",
      "BOX END ---------------------\n"
     ]
    },
    {
     "name": "stderr",
     "output_type": "stream",
     "text": [
      "0: 384x640 1 person, 53.0ms\n",
      "Speed: 1.4ms preprocess, 53.0ms inference, 0.7ms postprocess per image at shape (1, 3, 384, 640)\n",
      "\n",
      "0: 384x640 1 person, 49.4ms\n",
      "Speed: 1.4ms preprocess, 49.4ms inference, 0.6ms postprocess per image at shape (1, 3, 384, 640)\n",
      "\n"
     ]
    },
    {
     "name": "stdout",
     "output_type": "stream",
     "text": [
      "BOX START ---------------------\n",
      " person \n",
      "BOX END ---------------------\n",
      "BOX START ---------------------\n",
      " person \n",
      "BOX END ---------------------\n"
     ]
    },
    {
     "name": "stderr",
     "output_type": "stream",
     "text": [
      "0: 384x640 1 person, 53.5ms\n",
      "Speed: 1.5ms preprocess, 53.5ms inference, 0.9ms postprocess per image at shape (1, 3, 384, 640)\n",
      "\n",
      "0: 384x640 1 person, 2 chairs, 1 dining table, 51.6ms\n",
      "Speed: 1.5ms preprocess, 51.6ms inference, 0.6ms postprocess per image at shape (1, 3, 384, 640)\n",
      "\n"
     ]
    },
    {
     "name": "stdout",
     "output_type": "stream",
     "text": [
      "BOX START ---------------------\n",
      " person \n",
      "BOX END ---------------------\n",
      "BOX START ---------------------\n",
      " person \n",
      "BOX END ---------------------\n"
     ]
    },
    {
     "name": "stderr",
     "output_type": "stream",
     "text": [
      "0: 384x640 1 person, 2 chairs, 1 dining table, 1 laptop, 52.6ms\n",
      "Speed: 1.6ms preprocess, 52.6ms inference, 0.6ms postprocess per image at shape (1, 3, 384, 640)\n",
      "\n",
      "0: 384x640 1 person, 1 chair, 50.1ms\n",
      "Speed: 1.4ms preprocess, 50.1ms inference, 0.6ms postprocess per image at shape (1, 3, 384, 640)\n",
      "\n"
     ]
    },
    {
     "name": "stdout",
     "output_type": "stream",
     "text": [
      "BOX START ---------------------\n",
      " person \n",
      "BOX END ---------------------\n",
      "BOX START ---------------------\n",
      " person \n",
      "BOX END ---------------------\n"
     ]
    },
    {
     "name": "stderr",
     "output_type": "stream",
     "text": [
      "0: 384x640 1 person, 113.7ms\n",
      "Speed: 1.4ms preprocess, 113.7ms inference, 0.8ms postprocess per image at shape (1, 3, 384, 640)\n",
      "\n",
      "0: 384x640 1 person, 1 laptop, 63.7ms\n",
      "Speed: 1.6ms preprocess, 63.7ms inference, 0.8ms postprocess per image at shape (1, 3, 384, 640)\n",
      "\n"
     ]
    },
    {
     "name": "stdout",
     "output_type": "stream",
     "text": [
      "BOX START ---------------------\n",
      " person \n",
      "BOX END ---------------------\n",
      "BOX START ---------------------\n",
      " person \n",
      "BOX END ---------------------\n"
     ]
    },
    {
     "name": "stderr",
     "output_type": "stream",
     "text": [
      "0: 384x640 1 person, 1 chair, 2 laptops, 52.5ms\n",
      "Speed: 1.4ms preprocess, 52.5ms inference, 0.6ms postprocess per image at shape (1, 3, 384, 640)\n",
      "\n",
      "0: 384x640 1 person, 1 chair, 2 tvs, 2 laptops, 51.0ms\n",
      "Speed: 1.5ms preprocess, 51.0ms inference, 0.7ms postprocess per image at shape (1, 3, 384, 640)\n"
     ]
    },
    {
     "name": "stdout",
     "output_type": "stream",
     "text": [
      "BOX START ---------------------\n",
      " person \n",
      "BOX END ---------------------\n",
      "BOX START ---------------------\n",
      " person \n",
      "BOX END ---------------------\n"
     ]
    },
    {
     "name": "stderr",
     "output_type": "stream",
     "text": [
      "\n",
      "0: 384x640 1 person, 1 chair, 2 laptops, 53.1ms\n",
      "Speed: 1.6ms preprocess, 53.1ms inference, 0.7ms postprocess per image at shape (1, 3, 384, 640)\n",
      "\n",
      "0: 384x640 1 person, 3 chairs, 1 dining table, 1 laptop, 48.4ms\n",
      "Speed: 1.5ms preprocess, 48.4ms inference, 0.6ms postprocess per image at shape (1, 3, 384, 640)\n"
     ]
    },
    {
     "name": "stdout",
     "output_type": "stream",
     "text": [
      "BOX START ---------------------\n",
      " person \n",
      "BOX END ---------------------\n",
      "BOX START ---------------------\n",
      " person \n",
      "BOX END ---------------------\n"
     ]
    },
    {
     "name": "stderr",
     "output_type": "stream",
     "text": [
      "\n",
      "0: 384x640 1 person, 3 laptops, 55.2ms\n",
      "Speed: 1.5ms preprocess, 55.2ms inference, 0.8ms postprocess per image at shape (1, 3, 384, 640)\n",
      "\n",
      "0: 384x640 1 person, 1 laptop, 48.5ms\n",
      "Speed: 1.5ms preprocess, 48.5ms inference, 0.6ms postprocess per image at shape (1, 3, 384, 640)\n",
      "\n"
     ]
    },
    {
     "name": "stdout",
     "output_type": "stream",
     "text": [
      "BOX START ---------------------\n",
      " person \n",
      "BOX END ---------------------\n",
      "BOX START ---------------------\n",
      " person \n",
      "BOX END ---------------------\n"
     ]
    },
    {
     "name": "stderr",
     "output_type": "stream",
     "text": [
      "0: 384x640 1 person, 2 chairs, 3 laptops, 53.6ms\n",
      "Speed: 1.7ms preprocess, 53.6ms inference, 0.7ms postprocess per image at shape (1, 3, 384, 640)\n",
      "\n",
      "0: 384x640 1 person, 2 laptops, 54.0ms\n",
      "Speed: 1.5ms preprocess, 54.0ms inference, 0.8ms postprocess per image at shape (1, 3, 384, 640)\n",
      "\n"
     ]
    },
    {
     "name": "stdout",
     "output_type": "stream",
     "text": [
      "BOX START ---------------------\n",
      " person \n",
      "BOX END ---------------------\n",
      "BOX START ---------------------\n",
      " person \n",
      "BOX END ---------------------\n"
     ]
    },
    {
     "name": "stderr",
     "output_type": "stream",
     "text": [
      "0: 384x640 1 person, 1 laptop, 50.6ms\n",
      "Speed: 1.7ms preprocess, 50.6ms inference, 0.6ms postprocess per image at shape (1, 3, 384, 640)\n",
      "\n",
      "0: 384x640 1 person, 1 laptop, 47.7ms\n",
      "Speed: 1.6ms preprocess, 47.7ms inference, 0.6ms postprocess per image at shape (1, 3, 384, 640)\n",
      "\n"
     ]
    },
    {
     "name": "stdout",
     "output_type": "stream",
     "text": [
      "BOX START ---------------------\n",
      " person \n",
      "BOX END ---------------------\n",
      "BOX START ---------------------\n",
      " person \n",
      "BOX END ---------------------\n"
     ]
    },
    {
     "name": "stderr",
     "output_type": "stream",
     "text": [
      "0: 384x640 1 person, 1 laptop, 58.9ms\n",
      "Speed: 1.6ms preprocess, 58.9ms inference, 0.8ms postprocess per image at shape (1, 3, 384, 640)\n",
      "\n",
      "0: 384x640 2 persons, 2 laptops, 48.7ms\n",
      "Speed: 1.7ms preprocess, 48.7ms inference, 0.6ms postprocess per image at shape (1, 3, 384, 640)\n",
      "\n"
     ]
    },
    {
     "name": "stdout",
     "output_type": "stream",
     "text": [
      "BOX START ---------------------\n",
      " person \n",
      "BOX END ---------------------\n",
      "BOX START ---------------------\n",
      " person \n",
      "BOX END ---------------------\n",
      "BOX START ---------------------\n",
      " person \n",
      "BOX END ---------------------\n"
     ]
    },
    {
     "name": "stderr",
     "output_type": "stream",
     "text": [
      "0: 384x640 1 person, 1 tv, 2 laptops, 49.9ms\n",
      "Speed: 2.0ms preprocess, 49.9ms inference, 1.4ms postprocess per image at shape (1, 3, 384, 640)\n",
      "\n",
      "0: 384x640 1 person, 3 laptops, 49.2ms\n",
      "Speed: 1.5ms preprocess, 49.2ms inference, 0.6ms postprocess per image at shape (1, 3, 384, 640)\n",
      "\n"
     ]
    },
    {
     "name": "stdout",
     "output_type": "stream",
     "text": [
      "BOX START ---------------------\n",
      " person \n",
      "BOX END ---------------------\n",
      "BOX START ---------------------\n",
      " person \n",
      "BOX END ---------------------\n"
     ]
    },
    {
     "name": "stderr",
     "output_type": "stream",
     "text": [
      "0: 384x640 1 person, 1 cup, 1 chair, 3 laptops, 52.9ms\n",
      "Speed: 1.4ms preprocess, 52.9ms inference, 0.8ms postprocess per image at shape (1, 3, 384, 640)\n",
      "\n",
      "0: 384x640 1 person, 1 cup, 1 chair, 2 dining tables, 2 laptops, 51.7ms\n",
      "Speed: 13.3ms preprocess, 51.7ms inference, 0.7ms postprocess per image at shape (1, 3, 384, 640)\n"
     ]
    },
    {
     "name": "stdout",
     "output_type": "stream",
     "text": [
      "BOX START ---------------------\n",
      " person \n",
      "BOX END ---------------------\n",
      "BOX START ---------------------\n",
      " person \n",
      "BOX END ---------------------\n"
     ]
    },
    {
     "name": "stderr",
     "output_type": "stream",
     "text": [
      "\n",
      "0: 384x640 1 person, 1 cup, 2 chairs, 2 laptops, 59.5ms\n",
      "Speed: 1.4ms preprocess, 59.5ms inference, 1.0ms postprocess per image at shape (1, 3, 384, 640)\n",
      "\n",
      "0: 384x640 1 person, 1 dining table, 1 laptop, 49.2ms\n",
      "Speed: 1.4ms preprocess, 49.2ms inference, 0.6ms postprocess per image at shape (1, 3, 384, 640)\n",
      "\n"
     ]
    },
    {
     "name": "stdout",
     "output_type": "stream",
     "text": [
      "BOX START ---------------------\n",
      " person \n",
      "BOX END ---------------------\n",
      "BOX START ---------------------\n",
      " person \n",
      "BOX END ---------------------\n"
     ]
    },
    {
     "name": "stderr",
     "output_type": "stream",
     "text": [
      "0: 384x640 1 person, 2 laptops, 51.9ms\n",
      "Speed: 1.8ms preprocess, 51.9ms inference, 1.0ms postprocess per image at shape (1, 3, 384, 640)\n",
      "\n",
      "0: 384x640 1 person, 1 chair, 1 tv, 50.7ms\n",
      "Speed: 1.4ms preprocess, 50.7ms inference, 0.6ms postprocess per image at shape (1, 3, 384, 640)\n",
      "\n"
     ]
    },
    {
     "name": "stdout",
     "output_type": "stream",
     "text": [
      "BOX START ---------------------\n",
      " person \n",
      "BOX END ---------------------\n",
      "BOX START ---------------------\n",
      " person \n",
      "BOX END ---------------------\n"
     ]
    },
    {
     "name": "stderr",
     "output_type": "stream",
     "text": [
      "0: 384x640 1 person, 1 backpack, 1 chair, 1 laptop, 1 cell phone, 53.5ms\n",
      "Speed: 1.5ms preprocess, 53.5ms inference, 0.8ms postprocess per image at shape (1, 3, 384, 640)\n",
      "\n",
      "0: 384x640 1 person, 1 bottle, 51.0ms\n",
      "Speed: 1.5ms preprocess, 51.0ms inference, 0.6ms postprocess per image at shape (1, 3, 384, 640)\n"
     ]
    },
    {
     "name": "stdout",
     "output_type": "stream",
     "text": [
      "BOX START ---------------------\n",
      " person \n",
      "BOX END ---------------------\n",
      "BOX START ---------------------\n",
      " person \n",
      "BOX END ---------------------\n"
     ]
    },
    {
     "name": "stderr",
     "output_type": "stream",
     "text": [
      "\n",
      "0: 384x640 1 person, 1 chair, 53.2ms\n",
      "Speed: 1.4ms preprocess, 53.2ms inference, 0.8ms postprocess per image at shape (1, 3, 384, 640)\n",
      "\n",
      "0: 384x640 1 bowl, 48.6ms\n",
      "Speed: 1.5ms preprocess, 48.6ms inference, 0.6ms postprocess per image at shape (1, 3, 384, 640)\n",
      "\n"
     ]
    },
    {
     "name": "stdout",
     "output_type": "stream",
     "text": [
      "BOX START ---------------------\n",
      " person \n",
      "BOX END ---------------------\n"
     ]
    },
    {
     "name": "stderr",
     "output_type": "stream",
     "text": [
      "0: 384x640 (no detections), 56.1ms\n",
      "Speed: 1.6ms preprocess, 56.1ms inference, 0.6ms postprocess per image at shape (1, 3, 384, 640)\n",
      "\n",
      "0: 384x640 1 person, 1 backpack, 2 chairs, 1 bed, 48.4ms\n",
      "Speed: 1.7ms preprocess, 48.4ms inference, 0.6ms postprocess per image at shape (1, 3, 384, 640)\n",
      "\n",
      "0: 384x640 1 backpack, 1 bottle, 3 chairs, 1 dining table, 1 tv, 1 laptop, 49.3ms\n",
      "Speed: 1.5ms preprocess, 49.3ms inference, 0.6ms postprocess per image at shape (1, 3, 384, 640)\n",
      "\n"
     ]
    },
    {
     "name": "stdout",
     "output_type": "stream",
     "text": [
      "BOX START ---------------------\n",
      " person \n",
      "BOX END ---------------------\n"
     ]
    },
    {
     "name": "stderr",
     "output_type": "stream",
     "text": [
      "0: 384x640 1 person, 2 chairs, 1 bed, 52.8ms\n",
      "Speed: 1.5ms preprocess, 52.8ms inference, 0.6ms postprocess per image at shape (1, 3, 384, 640)\n",
      "\n",
      "0: 384x640 1 suitcase, 1 chair, 1 bed, 51.2ms\n",
      "Speed: 1.6ms preprocess, 51.2ms inference, 0.6ms postprocess per image at shape (1, 3, 384, 640)\n",
      "\n"
     ]
    },
    {
     "name": "stdout",
     "output_type": "stream",
     "text": [
      "BOX START ---------------------\n",
      " person \n",
      "BOX END ---------------------\n"
     ]
    },
    {
     "name": "stderr",
     "output_type": "stream",
     "text": [
      "0: 384x640 1 suitcase, 1 chair, 1 bed, 61.0ms\n",
      "Speed: 1.4ms preprocess, 61.0ms inference, 0.7ms postprocess per image at shape (1, 3, 384, 640)\n",
      "\n",
      "0: 384x640 2 chairs, 1 bed, 49.3ms\n",
      "Speed: 1.5ms preprocess, 49.3ms inference, 0.6ms postprocess per image at shape (1, 3, 384, 640)\n",
      "\n",
      "0: 384x640 2 chairs, 1 book, 109.8ms\n",
      "Speed: 1.4ms preprocess, 109.8ms inference, 0.7ms postprocess per image at shape (1, 3, 384, 640)\n",
      "\n",
      "0: 384x640 1 chair, 48.9ms\n",
      "Speed: 1.4ms preprocess, 48.9ms inference, 0.6ms postprocess per image at shape (1, 3, 384, 640)\n",
      "\n",
      "0: 384x640 2 chairs, 1 laptop, 51.4ms\n",
      "Speed: 1.5ms preprocess, 51.4ms inference, 0.6ms postprocess per image at shape (1, 3, 384, 640)\n",
      "\n",
      "0: 384x640 (no detections), 51.0ms\n",
      "Speed: 1.6ms preprocess, 51.0ms inference, 0.4ms postprocess per image at shape (1, 3, 384, 640)\n",
      "\n",
      "0: 384x640 (no detections), 52.0ms\n",
      "Speed: 1.4ms preprocess, 52.0ms inference, 0.4ms postprocess per image at shape (1, 3, 384, 640)\n",
      "\n",
      "0: 384x640 (no detections), 50.8ms\n",
      "Speed: 1.9ms preprocess, 50.8ms inference, 0.4ms postprocess per image at shape (1, 3, 384, 640)\n",
      "\n",
      "0: 384x640 1 person, 1 suitcase, 51.2ms\n",
      "Speed: 1.6ms preprocess, 51.2ms inference, 0.6ms postprocess per image at shape (1, 3, 384, 640)\n",
      "\n",
      "0: 384x640 1 person, 1 chair, 49.5ms\n",
      "Speed: 1.4ms preprocess, 49.5ms inference, 0.6ms postprocess per image at shape (1, 3, 384, 640)\n",
      "\n"
     ]
    },
    {
     "name": "stdout",
     "output_type": "stream",
     "text": [
      "BOX START ---------------------\n",
      " person \n",
      "BOX END ---------------------\n",
      "BOX START ---------------------\n",
      " person \n",
      "BOX END ---------------------\n"
     ]
    },
    {
     "name": "stderr",
     "output_type": "stream",
     "text": [
      "0: 384x640 1 person, 57.0ms\n",
      "Speed: 1.4ms preprocess, 57.0ms inference, 0.7ms postprocess per image at shape (1, 3, 384, 640)\n",
      "\n",
      "0: 384x640 1 person, 50.0ms\n",
      "Speed: 1.4ms preprocess, 50.0ms inference, 0.6ms postprocess per image at shape (1, 3, 384, 640)\n",
      "\n"
     ]
    },
    {
     "name": "stdout",
     "output_type": "stream",
     "text": [
      "BOX START ---------------------\n",
      " person \n",
      "BOX END ---------------------\n",
      "BOX START ---------------------\n",
      " person \n",
      "BOX END ---------------------\n"
     ]
    },
    {
     "name": "stderr",
     "output_type": "stream",
     "text": [
      "0: 384x640 1 person, 51.9ms\n",
      "Speed: 1.8ms preprocess, 51.9ms inference, 0.6ms postprocess per image at shape (1, 3, 384, 640)\n",
      "\n",
      "0: 384x640 1 person, 48.5ms\n",
      "Speed: 1.4ms preprocess, 48.5ms inference, 0.6ms postprocess per image at shape (1, 3, 384, 640)\n",
      "\n"
     ]
    },
    {
     "name": "stdout",
     "output_type": "stream",
     "text": [
      "BOX START ---------------------\n",
      " person \n",
      "BOX END ---------------------\n",
      "BOX START ---------------------\n",
      " person \n",
      "BOX END ---------------------\n"
     ]
    },
    {
     "name": "stderr",
     "output_type": "stream",
     "text": [
      "0: 384x640 1 person, 54.7ms\n",
      "Speed: 1.5ms preprocess, 54.7ms inference, 0.9ms postprocess per image at shape (1, 3, 384, 640)\n",
      "\n",
      "0: 384x640 1 person, 49.9ms\n",
      "Speed: 1.4ms preprocess, 49.9ms inference, 0.6ms postprocess per image at shape (1, 3, 384, 640)\n",
      "\n"
     ]
    },
    {
     "name": "stdout",
     "output_type": "stream",
     "text": [
      "BOX START ---------------------\n",
      " person \n",
      "BOX END ---------------------\n",
      "BOX START ---------------------\n",
      " person \n",
      "BOX END ---------------------\n"
     ]
    },
    {
     "name": "stderr",
     "output_type": "stream",
     "text": [
      "0: 384x640 1 person, 54.4ms\n",
      "Speed: 1.4ms preprocess, 54.4ms inference, 0.6ms postprocess per image at shape (1, 3, 384, 640)\n",
      "\n",
      "0: 384x640 1 person, 51.3ms\n",
      "Speed: 1.5ms preprocess, 51.3ms inference, 0.6ms postprocess per image at shape (1, 3, 384, 640)\n",
      "\n"
     ]
    },
    {
     "name": "stdout",
     "output_type": "stream",
     "text": [
      "BOX START ---------------------\n",
      " person \n",
      "BOX END ---------------------\n",
      "BOX START ---------------------\n",
      " person \n",
      "BOX END ---------------------\n"
     ]
    },
    {
     "name": "stderr",
     "output_type": "stream",
     "text": [
      "0: 384x640 1 person, 55.0ms\n",
      "Speed: 1.5ms preprocess, 55.0ms inference, 0.8ms postprocess per image at shape (1, 3, 384, 640)\n",
      "\n",
      "0: 384x640 1 person, 54.0ms\n",
      "Speed: 1.4ms preprocess, 54.0ms inference, 1.0ms postprocess per image at shape (1, 3, 384, 640)\n"
     ]
    },
    {
     "name": "stdout",
     "output_type": "stream",
     "text": [
      "BOX START ---------------------\n",
      " person \n",
      "BOX END ---------------------\n",
      "BOX START ---------------------\n",
      " person \n",
      "BOX END ---------------------\n"
     ]
    },
    {
     "name": "stderr",
     "output_type": "stream",
     "text": [
      "\n",
      "0: 384x640 1 person, 54.7ms\n",
      "Speed: 1.6ms preprocess, 54.7ms inference, 1.0ms postprocess per image at shape (1, 3, 384, 640)\n",
      "\n",
      "0: 384x640 1 person, 49.0ms\n",
      "Speed: 1.4ms preprocess, 49.0ms inference, 0.6ms postprocess per image at shape (1, 3, 384, 640)\n",
      "\n"
     ]
    },
    {
     "name": "stdout",
     "output_type": "stream",
     "text": [
      "BOX START ---------------------\n",
      " person \n",
      "BOX END ---------------------\n",
      "BOX START ---------------------\n",
      " person \n",
      "BOX END ---------------------\n"
     ]
    },
    {
     "name": "stderr",
     "output_type": "stream",
     "text": [
      "0: 384x640 1 person, 62.6ms\n",
      "Speed: 1.5ms preprocess, 62.6ms inference, 0.7ms postprocess per image at shape (1, 3, 384, 640)\n",
      "\n",
      "0: 384x640 1 person, 61.4ms\n",
      "Speed: 1.6ms preprocess, 61.4ms inference, 0.6ms postprocess per image at shape (1, 3, 384, 640)\n",
      "\n"
     ]
    },
    {
     "name": "stdout",
     "output_type": "stream",
     "text": [
      "BOX START ---------------------\n",
      " person \n",
      "BOX END ---------------------\n",
      "BOX START ---------------------\n",
      " person \n",
      "BOX END ---------------------\n"
     ]
    },
    {
     "name": "stderr",
     "output_type": "stream",
     "text": [
      "0: 384x640 1 person, 67.2ms\n",
      "Speed: 1.7ms preprocess, 67.2ms inference, 0.7ms postprocess per image at shape (1, 3, 384, 640)\n",
      "\n",
      "0: 384x640 1 person, 60.6ms\n",
      "Speed: 1.7ms preprocess, 60.6ms inference, 0.8ms postprocess per image at shape (1, 3, 384, 640)\n",
      "\n"
     ]
    },
    {
     "name": "stdout",
     "output_type": "stream",
     "text": [
      "BOX START ---------------------\n",
      " person \n",
      "BOX END ---------------------\n",
      "BOX START ---------------------\n",
      " person \n",
      "BOX END ---------------------\n"
     ]
    },
    {
     "name": "stderr",
     "output_type": "stream",
     "text": [
      "0: 384x640 1 person, 68.4ms\n",
      "Speed: 1.7ms preprocess, 68.4ms inference, 0.7ms postprocess per image at shape (1, 3, 384, 640)\n",
      "\n",
      "0: 384x640 1 person, 62.2ms\n",
      "Speed: 1.7ms preprocess, 62.2ms inference, 0.7ms postprocess per image at shape (1, 3, 384, 640)\n",
      "\n"
     ]
    },
    {
     "name": "stdout",
     "output_type": "stream",
     "text": [
      "BOX START ---------------------\n",
      " person \n",
      "BOX END ---------------------\n",
      "BOX START ---------------------\n",
      " person \n",
      "BOX END ---------------------\n"
     ]
    },
    {
     "name": "stderr",
     "output_type": "stream",
     "text": [
      "0: 384x640 1 person, 64.3ms\n",
      "Speed: 1.6ms preprocess, 64.3ms inference, 0.8ms postprocess per image at shape (1, 3, 384, 640)\n",
      "\n",
      "0: 384x640 1 person, 50.6ms\n",
      "Speed: 1.4ms preprocess, 50.6ms inference, 0.6ms postprocess per image at shape (1, 3, 384, 640)\n",
      "\n"
     ]
    },
    {
     "name": "stdout",
     "output_type": "stream",
     "text": [
      "BOX START ---------------------\n",
      " person \n",
      "BOX END ---------------------\n",
      "BOX START ---------------------\n",
      " person \n",
      "BOX END ---------------------\n"
     ]
    },
    {
     "name": "stderr",
     "output_type": "stream",
     "text": [
      "0: 384x640 1 person, 51.0ms\n",
      "Speed: 1.5ms preprocess, 51.0ms inference, 1.3ms postprocess per image at shape (1, 3, 384, 640)\n",
      "\n",
      "0: 384x640 1 person, 49.4ms\n",
      "Speed: 1.4ms preprocess, 49.4ms inference, 0.6ms postprocess per image at shape (1, 3, 384, 640)\n",
      "\n"
     ]
    },
    {
     "name": "stdout",
     "output_type": "stream",
     "text": [
      "BOX START ---------------------\n",
      " person \n",
      "BOX END ---------------------\n",
      "BOX START ---------------------\n",
      " person \n",
      "BOX END ---------------------\n"
     ]
    },
    {
     "name": "stderr",
     "output_type": "stream",
     "text": [
      "0: 384x640 1 person, 52.8ms\n",
      "Speed: 1.4ms preprocess, 52.8ms inference, 0.7ms postprocess per image at shape (1, 3, 384, 640)\n",
      "\n",
      "0: 384x640 1 person, 49.8ms\n",
      "Speed: 2.1ms preprocess, 49.8ms inference, 0.6ms postprocess per image at shape (1, 3, 384, 640)\n",
      "\n"
     ]
    },
    {
     "name": "stdout",
     "output_type": "stream",
     "text": [
      "BOX START ---------------------\n",
      " person \n",
      "BOX END ---------------------\n",
      "BOX START ---------------------\n",
      " person \n",
      "BOX END ---------------------\n"
     ]
    },
    {
     "name": "stderr",
     "output_type": "stream",
     "text": [
      "0: 384x640 1 person, 53.6ms\n",
      "Speed: 1.4ms preprocess, 53.6ms inference, 0.6ms postprocess per image at shape (1, 3, 384, 640)\n",
      "\n",
      "0: 384x640 1 person, 49.0ms\n",
      "Speed: 1.5ms preprocess, 49.0ms inference, 0.6ms postprocess per image at shape (1, 3, 384, 640)\n",
      "\n"
     ]
    },
    {
     "name": "stdout",
     "output_type": "stream",
     "text": [
      "BOX START ---------------------\n",
      " person \n",
      "BOX END ---------------------\n",
      "BOX START ---------------------\n",
      " person \n",
      "BOX END ---------------------\n"
     ]
    },
    {
     "name": "stderr",
     "output_type": "stream",
     "text": [
      "0: 384x640 1 person, 55.7ms\n",
      "Speed: 1.5ms preprocess, 55.7ms inference, 0.8ms postprocess per image at shape (1, 3, 384, 640)\n",
      "\n",
      "0: 384x640 1 person, 50.0ms\n",
      "Speed: 1.6ms preprocess, 50.0ms inference, 0.6ms postprocess per image at shape (1, 3, 384, 640)\n",
      "\n"
     ]
    },
    {
     "name": "stdout",
     "output_type": "stream",
     "text": [
      "BOX START ---------------------\n",
      " person \n",
      "BOX END ---------------------\n",
      "BOX START ---------------------\n",
      " person \n",
      "BOX END ---------------------\n"
     ]
    },
    {
     "name": "stderr",
     "output_type": "stream",
     "text": [
      "0: 384x640 1 person, 55.2ms\n",
      "Speed: 1.5ms preprocess, 55.2ms inference, 0.8ms postprocess per image at shape (1, 3, 384, 640)\n",
      "\n",
      "0: 384x640 1 person, 52.3ms\n",
      "Speed: 1.4ms preprocess, 52.3ms inference, 0.6ms postprocess per image at shape (1, 3, 384, 640)\n"
     ]
    },
    {
     "name": "stdout",
     "output_type": "stream",
     "text": [
      "BOX START ---------------------\n",
      " person \n",
      "BOX END ---------------------\n",
      "BOX START ---------------------\n",
      " person \n",
      "BOX END ---------------------\n"
     ]
    },
    {
     "name": "stderr",
     "output_type": "stream",
     "text": [
      "\n",
      "0: 384x640 1 person, 2 tvs, 109.3ms\n",
      "Speed: 2.0ms preprocess, 109.3ms inference, 0.6ms postprocess per image at shape (1, 3, 384, 640)\n",
      "\n",
      "0: 384x640 2 persons, 1 tv, 54.9ms\n",
      "Speed: 1.9ms preprocess, 54.9ms inference, 0.8ms postprocess per image at shape (1, 3, 384, 640)\n",
      "\n"
     ]
    },
    {
     "name": "stdout",
     "output_type": "stream",
     "text": [
      "BOX START ---------------------\n",
      " person \n",
      "BOX END ---------------------\n",
      "BOX START ---------------------\n",
      " person \n",
      "BOX END ---------------------\n",
      "BOX START ---------------------\n",
      " person \n",
      "BOX END ---------------------\n"
     ]
    },
    {
     "name": "stderr",
     "output_type": "stream",
     "text": [
      "0: 384x640 2 persons, 1 tv, 58.1ms\n",
      "Speed: 1.4ms preprocess, 58.1ms inference, 0.7ms postprocess per image at shape (1, 3, 384, 640)\n",
      "\n",
      "0: 384x640 1 person, 1 tv, 56.8ms\n",
      "Speed: 1.5ms preprocess, 56.8ms inference, 0.8ms postprocess per image at shape (1, 3, 384, 640)\n",
      "\n"
     ]
    },
    {
     "name": "stdout",
     "output_type": "stream",
     "text": [
      "BOX START ---------------------\n",
      " person \n",
      "BOX END ---------------------\n",
      "BOX START ---------------------\n",
      " person \n",
      "BOX END ---------------------\n",
      "BOX START ---------------------\n",
      " person \n",
      "BOX END ---------------------\n"
     ]
    },
    {
     "name": "stderr",
     "output_type": "stream",
     "text": [
      "0: 384x640 1 person, 53.5ms\n",
      "Speed: 1.5ms preprocess, 53.5ms inference, 0.6ms postprocess per image at shape (1, 3, 384, 640)\n",
      "\n",
      "0: 384x640 1 person, 53.2ms\n",
      "Speed: 1.4ms preprocess, 53.2ms inference, 0.6ms postprocess per image at shape (1, 3, 384, 640)\n"
     ]
    },
    {
     "name": "stdout",
     "output_type": "stream",
     "text": [
      "BOX START ---------------------\n",
      " person \n",
      "BOX END ---------------------\n",
      "BOX START ---------------------\n",
      " person \n",
      "BOX END ---------------------\n"
     ]
    },
    {
     "name": "stderr",
     "output_type": "stream",
     "text": [
      "\n",
      "0: 384x640 1 person, 1 umbrella, 52.5ms\n",
      "Speed: 1.4ms preprocess, 52.5ms inference, 0.6ms postprocess per image at shape (1, 3, 384, 640)\n",
      "\n",
      "0: 384x640 1 person, 50.0ms\n",
      "Speed: 1.5ms preprocess, 50.0ms inference, 0.6ms postprocess per image at shape (1, 3, 384, 640)\n",
      "\n"
     ]
    },
    {
     "name": "stdout",
     "output_type": "stream",
     "text": [
      "BOX START ---------------------\n",
      " person \n",
      "BOX END ---------------------\n",
      "BOX START ---------------------\n",
      " person \n",
      "BOX END ---------------------\n"
     ]
    },
    {
     "name": "stderr",
     "output_type": "stream",
     "text": [
      "0: 384x640 1 person, 55.8ms\n",
      "Speed: 1.7ms preprocess, 55.8ms inference, 0.9ms postprocess per image at shape (1, 3, 384, 640)\n",
      "\n",
      "0: 384x640 1 person, 50.4ms\n",
      "Speed: 1.7ms preprocess, 50.4ms inference, 0.6ms postprocess per image at shape (1, 3, 384, 640)\n",
      "\n"
     ]
    },
    {
     "name": "stdout",
     "output_type": "stream",
     "text": [
      "BOX START ---------------------\n",
      " person \n",
      "BOX END ---------------------\n",
      "BOX START ---------------------\n",
      " person \n",
      "BOX END ---------------------\n"
     ]
    },
    {
     "name": "stderr",
     "output_type": "stream",
     "text": [
      "0: 384x640 1 person, 56.3ms\n",
      "Speed: 2.0ms preprocess, 56.3ms inference, 0.9ms postprocess per image at shape (1, 3, 384, 640)\n",
      "\n",
      "0: 384x640 1 person, 50.2ms\n",
      "Speed: 1.4ms preprocess, 50.2ms inference, 0.6ms postprocess per image at shape (1, 3, 384, 640)\n",
      "\n"
     ]
    },
    {
     "name": "stdout",
     "output_type": "stream",
     "text": [
      "BOX START ---------------------\n",
      " person \n",
      "BOX END ---------------------\n",
      "BOX START ---------------------\n",
      " person \n",
      "BOX END ---------------------\n"
     ]
    },
    {
     "name": "stderr",
     "output_type": "stream",
     "text": [
      "0: 384x640 1 person, 76.5ms\n",
      "Speed: 1.5ms preprocess, 76.5ms inference, 0.7ms postprocess per image at shape (1, 3, 384, 640)\n",
      "\n",
      "0: 384x640 1 person, 51.0ms\n",
      "Speed: 2.5ms preprocess, 51.0ms inference, 0.6ms postprocess per image at shape (1, 3, 384, 640)\n",
      "\n"
     ]
    },
    {
     "name": "stdout",
     "output_type": "stream",
     "text": [
      "BOX START ---------------------\n",
      " person \n",
      "BOX END ---------------------\n",
      "BOX START ---------------------\n",
      " person \n",
      "BOX END ---------------------\n"
     ]
    },
    {
     "name": "stderr",
     "output_type": "stream",
     "text": [
      "0: 384x640 1 person, 54.8ms\n",
      "Speed: 1.4ms preprocess, 54.8ms inference, 0.8ms postprocess per image at shape (1, 3, 384, 640)\n",
      "\n",
      "0: 384x640 1 person, 51.8ms\n",
      "Speed: 1.6ms preprocess, 51.8ms inference, 0.6ms postprocess per image at shape (1, 3, 384, 640)\n",
      "\n"
     ]
    },
    {
     "name": "stdout",
     "output_type": "stream",
     "text": [
      "BOX START ---------------------\n",
      " person \n",
      "BOX END ---------------------\n",
      "BOX START ---------------------\n",
      " person \n",
      "BOX END ---------------------\n"
     ]
    },
    {
     "name": "stderr",
     "output_type": "stream",
     "text": [
      "0: 384x640 1 person, 111.0ms\n",
      "Speed: 1.8ms preprocess, 111.0ms inference, 0.6ms postprocess per image at shape (1, 3, 384, 640)\n",
      "\n",
      "0: 384x640 2 persons, 50.7ms\n",
      "Speed: 1.6ms preprocess, 50.7ms inference, 0.6ms postprocess per image at shape (1, 3, 384, 640)\n",
      "\n"
     ]
    },
    {
     "name": "stdout",
     "output_type": "stream",
     "text": [
      "BOX START ---------------------\n",
      " person \n",
      "BOX END ---------------------\n",
      "BOX START ---------------------\n",
      " person \n",
      "BOX END ---------------------\n",
      "BOX START ---------------------\n",
      " person \n",
      "BOX END ---------------------\n"
     ]
    },
    {
     "name": "stderr",
     "output_type": "stream",
     "text": [
      "0: 384x640 2 persons, 50.2ms\n",
      "Speed: 1.6ms preprocess, 50.2ms inference, 0.7ms postprocess per image at shape (1, 3, 384, 640)\n",
      "\n",
      "0: 384x640 2 persons, 50.2ms\n",
      "Speed: 1.6ms preprocess, 50.2ms inference, 0.6ms postprocess per image at shape (1, 3, 384, 640)\n",
      "\n"
     ]
    },
    {
     "name": "stdout",
     "output_type": "stream",
     "text": [
      "BOX START ---------------------\n",
      " person \n",
      "BOX END ---------------------\n",
      "BOX START ---------------------\n",
      " person \n",
      "BOX END ---------------------\n",
      "BOX START ---------------------\n",
      " person \n",
      "BOX END ---------------------\n",
      "BOX START ---------------------\n",
      " person \n",
      "BOX END ---------------------\n"
     ]
    },
    {
     "name": "stderr",
     "output_type": "stream",
     "text": [
      "0: 384x640 2 persons, 55.3ms\n",
      "Speed: 1.4ms preprocess, 55.3ms inference, 0.9ms postprocess per image at shape (1, 3, 384, 640)\n",
      "\n",
      "0: 384x640 2 persons, 49.5ms\n",
      "Speed: 1.4ms preprocess, 49.5ms inference, 0.6ms postprocess per image at shape (1, 3, 384, 640)\n",
      "\n"
     ]
    },
    {
     "name": "stdout",
     "output_type": "stream",
     "text": [
      "BOX START ---------------------\n",
      " person \n",
      "BOX END ---------------------\n",
      "BOX START ---------------------\n",
      " person \n",
      "BOX END ---------------------\n",
      "BOX START ---------------------\n",
      " person \n",
      "BOX END ---------------------\n",
      "BOX START ---------------------\n",
      " person \n",
      "BOX END ---------------------\n"
     ]
    },
    {
     "name": "stderr",
     "output_type": "stream",
     "text": [
      "0: 384x640 2 persons, 58.2ms\n",
      "Speed: 1.5ms preprocess, 58.2ms inference, 0.9ms postprocess per image at shape (1, 3, 384, 640)\n",
      "\n",
      "0: 384x640 2 persons, 50.9ms\n",
      "Speed: 1.4ms preprocess, 50.9ms inference, 0.7ms postprocess per image at shape (1, 3, 384, 640)\n",
      "\n"
     ]
    },
    {
     "name": "stdout",
     "output_type": "stream",
     "text": [
      "BOX START ---------------------\n",
      " person \n",
      "BOX END ---------------------\n",
      "BOX START ---------------------\n",
      " person \n",
      "BOX END ---------------------\n",
      "BOX START ---------------------\n",
      " person \n",
      "BOX END ---------------------\n",
      "BOX START ---------------------\n",
      " person \n",
      "BOX END ---------------------\n"
     ]
    },
    {
     "name": "stderr",
     "output_type": "stream",
     "text": [
      "0: 384x640 1 person, 55.7ms\n",
      "Speed: 1.4ms preprocess, 55.7ms inference, 0.8ms postprocess per image at shape (1, 3, 384, 640)\n",
      "\n",
      "0: 384x640 1 person, 50.7ms\n",
      "Speed: 1.6ms preprocess, 50.7ms inference, 0.6ms postprocess per image at shape (1, 3, 384, 640)\n",
      "\n"
     ]
    },
    {
     "name": "stdout",
     "output_type": "stream",
     "text": [
      "BOX START ---------------------\n",
      " person \n",
      "BOX END ---------------------\n",
      "BOX START ---------------------\n",
      " person \n",
      "BOX END ---------------------\n"
     ]
    },
    {
     "name": "stderr",
     "output_type": "stream",
     "text": [
      "0: 384x640 1 person, 56.0ms\n",
      "Speed: 1.5ms preprocess, 56.0ms inference, 0.8ms postprocess per image at shape (1, 3, 384, 640)\n",
      "\n",
      "0: 384x640 1 person, 58.1ms\n",
      "Speed: 1.5ms preprocess, 58.1ms inference, 0.7ms postprocess per image at shape (1, 3, 384, 640)\n",
      "\n"
     ]
    },
    {
     "name": "stdout",
     "output_type": "stream",
     "text": [
      "BOX START ---------------------\n",
      " person \n",
      "BOX END ---------------------\n",
      "BOX START ---------------------\n",
      " person \n",
      "BOX END ---------------------\n"
     ]
    },
    {
     "name": "stderr",
     "output_type": "stream",
     "text": [
      "0: 384x640 1 person, 1 bench, 1 chair, 1 dining table, 58.7ms\n",
      "Speed: 1.9ms preprocess, 58.7ms inference, 0.7ms postprocess per image at shape (1, 3, 384, 640)\n",
      "\n",
      "0: 384x640 1 person, 1 bench, 1 chair, 1 dining table, 52.7ms\n",
      "Speed: 1.5ms preprocess, 52.7ms inference, 0.6ms postprocess per image at shape (1, 3, 384, 640)\n",
      "\n"
     ]
    },
    {
     "name": "stdout",
     "output_type": "stream",
     "text": [
      "BOX START ---------------------\n",
      " person \n",
      "BOX END ---------------------\n",
      "BOX START ---------------------\n",
      " person \n",
      "BOX END ---------------------\n"
     ]
    },
    {
     "name": "stderr",
     "output_type": "stream",
     "text": [
      "0: 384x640 1 person, 56.8ms\n",
      "Speed: 1.4ms preprocess, 56.8ms inference, 0.8ms postprocess per image at shape (1, 3, 384, 640)\n",
      "\n",
      "0: 384x640 1 person, 50.8ms\n",
      "Speed: 1.5ms preprocess, 50.8ms inference, 0.6ms postprocess per image at shape (1, 3, 384, 640)\n",
      "\n"
     ]
    },
    {
     "name": "stdout",
     "output_type": "stream",
     "text": [
      "BOX START ---------------------\n",
      " person \n",
      "BOX END ---------------------\n",
      "BOX START ---------------------\n",
      " person \n",
      "BOX END ---------------------\n"
     ]
    },
    {
     "name": "stderr",
     "output_type": "stream",
     "text": [
      "0: 384x640 1 car, 52.3ms\n",
      "Speed: 1.4ms preprocess, 52.3ms inference, 1.1ms postprocess per image at shape (1, 3, 384, 640)\n",
      "\n",
      "0: 384x640 1 person, 49.7ms\n",
      "Speed: 1.4ms preprocess, 49.7ms inference, 0.7ms postprocess per image at shape (1, 3, 384, 640)\n",
      "\n",
      "0: 384x640 1 person, 1 car, 51.5ms\n",
      "Speed: 1.4ms preprocess, 51.5ms inference, 0.6ms postprocess per image at shape (1, 3, 384, 640)\n",
      "\n",
      "0: 384x640 1 car, 51.3ms\n",
      "Speed: 1.5ms preprocess, 51.3ms inference, 0.6ms postprocess per image at shape (1, 3, 384, 640)\n"
     ]
    },
    {
     "name": "stdout",
     "output_type": "stream",
     "text": [
      "BOX START ---------------------\n",
      " person \n",
      "BOX END ---------------------\n",
      "BOX START ---------------------\n",
      " person \n",
      "BOX END ---------------------\n"
     ]
    },
    {
     "name": "stderr",
     "output_type": "stream",
     "text": [
      "\n",
      "0: 384x640 1 bed, 65.2ms\n",
      "Speed: 7.6ms preprocess, 65.2ms inference, 0.9ms postprocess per image at shape (1, 3, 384, 640)\n",
      "\n",
      "0: 384x640 1 cup, 1 chair, 1 laptop, 67.0ms\n",
      "Speed: 1.5ms preprocess, 67.0ms inference, 0.6ms postprocess per image at shape (1, 3, 384, 640)\n",
      "\n",
      "0: 384x640 1 bottle, 1 cup, 1 chair, 1 dining table, 3 laptops, 51.2ms\n",
      "Speed: 1.4ms preprocess, 51.2ms inference, 0.6ms postprocess per image at shape (1, 3, 384, 640)\n",
      "\n",
      "0: 384x640 1 bottle, 1 cup, 1 chair, 1 tv, 3 laptops, 50.9ms\n",
      "Speed: 1.5ms preprocess, 50.9ms inference, 0.6ms postprocess per image at shape (1, 3, 384, 640)\n",
      "\n",
      "0: 384x640 1 bottle, 1 cup, 2 chairs, 3 laptops, 52.1ms\n",
      "Speed: 1.4ms preprocess, 52.1ms inference, 0.6ms postprocess per image at shape (1, 3, 384, 640)\n",
      "\n",
      "0: 384x640 1 bottle, 1 cup, 1 chair, 1 bed, 1 laptop, 49.2ms\n",
      "Speed: 1.5ms preprocess, 49.2ms inference, 0.6ms postprocess per image at shape (1, 3, 384, 640)\n",
      "\n",
      "0: 384x640 1 cup, 1 chair, 1 laptop, 51.6ms\n",
      "Speed: 1.6ms preprocess, 51.6ms inference, 0.6ms postprocess per image at shape (1, 3, 384, 640)\n",
      "\n",
      "0: 384x640 2 cups, 2 chairs, 1 tv, 3 laptops, 52.4ms\n",
      "Speed: 1.4ms preprocess, 52.4ms inference, 0.6ms postprocess per image at shape (1, 3, 384, 640)\n",
      "\n",
      "0: 384x640 1 cup, 2 chairs, 4 laptops, 1 keyboard, 50.2ms\n",
      "Speed: 1.5ms preprocess, 50.2ms inference, 0.6ms postprocess per image at shape (1, 3, 384, 640)\n",
      "\n",
      "0: 384x640 1 cup, 1 chair, 3 laptops, 51.3ms\n",
      "Speed: 1.5ms preprocess, 51.3ms inference, 0.6ms postprocess per image at shape (1, 3, 384, 640)\n",
      "\n",
      "0: 384x640 1 cup, 2 chairs, 2 laptops, 50.0ms\n",
      "Speed: 1.5ms preprocess, 50.0ms inference, 0.6ms postprocess per image at shape (1, 3, 384, 640)\n",
      "\n",
      "0: 384x640 1 cup, 2 chairs, 2 laptops, 50.1ms\n",
      "Speed: 1.4ms preprocess, 50.1ms inference, 0.6ms postprocess per image at shape (1, 3, 384, 640)\n",
      "\n",
      "0: 384x640 1 cup, 2 chairs, 3 laptops, 52.1ms\n",
      "Speed: 1.5ms preprocess, 52.1ms inference, 0.8ms postprocess per image at shape (1, 3, 384, 640)\n",
      "\n",
      "0: 384x640 1 cup, 1 chair, 2 laptops, 49.8ms\n",
      "Speed: 1.4ms preprocess, 49.8ms inference, 0.6ms postprocess per image at shape (1, 3, 384, 640)\n",
      "\n",
      "0: 384x640 1 cup, 3 chairs, 2 laptops, 51.7ms\n",
      "Speed: 1.4ms preprocess, 51.7ms inference, 0.8ms postprocess per image at shape (1, 3, 384, 640)\n",
      "\n",
      "0: 384x640 1 cup, 2 chairs, 1 laptop, 53.0ms\n",
      "Speed: 1.6ms preprocess, 53.0ms inference, 0.6ms postprocess per image at shape (1, 3, 384, 640)\n",
      "\n",
      "0: 384x640 1 cup, 2 chairs, 1 dining table, 2 laptops, 50.0ms\n",
      "Speed: 1.4ms preprocess, 50.0ms inference, 0.7ms postprocess per image at shape (1, 3, 384, 640)\n",
      "\n",
      "0: 384x640 2 chairs, 2 laptops, 53.8ms\n",
      "Speed: 1.5ms preprocess, 53.8ms inference, 0.8ms postprocess per image at shape (1, 3, 384, 640)\n",
      "\n",
      "0: 384x640 2 chairs, 1 laptop, 50.6ms\n",
      "Speed: 1.6ms preprocess, 50.6ms inference, 0.6ms postprocess per image at shape (1, 3, 384, 640)\n",
      "\n",
      "0: 384x640 2 chairs, 1 laptop, 49.8ms\n",
      "Speed: 1.5ms preprocess, 49.8ms inference, 0.6ms postprocess per image at shape (1, 3, 384, 640)\n",
      "\n",
      "0: 384x640 3 chairs, 2 laptops, 50.6ms\n",
      "Speed: 1.4ms preprocess, 50.6ms inference, 0.6ms postprocess per image at shape (1, 3, 384, 640)\n",
      "\n",
      "0: 384x640 2 chairs, 1 laptop, 50.4ms\n",
      "Speed: 1.7ms preprocess, 50.4ms inference, 0.6ms postprocess per image at shape (1, 3, 384, 640)\n",
      "\n",
      "0: 384x640 3 chairs, 2 laptops, 52.5ms\n",
      "Speed: 1.6ms preprocess, 52.5ms inference, 0.9ms postprocess per image at shape (1, 3, 384, 640)\n",
      "\n",
      "0: 384x640 3 chairs, 1 dining table, 2 laptops, 52.0ms\n",
      "Speed: 1.5ms preprocess, 52.0ms inference, 0.6ms postprocess per image at shape (1, 3, 384, 640)\n",
      "\n",
      "0: 384x640 1 laptop, 51.1ms\n",
      "Speed: 1.4ms preprocess, 51.1ms inference, 0.6ms postprocess per image at shape (1, 3, 384, 640)\n",
      "\n",
      "0: 384x640 2 bottles, 1 cup, 1 chair, 1 dining table, 1 laptop, 53.7ms\n",
      "Speed: 1.4ms preprocess, 53.7ms inference, 0.8ms postprocess per image at shape (1, 3, 384, 640)\n",
      "\n",
      "0: 384x640 2 bottles, 1 cup, 1 chair, 1 dining table, 1 laptop, 51.0ms\n",
      "Speed: 1.5ms preprocess, 51.0ms inference, 0.6ms postprocess per image at shape (1, 3, 384, 640)\n",
      "\n",
      "0: 384x640 2 bottles, 1 cup, 2 chairs, 1 tv, 2 laptops, 55.2ms\n",
      "Speed: 1.6ms preprocess, 55.2ms inference, 0.7ms postprocess per image at shape (1, 3, 384, 640)\n",
      "\n",
      "0: 384x640 1 bottle, 1 cup, 3 chairs, 1 tv, 2 laptops, 51.3ms\n",
      "Speed: 1.4ms preprocess, 51.3ms inference, 0.6ms postprocess per image at shape (1, 3, 384, 640)\n",
      "\n",
      "0: 384x640 2 bottles, 1 cup, 4 chairs, 1 dining table, 1 tv, 2 laptops, 51.7ms\n",
      "Speed: 1.4ms preprocess, 51.7ms inference, 0.6ms postprocess per image at shape (1, 3, 384, 640)\n",
      "\n",
      "0: 384x640 2 bottles, 1 cup, 2 chairs, 1 tv, 2 laptops, 50.5ms\n",
      "Speed: 1.4ms preprocess, 50.5ms inference, 0.6ms postprocess per image at shape (1, 3, 384, 640)\n",
      "\n",
      "0: 384x640 2 bottles, 1 cup, 1 chair, 1 tv, 1 laptop, 52.1ms\n",
      "Speed: 1.4ms preprocess, 52.1ms inference, 0.6ms postprocess per image at shape (1, 3, 384, 640)\n",
      "\n",
      "0: 384x640 1 bottle, 1 cup, 2 chairs, 1 dining table, 51.5ms\n",
      "Speed: 1.4ms preprocess, 51.5ms inference, 0.6ms postprocess per image at shape (1, 3, 384, 640)\n",
      "\n",
      "0: 384x640 3 bottles, 1 cup, 1 chair, 1 laptop, 50.4ms\n",
      "Speed: 1.5ms preprocess, 50.4ms inference, 0.6ms postprocess per image at shape (1, 3, 384, 640)\n",
      "\n",
      "0: 384x640 2 bottles, 1 cup, 4 chairs, 1 dining table, 1 laptop, 50.6ms\n",
      "Speed: 1.4ms preprocess, 50.6ms inference, 0.6ms postprocess per image at shape (1, 3, 384, 640)\n",
      "\n",
      "0: 384x640 3 bottles, 1 cup, 1 chair, 1 laptop, 51.4ms\n",
      "Speed: 1.5ms preprocess, 51.4ms inference, 0.6ms postprocess per image at shape (1, 3, 384, 640)\n",
      "\n",
      "0: 384x640 2 bottles, 1 cup, 2 chairs, 2 laptops, 52.1ms\n",
      "Speed: 1.5ms preprocess, 52.1ms inference, 0.9ms postprocess per image at shape (1, 3, 384, 640)\n",
      "\n",
      "0: 384x640 2 bottles, 1 cup, 2 chairs, 1 laptop, 1 sink, 52.9ms\n",
      "Speed: 1.4ms preprocess, 52.9ms inference, 0.6ms postprocess per image at shape (1, 3, 384, 640)\n",
      "\n",
      "0: 384x640 2 bottles, 1 cup, 3 chairs, 2 laptops, 52.0ms\n",
      "Speed: 1.5ms preprocess, 52.0ms inference, 0.6ms postprocess per image at shape (1, 3, 384, 640)\n",
      "\n",
      "0: 384x640 4 bottles, 1 cup, 2 chairs, 2 laptops, 51.0ms\n",
      "Speed: 1.5ms preprocess, 51.0ms inference, 0.6ms postprocess per image at shape (1, 3, 384, 640)\n",
      "\n",
      "0: 384x640 3 bottles, 1 cup, 2 chairs, 2 laptops, 52.2ms\n",
      "Speed: 1.5ms preprocess, 52.2ms inference, 0.7ms postprocess per image at shape (1, 3, 384, 640)\n",
      "\n",
      "0: 384x640 2 bottles, 1 cup, 2 chairs, 1 laptop, 52.0ms\n",
      "Speed: 1.5ms preprocess, 52.0ms inference, 0.7ms postprocess per image at shape (1, 3, 384, 640)\n",
      "\n",
      "0: 384x640 3 bottles, 1 cup, 1 chair, 1 dining table, 1 laptop, 50.6ms\n",
      "Speed: 1.4ms preprocess, 50.6ms inference, 0.6ms postprocess per image at shape (1, 3, 384, 640)\n",
      "\n",
      "0: 384x640 3 bottles, 1 cup, 2 chairs, 1 laptop, 50.8ms\n",
      "Speed: 1.5ms preprocess, 50.8ms inference, 0.7ms postprocess per image at shape (1, 3, 384, 640)\n",
      "\n",
      "0: 384x640 3 bottles, 1 cup, 2 chairs, 1 laptop, 54.5ms\n",
      "Speed: 1.4ms preprocess, 54.5ms inference, 0.9ms postprocess per image at shape (1, 3, 384, 640)\n",
      "\n",
      "0: 384x640 3 bottles, 1 cup, 3 chairs, 1 laptop, 1 cell phone, 1 sink, 50.9ms\n",
      "Speed: 1.4ms preprocess, 50.9ms inference, 0.6ms postprocess per image at shape (1, 3, 384, 640)\n",
      "\n",
      "0: 384x640 2 bottles, 1 cup, 3 chairs, 1 laptop, 50.6ms\n",
      "Speed: 1.5ms preprocess, 50.6ms inference, 0.6ms postprocess per image at shape (1, 3, 384, 640)\n",
      "\n",
      "0: 384x640 3 bottles, 1 cup, 2 chairs, 2 laptops, 1 cell phone, 52.3ms\n",
      "Speed: 1.4ms preprocess, 52.3ms inference, 0.7ms postprocess per image at shape (1, 3, 384, 640)\n",
      "\n",
      "0: 384x640 2 bottles, 1 cup, 1 chair, 1 laptop, 1 cell phone, 1 sink, 50.2ms\n",
      "Speed: 1.5ms preprocess, 50.2ms inference, 1.0ms postprocess per image at shape (1, 3, 384, 640)\n",
      "\n",
      "0: 384x640 2 bottles, 1 cup, 2 chairs, 2 laptops, 54.9ms\n",
      "Speed: 1.5ms preprocess, 54.9ms inference, 0.8ms postprocess per image at shape (1, 3, 384, 640)\n",
      "\n",
      "0: 384x640 2 bottles, 1 cup, 2 chairs, 2 laptops, 1 cell phone, 51.1ms\n",
      "Speed: 1.5ms preprocess, 51.1ms inference, 0.8ms postprocess per image at shape (1, 3, 384, 640)\n",
      "\n",
      "0: 384x640 3 bottles, 1 cup, 3 chairs, 2 laptops, 51.8ms\n",
      "Speed: 1.6ms preprocess, 51.8ms inference, 0.8ms postprocess per image at shape (1, 3, 384, 640)\n",
      "\n",
      "0: 384x640 3 bottles, 1 cup, 1 chair, 1 laptop, 50.8ms\n",
      "Speed: 1.6ms preprocess, 50.8ms inference, 0.6ms postprocess per image at shape (1, 3, 384, 640)\n",
      "\n",
      "0: 384x640 3 bottles, 1 cup, 1 chair, 2 laptops, 49.9ms\n",
      "Speed: 1.5ms preprocess, 49.9ms inference, 0.6ms postprocess per image at shape (1, 3, 384, 640)\n",
      "\n",
      "0: 384x640 3 bottles, 1 cup, 1 chair, 1 laptop, 52.2ms\n",
      "Speed: 1.4ms preprocess, 52.2ms inference, 0.7ms postprocess per image at shape (1, 3, 384, 640)\n",
      "\n",
      "0: 384x640 3 bottles, 1 cup, 1 chair, 1 laptop, 52.4ms\n",
      "Speed: 1.5ms preprocess, 52.4ms inference, 0.7ms postprocess per image at shape (1, 3, 384, 640)\n",
      "\n",
      "0: 384x640 3 bottles, 1 cup, 1 chair, 1 laptop, 1 cell phone, 72.7ms\n",
      "Speed: 1.6ms preprocess, 72.7ms inference, 0.6ms postprocess per image at shape (1, 3, 384, 640)\n",
      "\n",
      "0: 384x640 4 bottles, 1 cup, 1 chair, 1 laptop, 1 book, 52.6ms\n",
      "Speed: 1.6ms preprocess, 52.6ms inference, 0.6ms postprocess per image at shape (1, 3, 384, 640)\n",
      "\n",
      "0: 384x640 3 bottles, 1 cup, 1 chair, 1 laptop, 53.9ms\n",
      "Speed: 1.4ms preprocess, 53.9ms inference, 0.8ms postprocess per image at shape (1, 3, 384, 640)\n",
      "\n",
      "0: 384x640 3 bottles, 1 cup, 1 chair, 1 laptop, 54.8ms\n",
      "Speed: 1.4ms preprocess, 54.8ms inference, 1.0ms postprocess per image at shape (1, 3, 384, 640)\n",
      "\n",
      "0: 384x640 3 bottles, 1 cup, 1 chair, 1 laptop, 52.0ms\n",
      "Speed: 1.5ms preprocess, 52.0ms inference, 0.6ms postprocess per image at shape (1, 3, 384, 640)\n",
      "\n",
      "0: 384x640 2 bottles, 1 cup, 1 chair, 1 laptop, 51.5ms\n",
      "Speed: 1.4ms preprocess, 51.5ms inference, 0.6ms postprocess per image at shape (1, 3, 384, 640)\n",
      "\n",
      "0: 384x640 3 bottles, 1 cup, 1 chair, 1 laptop, 52.2ms\n",
      "Speed: 1.5ms preprocess, 52.2ms inference, 0.6ms postprocess per image at shape (1, 3, 384, 640)\n",
      "\n",
      "0: 384x640 3 bottles, 1 cup, 1 chair, 2 laptops, 50.6ms\n",
      "Speed: 1.7ms preprocess, 50.6ms inference, 0.6ms postprocess per image at shape (1, 3, 384, 640)\n",
      "\n",
      "0: 384x640 4 bottles, 1 cup, 1 chair, 1 laptop, 61.5ms\n",
      "Speed: 1.5ms preprocess, 61.5ms inference, 1.0ms postprocess per image at shape (1, 3, 384, 640)\n",
      "\n",
      "0: 384x640 3 bottles, 1 chair, 1 laptop, 1 cell phone, 51.6ms\n",
      "Speed: 1.4ms preprocess, 51.6ms inference, 0.6ms postprocess per image at shape (1, 3, 384, 640)\n",
      "\n",
      "0: 384x640 1 bottle, 53.3ms\n",
      "Speed: 1.5ms preprocess, 53.3ms inference, 0.8ms postprocess per image at shape (1, 3, 384, 640)\n",
      "\n",
      "0: 384x640 3 bottles, 1 chair, 1 laptop, 51.2ms\n",
      "Speed: 1.5ms preprocess, 51.2ms inference, 0.6ms postprocess per image at shape (1, 3, 384, 640)\n",
      "\n",
      "0: 384x640 3 bottles, 1 chair, 1 laptop, 50.0ms\n",
      "Speed: 1.4ms preprocess, 50.0ms inference, 0.7ms postprocess per image at shape (1, 3, 384, 640)\n",
      "\n",
      "0: 384x640 3 bottles, 1 chair, 1 laptop, 51.4ms\n",
      "Speed: 1.5ms preprocess, 51.4ms inference, 0.8ms postprocess per image at shape (1, 3, 384, 640)\n",
      "\n",
      "0: 384x640 1 suitcase, 2 bottles, 2 chairs, 1 laptop, 51.3ms\n",
      "Speed: 1.5ms preprocess, 51.3ms inference, 0.7ms postprocess per image at shape (1, 3, 384, 640)\n",
      "\n",
      "0: 384x640 1 suitcase, 2 bottles, 2 chairs, 50.4ms\n",
      "Speed: 1.4ms preprocess, 50.4ms inference, 0.6ms postprocess per image at shape (1, 3, 384, 640)\n",
      "\n",
      "0: 384x640 1 suitcase, 2 bottles, 2 chairs, 51.3ms\n",
      "Speed: 1.5ms preprocess, 51.3ms inference, 0.7ms postprocess per image at shape (1, 3, 384, 640)\n",
      "\n",
      "0: 384x640 2 bottles, 1 chair, 1 laptop, 52.2ms\n",
      "Speed: 1.4ms preprocess, 52.2ms inference, 0.8ms postprocess per image at shape (1, 3, 384, 640)\n",
      "\n",
      "0: 384x640 1 couch, 2 beds, 52.3ms\n",
      "Speed: 1.5ms preprocess, 52.3ms inference, 0.9ms postprocess per image at shape (1, 3, 384, 640)\n",
      "\n",
      "0: 384x640 4 chairs, 1 couch, 51.3ms\n",
      "Speed: 1.5ms preprocess, 51.3ms inference, 0.7ms postprocess per image at shape (1, 3, 384, 640)\n",
      "\n",
      "0: 384x640 4 chairs, 1 couch, 51.0ms\n",
      "Speed: 1.4ms preprocess, 51.0ms inference, 0.6ms postprocess per image at shape (1, 3, 384, 640)\n",
      "\n",
      "0: 384x640 3 chairs, 52.1ms\n",
      "Speed: 1.6ms preprocess, 52.1ms inference, 0.7ms postprocess per image at shape (1, 3, 384, 640)\n",
      "\n",
      "0: 384x640 2 chairs, 1 sink, 110.5ms\n",
      "Speed: 1.5ms preprocess, 110.5ms inference, 0.6ms postprocess per image at shape (1, 3, 384, 640)\n",
      "\n",
      "0: 384x640 6 chairs, 2 dining tables, 50.8ms\n",
      "Speed: 1.4ms preprocess, 50.8ms inference, 0.9ms postprocess per image at shape (1, 3, 384, 640)\n",
      "\n",
      "0: 384x640 4 chairs, 2 dining tables, 1 sink, 51.7ms\n",
      "Speed: 1.4ms preprocess, 51.7ms inference, 0.8ms postprocess per image at shape (1, 3, 384, 640)\n",
      "\n",
      "0: 384x640 4 chairs, 2 dining tables, 1 tv, 1 sink, 56.0ms\n",
      "Speed: 1.5ms preprocess, 56.0ms inference, 1.0ms postprocess per image at shape (1, 3, 384, 640)\n",
      "\n",
      "0: 384x640 7 chairs, 2 dining tables, 52.3ms\n",
      "Speed: 1.5ms preprocess, 52.3ms inference, 0.8ms postprocess per image at shape (1, 3, 384, 640)\n",
      "\n",
      "0: 384x640 5 chairs, 2 dining tables, 1 tv, 52.6ms\n",
      "Speed: 1.4ms preprocess, 52.6ms inference, 0.9ms postprocess per image at shape (1, 3, 384, 640)\n",
      "\n",
      "0: 384x640 5 chairs, 2 dining tables, 49.9ms\n",
      "Speed: 1.4ms preprocess, 49.9ms inference, 0.6ms postprocess per image at shape (1, 3, 384, 640)\n",
      "\n",
      "0: 384x640 1 cup, 1 chair, 2 dining tables, 1 tv, 52.3ms\n",
      "Speed: 1.5ms preprocess, 52.3ms inference, 0.7ms postprocess per image at shape (1, 3, 384, 640)\n",
      "\n",
      "0: 384x640 1 bottle, 51.8ms\n",
      "Speed: 1.5ms preprocess, 51.8ms inference, 0.9ms postprocess per image at shape (1, 3, 384, 640)\n",
      "\n",
      "0: 384x640 2 bottles, 52.1ms\n",
      "Speed: 1.4ms preprocess, 52.1ms inference, 0.7ms postprocess per image at shape (1, 3, 384, 640)\n",
      "\n",
      "0: 384x640 2 bottles, 2 tvs, 52.7ms\n",
      "Speed: 1.5ms preprocess, 52.7ms inference, 1.0ms postprocess per image at shape (1, 3, 384, 640)\n",
      "\n",
      "0: 384x640 2 bottles, 1 tv, 56.4ms\n",
      "Speed: 1.5ms preprocess, 56.4ms inference, 0.8ms postprocess per image at shape (1, 3, 384, 640)\n",
      "\n",
      "0: 384x640 2 bottles, 4 chairs, 1 tv, 52.0ms\n",
      "Speed: 1.5ms preprocess, 52.0ms inference, 0.8ms postprocess per image at shape (1, 3, 384, 640)\n",
      "\n",
      "0: 384x640 2 bottles, 7 chairs, 1 tv, 51.0ms\n",
      "Speed: 1.5ms preprocess, 51.0ms inference, 0.9ms postprocess per image at shape (1, 3, 384, 640)\n",
      "\n",
      "0: 384x640 2 bottles, 4 chairs, 1 tv, 54.5ms\n",
      "Speed: 1.7ms preprocess, 54.5ms inference, 0.9ms postprocess per image at shape (1, 3, 384, 640)\n",
      "\n",
      "0: 384x640 2 bottles, 9 chairs, 1 dining table, 74.2ms\n",
      "Speed: 1.9ms preprocess, 74.2ms inference, 0.9ms postprocess per image at shape (1, 3, 384, 640)\n",
      "\n",
      "0: 384x640 2 bottles, 9 chairs, 2 dining tables, 81.0ms\n",
      "Speed: 11.2ms preprocess, 81.0ms inference, 0.9ms postprocess per image at shape (1, 3, 384, 640)\n",
      "\n",
      "0: 384x640 2 bottles, 5 chairs, 72.1ms\n",
      "Speed: 1.7ms preprocess, 72.1ms inference, 0.8ms postprocess per image at shape (1, 3, 384, 640)\n",
      "\n",
      "0: 384x640 2 bottles, 7 chairs, 80.7ms\n",
      "Speed: 1.8ms preprocess, 80.7ms inference, 0.8ms postprocess per image at shape (1, 3, 384, 640)\n",
      "\n",
      "0: 384x640 2 bottles, 6 chairs, 80.4ms\n",
      "Speed: 1.8ms preprocess, 80.4ms inference, 0.7ms postprocess per image at shape (1, 3, 384, 640)\n",
      "\n",
      "0: 384x640 1 backpack, 2 bottles, 9 chairs, 52.5ms\n",
      "Speed: 1.4ms preprocess, 52.5ms inference, 0.8ms postprocess per image at shape (1, 3, 384, 640)\n",
      "\n",
      "0: 384x640 2 bottles, 5 chairs, 1 laptop, 51.9ms\n",
      "Speed: 1.5ms preprocess, 51.9ms inference, 0.8ms postprocess per image at shape (1, 3, 384, 640)\n",
      "\n",
      "0: 384x640 2 bottles, 3 chairs, 1 tv, 53.3ms\n",
      "Speed: 2.0ms preprocess, 53.3ms inference, 0.9ms postprocess per image at shape (1, 3, 384, 640)\n",
      "\n",
      "0: 384x640 2 bottles, 4 chairs, 52.1ms\n",
      "Speed: 1.5ms preprocess, 52.1ms inference, 0.8ms postprocess per image at shape (1, 3, 384, 640)\n",
      "\n",
      "0: 384x640 2 bottles, 3 chairs, 1 tv, 1 laptop, 50.2ms\n",
      "Speed: 1.5ms preprocess, 50.2ms inference, 0.8ms postprocess per image at shape (1, 3, 384, 640)\n",
      "\n",
      "0: 384x640 2 bottles, 4 chairs, 1 laptop, 50.7ms\n",
      "Speed: 1.5ms preprocess, 50.7ms inference, 0.9ms postprocess per image at shape (1, 3, 384, 640)\n",
      "\n",
      "0: 384x640 2 bottles, 4 chairs, 1 tv, 1 laptop, 51.9ms\n",
      "Speed: 1.5ms preprocess, 51.9ms inference, 1.0ms postprocess per image at shape (1, 3, 384, 640)\n",
      "\n",
      "0: 384x640 2 bottles, 4 chairs, 1 laptop, 66.2ms\n",
      "Speed: 1.5ms preprocess, 66.2ms inference, 0.7ms postprocess per image at shape (1, 3, 384, 640)\n",
      "\n",
      "0: 384x640 2 bottles, 4 chairs, 1 tv, 1 laptop, 55.0ms\n",
      "Speed: 1.5ms preprocess, 55.0ms inference, 0.8ms postprocess per image at shape (1, 3, 384, 640)\n",
      "\n",
      "0: 384x640 1 bottle, 1 chair, 54.4ms\n",
      "Speed: 1.6ms preprocess, 54.4ms inference, 0.8ms postprocess per image at shape (1, 3, 384, 640)\n",
      "\n",
      "0: 384x640 1 chair, 51.5ms\n",
      "Speed: 1.4ms preprocess, 51.5ms inference, 0.8ms postprocess per image at shape (1, 3, 384, 640)\n",
      "\n",
      "0: 384x640 1 bottle, 1 cup, 4 chairs, 1 laptop, 1 sink, 56.0ms\n",
      "Speed: 1.5ms preprocess, 56.0ms inference, 0.8ms postprocess per image at shape (1, 3, 384, 640)\n",
      "\n",
      "0: 384x640 1 bottle, 1 cup, 2 chairs, 1 laptop, 67.8ms\n",
      "Speed: 1.5ms preprocess, 67.8ms inference, 0.7ms postprocess per image at shape (1, 3, 384, 640)\n",
      "\n",
      "0: 384x640 (no detections), 52.9ms\n",
      "Speed: 1.7ms preprocess, 52.9ms inference, 0.5ms postprocess per image at shape (1, 3, 384, 640)\n",
      "\n",
      "0: 384x640 1 cup, 1 chair, 53.5ms\n",
      "Speed: 1.7ms preprocess, 53.5ms inference, 0.9ms postprocess per image at shape (1, 3, 384, 640)\n",
      "\n",
      "0: 384x640 1 cup, 3 chairs, 5 laptops, 1 cell phone, 51.6ms\n",
      "Speed: 1.4ms preprocess, 51.6ms inference, 0.7ms postprocess per image at shape (1, 3, 384, 640)\n",
      "\n",
      "0: 384x640 1 cup, 1 chair, 1 laptop, 53.3ms\n",
      "Speed: 1.5ms preprocess, 53.3ms inference, 0.7ms postprocess per image at shape (1, 3, 384, 640)\n",
      "\n",
      "0: 384x640 1 cup, 3 chairs, 1 bed, 2 laptops, 1 remote, 58.7ms\n",
      "Speed: 1.5ms preprocess, 58.7ms inference, 0.7ms postprocess per image at shape (1, 3, 384, 640)\n",
      "\n",
      "0: 384x640 (no detections), 52.5ms\n",
      "Speed: 1.4ms preprocess, 52.5ms inference, 0.5ms postprocess per image at shape (1, 3, 384, 640)\n",
      "\n",
      "0: 384x640 1 chair, 1 bed, 53.5ms\n",
      "Speed: 1.4ms preprocess, 53.5ms inference, 0.7ms postprocess per image at shape (1, 3, 384, 640)\n",
      "\n",
      "0: 384x640 1 bed, 52.0ms\n",
      "Speed: 1.5ms preprocess, 52.0ms inference, 0.7ms postprocess per image at shape (1, 3, 384, 640)\n",
      "\n",
      "0: 384x640 (no detections), 50.8ms\n",
      "Speed: 1.6ms preprocess, 50.8ms inference, 0.6ms postprocess per image at shape (1, 3, 384, 640)\n",
      "\n",
      "0: 384x640 2 persons, 54.4ms\n",
      "Speed: 1.4ms preprocess, 54.4ms inference, 0.7ms postprocess per image at shape (1, 3, 384, 640)\n",
      "\n",
      "0: 384x640 1 person, 1 oven, 51.6ms\n",
      "Speed: 1.4ms preprocess, 51.6ms inference, 0.8ms postprocess per image at shape (1, 3, 384, 640)\n",
      "\n"
     ]
    },
    {
     "name": "stdout",
     "output_type": "stream",
     "text": [
      "BOX START ---------------------\n",
      " person \n",
      "BOX END ---------------------\n",
      "BOX START ---------------------\n",
      " person \n",
      "BOX END ---------------------\n",
      "BOX START ---------------------\n",
      " person \n",
      "BOX END ---------------------\n"
     ]
    },
    {
     "name": "stderr",
     "output_type": "stream",
     "text": [
      "0: 384x640 1 person, 77.1ms\n",
      "Speed: 1.4ms preprocess, 77.1ms inference, 0.6ms postprocess per image at shape (1, 3, 384, 640)\n",
      "\n",
      "0: 384x640 1 person, 60.1ms\n",
      "Speed: 1.5ms preprocess, 60.1ms inference, 0.6ms postprocess per image at shape (1, 3, 384, 640)\n",
      "\n"
     ]
    },
    {
     "name": "stdout",
     "output_type": "stream",
     "text": [
      "BOX START ---------------------\n",
      " person \n",
      "BOX END ---------------------\n",
      "BOX START ---------------------\n",
      " person \n",
      "BOX END ---------------------\n"
     ]
    },
    {
     "name": "stderr",
     "output_type": "stream",
     "text": [
      "0: 384x640 1 person, 60.7ms\n",
      "Speed: 1.5ms preprocess, 60.7ms inference, 0.9ms postprocess per image at shape (1, 3, 384, 640)\n",
      "\n",
      "0: 384x640 1 person, 52.2ms\n",
      "Speed: 1.5ms preprocess, 52.2ms inference, 0.9ms postprocess per image at shape (1, 3, 384, 640)\n",
      "\n"
     ]
    },
    {
     "name": "stdout",
     "output_type": "stream",
     "text": [
      "BOX START ---------------------\n",
      " person \n",
      "BOX END ---------------------\n",
      "BOX START ---------------------\n",
      " person \n",
      "BOX END ---------------------\n"
     ]
    },
    {
     "name": "stderr",
     "output_type": "stream",
     "text": [
      "0: 384x640 1 person, 1 laptop, 58.8ms\n",
      "Speed: 1.4ms preprocess, 58.8ms inference, 0.6ms postprocess per image at shape (1, 3, 384, 640)\n",
      "\n",
      "0: 384x640 2 laptops, 65.8ms\n",
      "Speed: 1.7ms preprocess, 65.8ms inference, 0.6ms postprocess per image at shape (1, 3, 384, 640)\n",
      "\n"
     ]
    },
    {
     "name": "stdout",
     "output_type": "stream",
     "text": [
      "BOX START ---------------------\n",
      " person \n",
      "BOX END ---------------------\n"
     ]
    },
    {
     "name": "stderr",
     "output_type": "stream",
     "text": [
      "0: 384x640 2 laptops, 54.0ms\n",
      "Speed: 1.4ms preprocess, 54.0ms inference, 0.9ms postprocess per image at shape (1, 3, 384, 640)\n",
      "\n",
      "0: 384x640 2 laptops, 1 cell phone, 51.0ms\n",
      "Speed: 1.4ms preprocess, 51.0ms inference, 0.8ms postprocess per image at shape (1, 3, 384, 640)\n",
      "\n",
      "0: 384x640 1 laptop, 3 cell phones, 50.2ms\n",
      "Speed: 1.4ms preprocess, 50.2ms inference, 0.6ms postprocess per image at shape (1, 3, 384, 640)\n",
      "\n",
      "0: 384x640 1 bottle, 1 laptop, 51.1ms\n",
      "Speed: 1.4ms preprocess, 51.1ms inference, 0.8ms postprocess per image at shape (1, 3, 384, 640)\n",
      "\n",
      "0: 384x640 (no detections), 71.2ms\n",
      "Speed: 1.7ms preprocess, 71.2ms inference, 0.4ms postprocess per image at shape (1, 3, 384, 640)\n",
      "\n",
      "0: 384x640 2 bottles, 2 tvs, 1 laptop, 51.9ms\n",
      "Speed: 1.6ms preprocess, 51.9ms inference, 0.8ms postprocess per image at shape (1, 3, 384, 640)\n",
      "\n",
      "0: 384x640 1 bottle, 1 laptop, 52.0ms\n",
      "Speed: 1.4ms preprocess, 52.0ms inference, 0.9ms postprocess per image at shape (1, 3, 384, 640)\n",
      "\n",
      "0: 384x640 1 bottle, 1 laptop, 52.6ms\n",
      "Speed: 1.5ms preprocess, 52.6ms inference, 0.8ms postprocess per image at shape (1, 3, 384, 640)\n",
      "\n",
      "0: 384x640 1 cup, 1 laptop, 52.1ms\n",
      "Speed: 1.5ms preprocess, 52.1ms inference, 0.6ms postprocess per image at shape (1, 3, 384, 640)\n",
      "\n",
      "0: 384x640 1 cup, 1 vase, 53.5ms\n",
      "Speed: 1.5ms preprocess, 53.5ms inference, 1.2ms postprocess per image at shape (1, 3, 384, 640)\n",
      "\n",
      "0: 384x640 1 cup, 51.0ms\n",
      "Speed: 1.4ms preprocess, 51.0ms inference, 0.8ms postprocess per image at shape (1, 3, 384, 640)\n",
      "\n",
      "0: 384x640 1 mouse, 52.4ms\n",
      "Speed: 2.0ms preprocess, 52.4ms inference, 0.8ms postprocess per image at shape (1, 3, 384, 640)\n",
      "\n",
      "0: 384x640 (no detections), 54.6ms\n",
      "Speed: 1.4ms preprocess, 54.6ms inference, 0.4ms postprocess per image at shape (1, 3, 384, 640)\n",
      "\n",
      "0: 384x640 1 bottle, 1 cell phone, 54.2ms\n",
      "Speed: 1.5ms preprocess, 54.2ms inference, 0.7ms postprocess per image at shape (1, 3, 384, 640)\n",
      "\n",
      "0: 384x640 1 bottle, 3 cell phones, 55.3ms\n",
      "Speed: 1.6ms preprocess, 55.3ms inference, 0.8ms postprocess per image at shape (1, 3, 384, 640)\n",
      "\n",
      "0: 384x640 1 cell phone, 52.0ms\n",
      "Speed: 1.4ms preprocess, 52.0ms inference, 0.8ms postprocess per image at shape (1, 3, 384, 640)\n",
      "\n",
      "0: 384x640 1 bottle, 1 laptop, 52.7ms\n",
      "Speed: 1.4ms preprocess, 52.7ms inference, 0.9ms postprocess per image at shape (1, 3, 384, 640)\n",
      "\n",
      "0: 384x640 (no detections), 52.4ms\n",
      "Speed: 1.4ms preprocess, 52.4ms inference, 0.5ms postprocess per image at shape (1, 3, 384, 640)\n",
      "\n",
      "0: 384x640 3 bottles, 52.3ms\n",
      "Speed: 1.4ms preprocess, 52.3ms inference, 1.0ms postprocess per image at shape (1, 3, 384, 640)\n",
      "\n",
      "0: 384x640 1 tv, 1 cell phone, 50.7ms\n",
      "Speed: 1.6ms preprocess, 50.7ms inference, 0.7ms postprocess per image at shape (1, 3, 384, 640)\n",
      "\n",
      "0: 384x640 1 bottle, 52.3ms\n",
      "Speed: 1.7ms preprocess, 52.3ms inference, 1.0ms postprocess per image at shape (1, 3, 384, 640)\n",
      "\n",
      "0: 384x640 1 bottle, 2 cell phones, 51.4ms\n",
      "Speed: 1.4ms preprocess, 51.4ms inference, 0.8ms postprocess per image at shape (1, 3, 384, 640)\n",
      "\n",
      "0: 384x640 1 cell phone, 51.8ms\n",
      "Speed: 1.4ms preprocess, 51.8ms inference, 0.7ms postprocess per image at shape (1, 3, 384, 640)\n",
      "\n",
      "0: 384x640 1 laptop, 1 cell phone, 53.6ms\n",
      "Speed: 1.4ms preprocess, 53.6ms inference, 0.8ms postprocess per image at shape (1, 3, 384, 640)\n",
      "\n",
      "0: 384x640 1 suitcase, 1 laptop, 55.3ms\n",
      "Speed: 1.4ms preprocess, 55.3ms inference, 0.7ms postprocess per image at shape (1, 3, 384, 640)\n",
      "\n",
      "0: 384x640 2 suitcases, 1 laptop, 54.6ms\n",
      "Speed: 1.6ms preprocess, 54.6ms inference, 0.8ms postprocess per image at shape (1, 3, 384, 640)\n",
      "\n",
      "0: 384x640 1 person, 1 suitcase, 2 chairs, 1 laptop, 50.3ms\n",
      "Speed: 1.5ms preprocess, 50.3ms inference, 0.6ms postprocess per image at shape (1, 3, 384, 640)\n",
      "\n",
      "0: 384x640 1 person, 1 suitcase, 2 chairs, 1 laptop, 55.7ms\n",
      "Speed: 1.4ms preprocess, 55.7ms inference, 0.7ms postprocess per image at shape (1, 3, 384, 640)\n"
     ]
    },
    {
     "name": "stdout",
     "output_type": "stream",
     "text": [
      "BOX START ---------------------\n",
      " person \n",
      "BOX END ---------------------\n",
      "BOX START ---------------------\n",
      " person \n",
      "BOX END ---------------------\n"
     ]
    },
    {
     "name": "stderr",
     "output_type": "stream",
     "text": [
      "\n",
      "0: 384x640 1 suitcase, 2 chairs, 1 laptop, 55.2ms\n",
      "Speed: 1.4ms preprocess, 55.2ms inference, 0.8ms postprocess per image at shape (1, 3, 384, 640)\n",
      "\n",
      "0: 384x640 1 laptop, 53.9ms\n",
      "Speed: 1.4ms preprocess, 53.9ms inference, 0.8ms postprocess per image at shape (1, 3, 384, 640)\n",
      "\n",
      "0: 384x640 1 chair, 1 laptop, 51.8ms\n",
      "Speed: 1.5ms preprocess, 51.8ms inference, 0.8ms postprocess per image at shape (1, 3, 384, 640)\n",
      "\n",
      "0: 384x640 1 toilet, 51.1ms\n",
      "Speed: 1.6ms preprocess, 51.1ms inference, 0.6ms postprocess per image at shape (1, 3, 384, 640)\n",
      "\n",
      "0: 384x640 1 sink, 53.2ms\n",
      "Speed: 1.4ms preprocess, 53.2ms inference, 1.0ms postprocess per image at shape (1, 3, 384, 640)\n",
      "\n",
      "0: 384x640 2 bottles, 6 chairs, 1 dining table, 1 laptop, 1 sink, 51.5ms\n",
      "Speed: 1.6ms preprocess, 51.5ms inference, 0.8ms postprocess per image at shape (1, 3, 384, 640)\n",
      "\n",
      "0: 384x640 1 person, 2 bottles, 7 chairs, 1 dining table, 1 tv, 1 sink, 54.1ms\n",
      "Speed: 1.5ms preprocess, 54.1ms inference, 0.7ms postprocess per image at shape (1, 3, 384, 640)\n",
      "\n",
      "0: 384x640 2 bottles, 1 tv, 1 sink, 52.8ms\n",
      "Speed: 1.4ms preprocess, 52.8ms inference, 0.8ms postprocess per image at shape (1, 3, 384, 640)\n",
      "\n"
     ]
    },
    {
     "name": "stdout",
     "output_type": "stream",
     "text": [
      "BOX START ---------------------\n",
      " person \n",
      "BOX END ---------------------\n"
     ]
    },
    {
     "name": "stderr",
     "output_type": "stream",
     "text": [
      "0: 384x640 1 person, 2 bottles, 3 chairs, 1 tv, 1 sink, 55.3ms\n",
      "Speed: 1.7ms preprocess, 55.3ms inference, 0.9ms postprocess per image at shape (1, 3, 384, 640)\n",
      "\n",
      "0: 384x640 1 person, 2 bottles, 5 chairs, 1 tv, 1 laptop, 51.1ms\n",
      "Speed: 1.4ms preprocess, 51.1ms inference, 0.8ms postprocess per image at shape (1, 3, 384, 640)\n",
      "\n"
     ]
    },
    {
     "name": "stdout",
     "output_type": "stream",
     "text": [
      "BOX START ---------------------\n",
      " person \n",
      "BOX END ---------------------\n",
      "BOX START ---------------------\n",
      " person \n",
      "BOX END ---------------------\n"
     ]
    },
    {
     "name": "stderr",
     "output_type": "stream",
     "text": [
      "0: 384x640 1 person, 2 bottles, 3 chairs, 2 tvs, 1 laptop, 57.8ms\n",
      "Speed: 1.4ms preprocess, 57.8ms inference, 0.7ms postprocess per image at shape (1, 3, 384, 640)\n",
      "\n",
      "0: 384x640 1 person, 2 bottles, 4 chairs, 53.0ms\n",
      "Speed: 1.4ms preprocess, 53.0ms inference, 0.9ms postprocess per image at shape (1, 3, 384, 640)\n",
      "\n"
     ]
    },
    {
     "name": "stdout",
     "output_type": "stream",
     "text": [
      "BOX START ---------------------\n",
      " person \n",
      "BOX END ---------------------\n",
      "BOX START ---------------------\n",
      " person \n",
      "BOX END ---------------------\n"
     ]
    },
    {
     "name": "stderr",
     "output_type": "stream",
     "text": [
      "0: 384x640 1 person, 2 bottles, 4 chairs, 111.8ms\n",
      "Speed: 1.6ms preprocess, 111.8ms inference, 0.6ms postprocess per image at shape (1, 3, 384, 640)\n",
      "\n",
      "0: 384x640 2 bottles, 1 sink, 64.3ms\n",
      "Speed: 1.5ms preprocess, 64.3ms inference, 0.6ms postprocess per image at shape (1, 3, 384, 640)\n",
      "\n"
     ]
    },
    {
     "name": "stdout",
     "output_type": "stream",
     "text": [
      "BOX START ---------------------\n",
      " person \n",
      "BOX END ---------------------\n"
     ]
    },
    {
     "name": "stderr",
     "output_type": "stream",
     "text": [
      "0: 384x640 2 bottles, 1 chair, 1 sink, 60.5ms\n",
      "Speed: 1.5ms preprocess, 60.5ms inference, 0.6ms postprocess per image at shape (1, 3, 384, 640)\n",
      "\n",
      "0: 384x640 1 person, 2 bottles, 1 chair, 1 cell phone, 1 oven, 52.3ms\n",
      "Speed: 1.5ms preprocess, 52.3ms inference, 0.8ms postprocess per image at shape (1, 3, 384, 640)\n",
      "\n",
      "0: 384x640 1 person, 3 bottles, 5 chairs, 1 dining table, 1 tv, 1 laptop, 52.9ms\n",
      "Speed: 1.5ms preprocess, 52.9ms inference, 0.7ms postprocess per image at shape (1, 3, 384, 640)\n"
     ]
    },
    {
     "name": "stdout",
     "output_type": "stream",
     "text": [
      "BOX START ---------------------\n",
      " person \n",
      "BOX END ---------------------\n",
      "BOX START ---------------------\n",
      " person \n",
      "BOX END ---------------------\n"
     ]
    },
    {
     "name": "stderr",
     "output_type": "stream",
     "text": [
      "\n",
      "0: 384x640 1 person, 3 bottles, 5 chairs, 1 dining table, 1 tv, 1 laptop, 57.6ms\n",
      "Speed: 1.4ms preprocess, 57.6ms inference, 0.7ms postprocess per image at shape (1, 3, 384, 640)\n",
      "\n",
      "0: 384x640 1 person, 2 bottles, 7 chairs, 1 dining table, 1 tv, 1 laptop, 52.4ms\n",
      "Speed: 1.4ms preprocess, 52.4ms inference, 0.9ms postprocess per image at shape (1, 3, 384, 640)\n"
     ]
    },
    {
     "name": "stdout",
     "output_type": "stream",
     "text": [
      "BOX START ---------------------\n",
      " person \n",
      "BOX END ---------------------\n",
      "BOX START ---------------------\n",
      " person \n",
      "BOX END ---------------------\n"
     ]
    },
    {
     "name": "stderr",
     "output_type": "stream",
     "text": [
      "\n",
      "0: 384x640 1 person, 2 bottles, 4 chairs, 1 tv, 1 laptop, 56.9ms\n",
      "Speed: 1.6ms preprocess, 56.9ms inference, 0.8ms postprocess per image at shape (1, 3, 384, 640)\n",
      "\n",
      "0: 384x640 2 bottles, 4 chairs, 1 tv, 1 laptop, 52.5ms\n",
      "Speed: 1.4ms preprocess, 52.5ms inference, 0.8ms postprocess per image at shape (1, 3, 384, 640)\n",
      "\n"
     ]
    },
    {
     "name": "stdout",
     "output_type": "stream",
     "text": [
      "BOX START ---------------------\n",
      " person \n",
      "BOX END ---------------------\n"
     ]
    },
    {
     "name": "stderr",
     "output_type": "stream",
     "text": [
      "0: 384x640 1 person, 2 bottles, 5 chairs, 1 laptop, 53.5ms\n",
      "Speed: 1.5ms preprocess, 53.5ms inference, 0.9ms postprocess per image at shape (1, 3, 384, 640)\n",
      "\n",
      "0: 384x640 1 person, 1 bottle, 2 chairs, 1 tv, 1 sink, 54.3ms\n",
      "Speed: 1.5ms preprocess, 54.3ms inference, 0.9ms postprocess per image at shape (1, 3, 384, 640)\n"
     ]
    },
    {
     "name": "stdout",
     "output_type": "stream",
     "text": [
      "BOX START ---------------------\n",
      " person \n",
      "BOX END ---------------------\n",
      "BOX START ---------------------\n",
      " person \n",
      "BOX END ---------------------\n"
     ]
    },
    {
     "name": "stderr",
     "output_type": "stream",
     "text": [
      "\n",
      "0: 384x640 1 person, 1 bottle, 2 chairs, 1 tv, 1 sink, 57.6ms\n",
      "Speed: 1.3ms preprocess, 57.6ms inference, 0.6ms postprocess per image at shape (1, 3, 384, 640)\n",
      "\n",
      "0: 384x640 1 person, 1 bottle, 5 chairs, 52.2ms\n",
      "Speed: 1.6ms preprocess, 52.2ms inference, 1.0ms postprocess per image at shape (1, 3, 384, 640)\n",
      "\n"
     ]
    },
    {
     "name": "stdout",
     "output_type": "stream",
     "text": [
      "BOX START ---------------------\n",
      " person \n",
      "BOX END ---------------------\n",
      "BOX START ---------------------\n",
      " person \n",
      "BOX END ---------------------\n"
     ]
    },
    {
     "name": "stderr",
     "output_type": "stream",
     "text": [
      "0: 384x640 1 person, 1 bottle, 6 chairs, 1 tv, 1 laptop, 55.3ms\n",
      "Speed: 1.7ms preprocess, 55.3ms inference, 0.7ms postprocess per image at shape (1, 3, 384, 640)\n",
      "\n",
      "0: 384x640 1 person, 1 bottle, 5 chairs, 1 dining table, 1 tv, 52.4ms\n",
      "Speed: 1.5ms preprocess, 52.4ms inference, 0.7ms postprocess per image at shape (1, 3, 384, 640)\n",
      "\n"
     ]
    },
    {
     "name": "stdout",
     "output_type": "stream",
     "text": [
      "BOX START ---------------------\n",
      " person \n",
      "BOX END ---------------------\n",
      "BOX START ---------------------\n",
      " person \n",
      "BOX END ---------------------\n"
     ]
    },
    {
     "name": "stderr",
     "output_type": "stream",
     "text": [
      "0: 384x640 1 person, 1 bottle, 5 chairs, 55.1ms\n",
      "Speed: 1.8ms preprocess, 55.1ms inference, 0.8ms postprocess per image at shape (1, 3, 384, 640)\n",
      "\n",
      "0: 384x640 1 person, 2 bottles, 5 chairs, 1 dining table, 57.8ms\n",
      "Speed: 1.6ms preprocess, 57.8ms inference, 0.7ms postprocess per image at shape (1, 3, 384, 640)\n"
     ]
    },
    {
     "name": "stdout",
     "output_type": "stream",
     "text": [
      "BOX START ---------------------\n",
      " person \n",
      "BOX END ---------------------\n",
      "BOX START ---------------------\n",
      " person \n",
      "BOX END ---------------------\n"
     ]
    },
    {
     "name": "stderr",
     "output_type": "stream",
     "text": [
      "\n",
      "0: 384x640 1 person, 3 bottles, 4 chairs, 1 dining table, 1 laptop, 1 sink, 123.3ms\n",
      "Speed: 2.5ms preprocess, 123.3ms inference, 1.0ms postprocess per image at shape (1, 3, 384, 640)\n",
      "\n",
      "0: 384x640 2 bottles, 6 chairs, 1 tv, 51.8ms\n",
      "Speed: 1.5ms preprocess, 51.8ms inference, 0.7ms postprocess per image at shape (1, 3, 384, 640)\n",
      "\n"
     ]
    },
    {
     "name": "stdout",
     "output_type": "stream",
     "text": [
      "BOX START ---------------------\n",
      " person \n",
      "BOX END ---------------------\n"
     ]
    },
    {
     "name": "stderr",
     "output_type": "stream",
     "text": [
      "0: 384x640 2 bottles, 7 chairs, 1 dining table, 1 laptop, 57.3ms\n",
      "Speed: 1.5ms preprocess, 57.3ms inference, 0.9ms postprocess per image at shape (1, 3, 384, 640)\n",
      "\n",
      "0: 384x640 2 bottles, 5 chairs, 1 dining table, 1 laptop, 51.6ms\n",
      "Speed: 1.4ms preprocess, 51.6ms inference, 1.0ms postprocess per image at shape (1, 3, 384, 640)\n",
      "\n",
      "0: 384x640 1 bottle, 8 chairs, 1 dining table, 1 laptop, 52.9ms\n",
      "Speed: 1.5ms preprocess, 52.9ms inference, 0.8ms postprocess per image at shape (1, 3, 384, 640)\n",
      "\n",
      "0: 384x640 2 bottles, 7 chairs, 1 dining table, 1 laptop, 52.1ms\n",
      "Speed: 1.4ms preprocess, 52.1ms inference, 0.9ms postprocess per image at shape (1, 3, 384, 640)\n",
      "\n",
      "0: 384x640 1 person, 2 bottles, 5 chairs, 1 laptop, 55.4ms\n",
      "Speed: 1.5ms preprocess, 55.4ms inference, 0.7ms postprocess per image at shape (1, 3, 384, 640)\n",
      "\n",
      "0: 384x640 1 person, 2 bottles, 4 chairs, 1 oven, 53.3ms\n",
      "Speed: 1.4ms preprocess, 53.3ms inference, 0.9ms postprocess per image at shape (1, 3, 384, 640)\n",
      "\n"
     ]
    },
    {
     "name": "stdout",
     "output_type": "stream",
     "text": [
      "BOX START ---------------------\n",
      " person \n",
      "BOX END ---------------------\n",
      "BOX START ---------------------\n",
      " person \n",
      "BOX END ---------------------\n"
     ]
    },
    {
     "name": "stderr",
     "output_type": "stream",
     "text": [
      "0: 384x640 1 person, 2 bottles, 5 chairs, 1 oven, 57.4ms\n",
      "Speed: 1.5ms preprocess, 57.4ms inference, 0.7ms postprocess per image at shape (1, 3, 384, 640)\n",
      "\n",
      "0: 384x640 1 person, 2 bottles, 6 chairs, 1 dining table, 1 oven, 51.6ms\n",
      "Speed: 1.6ms preprocess, 51.6ms inference, 0.8ms postprocess per image at shape (1, 3, 384, 640)\n",
      "\n"
     ]
    },
    {
     "name": "stdout",
     "output_type": "stream",
     "text": [
      "BOX START ---------------------\n",
      " person \n",
      "BOX END ---------------------\n",
      "BOX START ---------------------\n",
      " person \n",
      "BOX END ---------------------\n"
     ]
    },
    {
     "name": "stderr",
     "output_type": "stream",
     "text": [
      "0: 384x640 1 person, 2 bottles, 4 chairs, 1 dining table, 1 oven, 57.6ms\n",
      "Speed: 1.4ms preprocess, 57.6ms inference, 0.6ms postprocess per image at shape (1, 3, 384, 640)\n",
      "\n",
      "0: 384x640 1 person, 2 bottles, 4 chairs, 1 dining table, 1 oven, 52.3ms\n",
      "Speed: 1.4ms preprocess, 52.3ms inference, 0.7ms postprocess per image at shape (1, 3, 384, 640)\n",
      "\n"
     ]
    },
    {
     "name": "stdout",
     "output_type": "stream",
     "text": [
      "BOX START ---------------------\n",
      " person \n",
      "BOX END ---------------------\n",
      "BOX START ---------------------\n",
      " person \n",
      "BOX END ---------------------\n"
     ]
    },
    {
     "name": "stderr",
     "output_type": "stream",
     "text": [
      "0: 384x640 1 person, 2 bottles, 6 chairs, 1 dining table, 1 oven, 57.9ms\n",
      "Speed: 1.5ms preprocess, 57.9ms inference, 0.7ms postprocess per image at shape (1, 3, 384, 640)\n",
      "\n",
      "0: 384x640 1 person, 2 bottles, 4 chairs, 54.3ms\n",
      "Speed: 1.5ms preprocess, 54.3ms inference, 0.9ms postprocess per image at shape (1, 3, 384, 640)\n",
      "\n"
     ]
    },
    {
     "name": "stdout",
     "output_type": "stream",
     "text": [
      "BOX START ---------------------\n",
      " person \n",
      "BOX END ---------------------\n",
      "BOX START ---------------------\n",
      " person \n",
      "BOX END ---------------------\n"
     ]
    },
    {
     "name": "stderr",
     "output_type": "stream",
     "text": [
      "0: 384x640 1 person, 2 bottles, 5 chairs, 1 dining table, 1 oven, 58.4ms\n",
      "Speed: 1.5ms preprocess, 58.4ms inference, 0.7ms postprocess per image at shape (1, 3, 384, 640)\n",
      "\n",
      "0: 384x640 1 person, 2 bottles, 4 chairs, 2 dining tables, 53.4ms\n",
      "Speed: 1.5ms preprocess, 53.4ms inference, 0.9ms postprocess per image at shape (1, 3, 384, 640)\n",
      "\n"
     ]
    },
    {
     "name": "stdout",
     "output_type": "stream",
     "text": [
      "BOX START ---------------------\n",
      " person \n",
      "BOX END ---------------------\n",
      "BOX START ---------------------\n",
      " person \n",
      "BOX END ---------------------\n"
     ]
    },
    {
     "name": "stderr",
     "output_type": "stream",
     "text": [
      "0: 384x640 1 person, 58.5ms\n",
      "Speed: 1.4ms preprocess, 58.5ms inference, 0.6ms postprocess per image at shape (1, 3, 384, 640)\n",
      "\n",
      "0: 384x640 2 bottles, 1 sink, 53.6ms\n",
      "Speed: 1.5ms preprocess, 53.6ms inference, 0.8ms postprocess per image at shape (1, 3, 384, 640)\n",
      "\n"
     ]
    },
    {
     "name": "stdout",
     "output_type": "stream",
     "text": [
      "BOX START ---------------------\n",
      " person \n",
      "BOX END ---------------------\n"
     ]
    },
    {
     "name": "stderr",
     "output_type": "stream",
     "text": [
      "0: 384x640 1 backpack, 1 bottle, 4 chairs, 57.1ms\n",
      "Speed: 1.7ms preprocess, 57.1ms inference, 0.8ms postprocess per image at shape (1, 3, 384, 640)\n",
      "\n",
      "0: 384x640 2 bottles, 6 chairs, 53.6ms\n",
      "Speed: 1.4ms preprocess, 53.6ms inference, 0.7ms postprocess per image at shape (1, 3, 384, 640)\n",
      "\n",
      "0: 384x640 1 bottle, 6 chairs, 1 tv, 50.7ms\n",
      "Speed: 1.5ms preprocess, 50.7ms inference, 0.8ms postprocess per image at shape (1, 3, 384, 640)\n",
      "\n",
      "0: 384x640 1 bottle, 7 chairs, 1 tv, 1 laptop, 52.7ms\n",
      "Speed: 1.4ms preprocess, 52.7ms inference, 0.8ms postprocess per image at shape (1, 3, 384, 640)\n",
      "\n",
      "0: 384x640 1 bottle, 8 chairs, 1 laptop, 50.7ms\n",
      "Speed: 1.6ms preprocess, 50.7ms inference, 0.8ms postprocess per image at shape (1, 3, 384, 640)\n",
      "\n",
      "0: 384x640 1 backpack, 1 bottle, 10 chairs, 93.6ms\n",
      "Speed: 1.6ms preprocess, 93.6ms inference, 1.2ms postprocess per image at shape (1, 3, 384, 640)\n",
      "\n",
      "0: 384x640 1 person, 1 bottle, 1 cup, 8 chairs, 1 dining table, 1 tv, 52.4ms\n",
      "Speed: 1.5ms preprocess, 52.4ms inference, 0.8ms postprocess per image at shape (1, 3, 384, 640)\n",
      "\n",
      "0: 384x640 1 person, 2 bottles, 3 chairs, 1 tv, 69.3ms\n",
      "Speed: 11.8ms preprocess, 69.3ms inference, 0.7ms postprocess per image at shape (1, 3, 384, 640)\n"
     ]
    },
    {
     "name": "stdout",
     "output_type": "stream",
     "text": [
      "BOX START ---------------------\n",
      " person \n",
      "BOX END ---------------------\n",
      "BOX START ---------------------\n",
      " person \n",
      "BOX END ---------------------\n"
     ]
    },
    {
     "name": "stderr",
     "output_type": "stream",
     "text": [
      "\n",
      "0: 384x640 1 person, 1 bottle, 7 chairs, 1 tv, 65.5ms\n",
      "Speed: 1.6ms preprocess, 65.5ms inference, 0.7ms postprocess per image at shape (1, 3, 384, 640)\n",
      "\n",
      "0: 384x640 1 person, 1 bottle, 8 chairs, 1 tv, 57.5ms\n",
      "Speed: 1.5ms preprocess, 57.5ms inference, 0.6ms postprocess per image at shape (1, 3, 384, 640)\n",
      "\n"
     ]
    },
    {
     "name": "stdout",
     "output_type": "stream",
     "text": [
      "BOX START ---------------------\n",
      " person \n",
      "BOX END ---------------------\n",
      "BOX START ---------------------\n",
      " person \n",
      "BOX END ---------------------\n"
     ]
    },
    {
     "name": "stderr",
     "output_type": "stream",
     "text": [
      "0: 384x640 1 person, 7 chairs, 1 tv, 1 laptop, 64.2ms\n",
      "Speed: 1.5ms preprocess, 64.2ms inference, 0.7ms postprocess per image at shape (1, 3, 384, 640)\n",
      "\n",
      "0: 384x640 1 person, 4 chairs, 1 tv, 55.1ms\n",
      "Speed: 1.7ms preprocess, 55.1ms inference, 0.9ms postprocess per image at shape (1, 3, 384, 640)\n",
      "\n"
     ]
    },
    {
     "name": "stdout",
     "output_type": "stream",
     "text": [
      "BOX START ---------------------\n",
      " person \n",
      "BOX END ---------------------\n",
      "BOX START ---------------------\n",
      " person \n",
      "BOX END ---------------------\n"
     ]
    },
    {
     "name": "stderr",
     "output_type": "stream",
     "text": [
      "0: 384x640 1 person, 7 chairs, 1 tv, 58.2ms\n",
      "Speed: 1.5ms preprocess, 58.2ms inference, 0.7ms postprocess per image at shape (1, 3, 384, 640)\n",
      "\n",
      "0: 384x640 1 person, 4 chairs, 1 tv, 58.8ms\n",
      "Speed: 1.7ms preprocess, 58.8ms inference, 0.8ms postprocess per image at shape (1, 3, 384, 640)\n",
      "\n"
     ]
    },
    {
     "name": "stdout",
     "output_type": "stream",
     "text": [
      "BOX START ---------------------\n",
      " person \n",
      "BOX END ---------------------\n",
      "BOX START ---------------------\n",
      " person \n",
      "BOX END ---------------------\n"
     ]
    },
    {
     "name": "stderr",
     "output_type": "stream",
     "text": [
      "0: 384x640 1 person, 6 chairs, 1 dining table, 1 tv, 57.0ms\n",
      "Speed: 1.4ms preprocess, 57.0ms inference, 0.7ms postprocess per image at shape (1, 3, 384, 640)\n",
      "\n",
      "0: 384x640 1 person, 1 bottle, 1 chair, 2 tvs, 53.0ms\n",
      "Speed: 1.4ms preprocess, 53.0ms inference, 0.8ms postprocess per image at shape (1, 3, 384, 640)\n",
      "\n"
     ]
    },
    {
     "name": "stdout",
     "output_type": "stream",
     "text": [
      "BOX START ---------------------\n",
      " person \n",
      "BOX END ---------------------\n",
      "BOX START ---------------------\n",
      " person \n",
      "BOX END ---------------------\n"
     ]
    },
    {
     "name": "stderr",
     "output_type": "stream",
     "text": [
      "0: 384x640 1 person, 1 bottle, 58.6ms\n",
      "Speed: 1.9ms preprocess, 58.6ms inference, 0.7ms postprocess per image at shape (1, 3, 384, 640)\n",
      "\n",
      "0: 384x640 1 person, 2 bottles, 3 chairs, 1 remote, 56.7ms\n",
      "Speed: 1.4ms preprocess, 56.7ms inference, 0.9ms postprocess per image at shape (1, 3, 384, 640)\n",
      "\n"
     ]
    },
    {
     "name": "stdout",
     "output_type": "stream",
     "text": [
      "BOX START ---------------------\n",
      " person \n",
      "BOX END ---------------------\n",
      "BOX START ---------------------\n",
      " person \n",
      "BOX END ---------------------\n"
     ]
    },
    {
     "name": "stderr",
     "output_type": "stream",
     "text": [
      "0: 384x640 2 persons, 1 bottle, 6 chairs, 55.7ms\n",
      "Speed: 1.3ms preprocess, 55.7ms inference, 0.9ms postprocess per image at shape (1, 3, 384, 640)\n",
      "\n",
      "0: 384x640 2 persons, 1 bottle, 9 chairs, 57.0ms\n",
      "Speed: 1.9ms preprocess, 57.0ms inference, 0.8ms postprocess per image at shape (1, 3, 384, 640)\n",
      "\n"
     ]
    },
    {
     "name": "stdout",
     "output_type": "stream",
     "text": [
      "BOX START ---------------------\n",
      " person \n",
      "BOX END ---------------------\n",
      "BOX START ---------------------\n",
      " person \n",
      "BOX END ---------------------\n",
      "BOX START ---------------------\n",
      " person \n",
      "BOX END ---------------------\n",
      "BOX START ---------------------\n",
      " person \n",
      "BOX END ---------------------\n"
     ]
    },
    {
     "name": "stderr",
     "output_type": "stream",
     "text": [
      "0: 384x640 3 persons, 1 bottle, 5 chairs, 1 dining table, 57.9ms\n",
      "Speed: 1.8ms preprocess, 57.9ms inference, 0.8ms postprocess per image at shape (1, 3, 384, 640)\n",
      "\n",
      "0: 384x640 3 persons, 8 chairs, 2 dining tables, 52.0ms\n",
      "Speed: 1.6ms preprocess, 52.0ms inference, 0.9ms postprocess per image at shape (1, 3, 384, 640)\n",
      "\n"
     ]
    },
    {
     "name": "stdout",
     "output_type": "stream",
     "text": [
      "BOX START ---------------------\n",
      " person \n",
      "BOX END ---------------------\n",
      "BOX START ---------------------\n",
      " person \n",
      "BOX END ---------------------\n",
      "BOX START ---------------------\n",
      " person \n",
      "BOX END ---------------------\n",
      "BOX START ---------------------\n",
      " person \n",
      "BOX END ---------------------\n",
      "BOX START ---------------------\n",
      " person \n",
      "BOX END ---------------------\n",
      "BOX START ---------------------\n",
      " person \n",
      "BOX END ---------------------\n"
     ]
    },
    {
     "name": "stderr",
     "output_type": "stream",
     "text": [
      "0: 384x640 2 persons, 1 bottle, 1 cup, 5 chairs, 1 dining table, 54.3ms\n",
      "Speed: 1.5ms preprocess, 54.3ms inference, 0.9ms postprocess per image at shape (1, 3, 384, 640)\n",
      "\n",
      "0: 384x640 3 persons, 1 bottle, 8 chairs, 51.1ms\n",
      "Speed: 1.4ms preprocess, 51.1ms inference, 0.6ms postprocess per image at shape (1, 3, 384, 640)\n"
     ]
    },
    {
     "name": "stdout",
     "output_type": "stream",
     "text": [
      "BOX START ---------------------\n",
      " person \n",
      "BOX END ---------------------\n",
      "BOX START ---------------------\n",
      " person \n",
      "BOX END ---------------------\n",
      "BOX START ---------------------\n",
      " person \n",
      "BOX END ---------------------\n",
      "BOX START ---------------------\n",
      " person \n",
      "BOX END ---------------------\n",
      "BOX START ---------------------\n",
      " person \n",
      "BOX END ---------------------\n"
     ]
    },
    {
     "name": "stderr",
     "output_type": "stream",
     "text": [
      "\n",
      "0: 384x640 3 persons, 1 bottle, 7 chairs, 2 dining tables, 115.9ms\n",
      "Speed: 1.4ms preprocess, 115.9ms inference, 0.6ms postprocess per image at shape (1, 3, 384, 640)\n",
      "\n",
      "0: 384x640 3 persons, 1 bottle, 10 chairs, 52.2ms\n",
      "Speed: 1.4ms preprocess, 52.2ms inference, 0.7ms postprocess per image at shape (1, 3, 384, 640)\n",
      "\n"
     ]
    },
    {
     "name": "stdout",
     "output_type": "stream",
     "text": [
      "BOX START ---------------------\n",
      " person \n",
      "BOX END ---------------------\n",
      "BOX START ---------------------\n",
      " person \n",
      "BOX END ---------------------\n",
      "BOX START ---------------------\n",
      " person \n",
      "BOX END ---------------------\n",
      "BOX START ---------------------\n",
      " person \n",
      "BOX END ---------------------\n",
      "BOX START ---------------------\n",
      " person \n",
      "BOX END ---------------------\n",
      "BOX START ---------------------\n",
      " person \n",
      "BOX END ---------------------\n"
     ]
    },
    {
     "name": "stderr",
     "output_type": "stream",
     "text": [
      "0: 384x640 2 persons, 1 bottle, 5 chairs, 1 dining table, 1 tv, 60.5ms\n",
      "Speed: 1.5ms preprocess, 60.5ms inference, 0.6ms postprocess per image at shape (1, 3, 384, 640)\n",
      "\n",
      "0: 384x640 1 person, 1 bottle, 10 chairs, 51.5ms\n",
      "Speed: 1.5ms preprocess, 51.5ms inference, 0.8ms postprocess per image at shape (1, 3, 384, 640)\n",
      "\n"
     ]
    },
    {
     "name": "stdout",
     "output_type": "stream",
     "text": [
      "BOX START ---------------------\n",
      " person \n",
      "BOX END ---------------------\n",
      "BOX START ---------------------\n",
      " person \n",
      "BOX END ---------------------\n",
      "BOX START ---------------------\n",
      " person \n",
      "BOX END ---------------------\n"
     ]
    },
    {
     "name": "stderr",
     "output_type": "stream",
     "text": [
      "0: 384x640 1 person, 1 bottle, 7 chairs, 1 tv, 56.8ms\n",
      "Speed: 1.5ms preprocess, 56.8ms inference, 0.9ms postprocess per image at shape (1, 3, 384, 640)\n",
      "\n",
      "0: 384x640 1 person, 1 backpack, 2 bottles, 5 chairs, 51.2ms\n",
      "Speed: 1.8ms preprocess, 51.2ms inference, 0.8ms postprocess per image at shape (1, 3, 384, 640)\n",
      "\n"
     ]
    },
    {
     "name": "stdout",
     "output_type": "stream",
     "text": [
      "BOX START ---------------------\n",
      " person \n",
      "BOX END ---------------------\n",
      "BOX START ---------------------\n",
      " person \n",
      "BOX END ---------------------\n"
     ]
    },
    {
     "name": "stderr",
     "output_type": "stream",
     "text": [
      "0: 384x640 1 person, 1 backpack, 1 bottle, 7 chairs, 1 dining table, 58.9ms\n",
      "Speed: 1.4ms preprocess, 58.9ms inference, 0.6ms postprocess per image at shape (1, 3, 384, 640)\n",
      "\n",
      "0: 384x640 1 person, 2 bottles, 7 chairs, 50.5ms\n",
      "Speed: 1.5ms preprocess, 50.5ms inference, 0.7ms postprocess per image at shape (1, 3, 384, 640)\n",
      "\n"
     ]
    },
    {
     "name": "stdout",
     "output_type": "stream",
     "text": [
      "BOX START ---------------------\n",
      " person \n",
      "BOX END ---------------------\n",
      "BOX START ---------------------\n",
      " person \n",
      "BOX END ---------------------\n"
     ]
    },
    {
     "name": "stderr",
     "output_type": "stream",
     "text": [
      "0: 384x640 1 person, 1 bottle, 66.7ms\n",
      "Speed: 1.4ms preprocess, 66.7ms inference, 0.7ms postprocess per image at shape (1, 3, 384, 640)\n",
      "\n",
      "0: 384x640 1 person, 1 bottle, 7 chairs, 1 tv, 53.0ms\n",
      "Speed: 1.5ms preprocess, 53.0ms inference, 0.9ms postprocess per image at shape (1, 3, 384, 640)\n",
      "\n"
     ]
    },
    {
     "name": "stdout",
     "output_type": "stream",
     "text": [
      "BOX START ---------------------\n",
      " person \n",
      "BOX END ---------------------\n",
      "BOX START ---------------------\n",
      " person \n",
      "BOX END ---------------------\n"
     ]
    },
    {
     "name": "stderr",
     "output_type": "stream",
     "text": [
      "0: 384x640 1 person, 1 backpack, 1 bottle, 8 chairs, 1 dining table, 56.2ms\n",
      "Speed: 1.4ms preprocess, 56.2ms inference, 0.9ms postprocess per image at shape (1, 3, 384, 640)\n",
      "\n",
      "0: 384x640 1 person, 1 backpack, 2 bottles, 6 chairs, 54.1ms\n",
      "Speed: 1.5ms preprocess, 54.1ms inference, 0.8ms postprocess per image at shape (1, 3, 384, 640)\n",
      "\n"
     ]
    },
    {
     "name": "stdout",
     "output_type": "stream",
     "text": [
      "BOX START ---------------------\n",
      " person \n",
      "BOX END ---------------------\n",
      "BOX START ---------------------\n",
      " person \n",
      "BOX END ---------------------\n"
     ]
    },
    {
     "name": "stderr",
     "output_type": "stream",
     "text": [
      "0: 384x640 1 person, 2 bottles, 5 chairs, 55.3ms\n",
      "Speed: 1.5ms preprocess, 55.3ms inference, 0.8ms postprocess per image at shape (1, 3, 384, 640)\n",
      "\n",
      "0: 384x640 1 person, 2 bottles, 4 chairs, 1 dining table, 1 tv, 50.9ms\n",
      "Speed: 1.5ms preprocess, 50.9ms inference, 0.7ms postprocess per image at shape (1, 3, 384, 640)\n",
      "\n"
     ]
    },
    {
     "name": "stdout",
     "output_type": "stream",
     "text": [
      "BOX START ---------------------\n",
      " person \n",
      "BOX END ---------------------\n",
      "BOX START ---------------------\n",
      " person \n",
      "BOX END ---------------------\n"
     ]
    },
    {
     "name": "stderr",
     "output_type": "stream",
     "text": [
      "0: 384x640 1 person, 2 bottles, 7 chairs, 1 dining table, 1 tv, 1 laptop, 116.3ms\n",
      "Speed: 1.7ms preprocess, 116.3ms inference, 0.6ms postprocess per image at shape (1, 3, 384, 640)\n",
      "\n",
      "0: 384x640 1 person, 3 bottles, 5 chairs, 55.6ms\n",
      "Speed: 1.6ms preprocess, 55.6ms inference, 0.7ms postprocess per image at shape (1, 3, 384, 640)\n"
     ]
    },
    {
     "name": "stdout",
     "output_type": "stream",
     "text": [
      "BOX START ---------------------\n",
      " person \n",
      "BOX END ---------------------\n",
      "BOX START ---------------------\n",
      " person \n",
      "BOX END ---------------------\n"
     ]
    },
    {
     "name": "stderr",
     "output_type": "stream",
     "text": [
      "\n",
      "0: 384x640 1 person, 2 bottles, 5 chairs, 1 tv, 1 laptop, 58.0ms\n",
      "Speed: 1.5ms preprocess, 58.0ms inference, 0.9ms postprocess per image at shape (1, 3, 384, 640)\n",
      "\n",
      "0: 384x640 1 person, 1 backpack, 2 bottles, 6 chairs, 52.6ms\n",
      "Speed: 1.5ms preprocess, 52.6ms inference, 0.8ms postprocess per image at shape (1, 3, 384, 640)\n",
      "\n"
     ]
    },
    {
     "name": "stdout",
     "output_type": "stream",
     "text": [
      "BOX START ---------------------\n",
      " person \n",
      "BOX END ---------------------\n",
      "BOX START ---------------------\n",
      " person \n",
      "BOX END ---------------------\n"
     ]
    },
    {
     "name": "stderr",
     "output_type": "stream",
     "text": [
      "0: 384x640 1 person, 2 bottles, 5 chairs, 1 dining table, 1 laptop, 57.4ms\n",
      "Speed: 1.3ms preprocess, 57.4ms inference, 0.9ms postprocess per image at shape (1, 3, 384, 640)\n",
      "\n",
      "0: 384x640 2 bottles, 5 chairs, 53.1ms\n",
      "Speed: 1.4ms preprocess, 53.1ms inference, 0.8ms postprocess per image at shape (1, 3, 384, 640)\n",
      "\n"
     ]
    },
    {
     "name": "stdout",
     "output_type": "stream",
     "text": [
      "BOX START ---------------------\n",
      " person \n",
      "BOX END ---------------------\n"
     ]
    },
    {
     "name": "stderr",
     "output_type": "stream",
     "text": [
      "0: 384x640 1 backpack, 2 bottles, 7 chairs, 55.5ms\n",
      "Speed: 1.6ms preprocess, 55.5ms inference, 0.8ms postprocess per image at shape (1, 3, 384, 640)\n",
      "\n",
      "0: 384x640 1 backpack, 1 bottle, 5 chairs, 1 dining table, 1 tv, 52.0ms\n",
      "Speed: 1.6ms preprocess, 52.0ms inference, 0.9ms postprocess per image at shape (1, 3, 384, 640)\n",
      "\n",
      "0: 384x640 1 backpack, 2 bottles, 5 chairs, 52.0ms\n",
      "Speed: 1.6ms preprocess, 52.0ms inference, 0.8ms postprocess per image at shape (1, 3, 384, 640)\n",
      "\n",
      "0: 384x640 1 backpack, 1 bottle, 6 chairs, 1 dining table, 54.3ms\n",
      "Speed: 1.5ms preprocess, 54.3ms inference, 0.8ms postprocess per image at shape (1, 3, 384, 640)\n",
      "\n",
      "0: 384x640 1 backpack, 2 bottles, 7 chairs, 2 dining tables, 51.8ms\n",
      "Speed: 1.5ms preprocess, 51.8ms inference, 0.8ms postprocess per image at shape (1, 3, 384, 640)\n",
      "\n",
      "0: 384x640 1 backpack, 2 bottles, 8 chairs, 1 dining table, 1 laptop, 54.2ms\n",
      "Speed: 1.4ms preprocess, 54.2ms inference, 0.8ms postprocess per image at shape (1, 3, 384, 640)\n",
      "\n",
      "0: 384x640 2 bottles, 7 chairs, 2 dining tables, 1 laptop, 56.1ms\n",
      "Speed: 1.5ms preprocess, 56.1ms inference, 0.7ms postprocess per image at shape (1, 3, 384, 640)\n",
      "\n",
      "0: 384x640 2 bottles, 6 chairs, 1 dining table, 1 tv, 59.2ms\n",
      "Speed: 1.5ms preprocess, 59.2ms inference, 0.9ms postprocess per image at shape (1, 3, 384, 640)\n",
      "\n",
      "0: 384x640 1 bottle, 7 chairs, 1 dining table, 1 tv, 52.9ms\n",
      "Speed: 1.4ms preprocess, 52.9ms inference, 0.9ms postprocess per image at shape (1, 3, 384, 640)\n",
      "\n",
      "0: 384x640 2 bottles, 6 chairs, 1 dining table, 53.3ms\n",
      "Speed: 1.5ms preprocess, 53.3ms inference, 0.7ms postprocess per image at shape (1, 3, 384, 640)\n",
      "\n",
      "0: 384x640 2 bottles, 7 chairs, 1 dining table, 51.6ms\n",
      "Speed: 1.4ms preprocess, 51.6ms inference, 0.6ms postprocess per image at shape (1, 3, 384, 640)\n",
      "\n",
      "0: 384x640 1 bottle, 8 chairs, 1 dining table, 53.4ms\n",
      "Speed: 1.5ms preprocess, 53.4ms inference, 0.8ms postprocess per image at shape (1, 3, 384, 640)\n",
      "\n",
      "0: 384x640 2 bottles, 7 chairs, 1 dining table, 50.1ms\n",
      "Speed: 1.7ms preprocess, 50.1ms inference, 0.8ms postprocess per image at shape (1, 3, 384, 640)\n",
      "\n",
      "0: 384x640 1 bottle, 6 chairs, 2 dining tables, 1 tv, 54.9ms\n",
      "Speed: 1.5ms preprocess, 54.9ms inference, 0.8ms postprocess per image at shape (1, 3, 384, 640)\n",
      "\n",
      "0: 384x640 1 bottle, 7 chairs, 1 dining table, 1 tv, 1 laptop, 52.7ms\n",
      "Speed: 1.4ms preprocess, 52.7ms inference, 1.0ms postprocess per image at shape (1, 3, 384, 640)\n",
      "\n",
      "0: 384x640 1 bottle, 5 chairs, 1 dining table, 54.8ms\n",
      "Speed: 1.5ms preprocess, 54.8ms inference, 0.9ms postprocess per image at shape (1, 3, 384, 640)\n",
      "\n",
      "0: 384x640 2 bottles, 7 chairs, 51.1ms\n",
      "Speed: 1.5ms preprocess, 51.1ms inference, 0.8ms postprocess per image at shape (1, 3, 384, 640)\n",
      "\n",
      "0: 384x640 1 bottle, 8 chairs, 1 dining table, 53.5ms\n",
      "Speed: 1.4ms preprocess, 53.5ms inference, 0.7ms postprocess per image at shape (1, 3, 384, 640)\n",
      "\n",
      "0: 384x640 2 chairs, 51.4ms\n",
      "Speed: 1.5ms preprocess, 51.4ms inference, 0.9ms postprocess per image at shape (1, 3, 384, 640)\n",
      "\n",
      "0: 384x640 1 bottle, 1 chair, 1 sink, 54.8ms\n",
      "Speed: 1.4ms preprocess, 54.8ms inference, 0.6ms postprocess per image at shape (1, 3, 384, 640)\n",
      "\n",
      "0: 384x640 2 bottles, 5 chairs, 3 laptops, 63.0ms\n",
      "Speed: 1.8ms preprocess, 63.0ms inference, 0.9ms postprocess per image at shape (1, 3, 384, 640)\n",
      "\n",
      "0: 384x640 1 bottle, 4 chairs, 2 laptops, 54.5ms\n",
      "Speed: 1.5ms preprocess, 54.5ms inference, 0.7ms postprocess per image at shape (1, 3, 384, 640)\n",
      "\n",
      "0: 384x640 2 bottles, 5 chairs, 2 laptops, 51.1ms\n",
      "Speed: 1.5ms preprocess, 51.1ms inference, 0.8ms postprocess per image at shape (1, 3, 384, 640)\n",
      "\n",
      "0: 384x640 2 bottles, 6 chairs, 2 laptops, 60.8ms\n",
      "Speed: 1.8ms preprocess, 60.8ms inference, 0.7ms postprocess per image at shape (1, 3, 384, 640)\n",
      "\n",
      "0: 384x640 1 bottle, 6 chairs, 1 dining table, 2 laptops, 52.0ms\n",
      "Speed: 1.5ms preprocess, 52.0ms inference, 0.8ms postprocess per image at shape (1, 3, 384, 640)\n",
      "\n",
      "0: 384x640 1 bottle, 8 chairs, 1 dining table, 3 laptops, 52.0ms\n",
      "Speed: 1.4ms preprocess, 52.0ms inference, 0.8ms postprocess per image at shape (1, 3, 384, 640)\n",
      "\n",
      "0: 384x640 2 bottles, 5 chairs, 3 laptops, 52.1ms\n",
      "Speed: 1.5ms preprocess, 52.1ms inference, 0.7ms postprocess per image at shape (1, 3, 384, 640)\n",
      "\n",
      "0: 384x640 2 bottles, 4 chairs, 1 tv, 1 laptop, 1 sink, 51.3ms\n",
      "Speed: 1.4ms preprocess, 51.3ms inference, 0.8ms postprocess per image at shape (1, 3, 384, 640)\n",
      "\n",
      "0: 384x640 2 bottles, 6 chairs, 1 dining table, 52.0ms\n",
      "Speed: 1.6ms preprocess, 52.0ms inference, 0.7ms postprocess per image at shape (1, 3, 384, 640)\n",
      "\n",
      "0: 384x640 2 bottles, 5 chairs, 1 dining table, 54.4ms\n",
      "Speed: 1.6ms preprocess, 54.4ms inference, 0.8ms postprocess per image at shape (1, 3, 384, 640)\n",
      "\n",
      "0: 384x640 1 bottle, 6 chairs, 2 dining tables, 1 laptop, 52.7ms\n",
      "Speed: 1.5ms preprocess, 52.7ms inference, 0.8ms postprocess per image at shape (1, 3, 384, 640)\n",
      "\n",
      "0: 384x640 1 bottle, 5 chairs, 1 dining table, 1 tv, 51.2ms\n",
      "Speed: 1.4ms preprocess, 51.2ms inference, 0.7ms postprocess per image at shape (1, 3, 384, 640)\n",
      "\n",
      "0: 384x640 2 bottles, 3 chairs, 1 dining table, 1 tv, 1 laptop, 50.8ms\n",
      "Speed: 1.4ms preprocess, 50.8ms inference, 0.7ms postprocess per image at shape (1, 3, 384, 640)\n",
      "\n",
      "0: 384x640 1 bottle, 1 cup, 3 chairs, 1 dining table, 1 tv, 49.9ms\n",
      "Speed: 1.5ms preprocess, 49.9ms inference, 0.7ms postprocess per image at shape (1, 3, 384, 640)\n",
      "\n",
      "0: 384x640 1 bottle, 3 chairs, 1 dining table, 1 tv, 52.2ms\n",
      "Speed: 1.4ms preprocess, 52.2ms inference, 0.8ms postprocess per image at shape (1, 3, 384, 640)\n",
      "\n",
      "0: 384x640 1 bottle, 4 chairs, 1 dining table, 53.3ms\n",
      "Speed: 1.5ms preprocess, 53.3ms inference, 0.8ms postprocess per image at shape (1, 3, 384, 640)\n",
      "\n",
      "0: 384x640 5 chairs, 1 dining table, 62.0ms\n",
      "Speed: 1.4ms preprocess, 62.0ms inference, 0.8ms postprocess per image at shape (1, 3, 384, 640)\n",
      "\n",
      "0: 384x640 6 chairs, 1 dining table, 1 oven, 52.6ms\n",
      "Speed: 1.9ms preprocess, 52.6ms inference, 0.9ms postprocess per image at shape (1, 3, 384, 640)\n",
      "\n",
      "0: 384x640 6 chairs, 1 dining table, 1 oven, 51.3ms\n",
      "Speed: 1.4ms preprocess, 51.3ms inference, 0.7ms postprocess per image at shape (1, 3, 384, 640)\n",
      "\n",
      "0: 384x640 5 chairs, 1 dining table, 1 oven, 51.1ms\n",
      "Speed: 1.4ms preprocess, 51.1ms inference, 0.8ms postprocess per image at shape (1, 3, 384, 640)\n",
      "\n",
      "0: 384x640 1 bottle, 7 chairs, 1 dining table, 1 laptop, 52.6ms\n",
      "Speed: 1.4ms preprocess, 52.6ms inference, 0.6ms postprocess per image at shape (1, 3, 384, 640)\n",
      "\n",
      "0: 384x640 1 bottle, 4 chairs, 1 dining table, 1 laptop, 51.5ms\n",
      "Speed: 1.4ms preprocess, 51.5ms inference, 0.6ms postprocess per image at shape (1, 3, 384, 640)\n",
      "\n",
      "0: 384x640 1 bottle, 7 chairs, 2 dining tables, 1 laptop, 51.8ms\n",
      "Speed: 1.8ms preprocess, 51.8ms inference, 0.9ms postprocess per image at shape (1, 3, 384, 640)\n",
      "\n",
      "0: 384x640 1 bottle, 3 chairs, 1 dining table, 1 tv, 51.9ms\n",
      "Speed: 1.4ms preprocess, 51.9ms inference, 0.7ms postprocess per image at shape (1, 3, 384, 640)\n",
      "\n",
      "0: 384x640 1 bottle, 3 chairs, 50.4ms\n",
      "Speed: 1.5ms preprocess, 50.4ms inference, 0.9ms postprocess per image at shape (1, 3, 384, 640)\n",
      "\n",
      "0: 384x640 1 bottle, 1 cup, 2 chairs, 1 tv, 70.0ms\n",
      "Speed: 2.1ms preprocess, 70.0ms inference, 0.6ms postprocess per image at shape (1, 3, 384, 640)\n",
      "\n",
      "0: 384x640 1 chair, 54.7ms\n",
      "Speed: 1.4ms preprocess, 54.7ms inference, 0.7ms postprocess per image at shape (1, 3, 384, 640)\n",
      "\n",
      "0: 384x640 1 oven, 54.1ms\n",
      "Speed: 1.5ms preprocess, 54.1ms inference, 0.8ms postprocess per image at shape (1, 3, 384, 640)\n",
      "\n",
      "0: 384x640 1 bottle, 1 chair, 1 couch, 1 tv, 49.2ms\n",
      "Speed: 1.4ms preprocess, 49.2ms inference, 0.6ms postprocess per image at shape (1, 3, 384, 640)\n",
      "\n",
      "0: 384x640 1 bottle, 4 chairs, 1 sink, 50.6ms\n",
      "Speed: 1.5ms preprocess, 50.6ms inference, 0.6ms postprocess per image at shape (1, 3, 384, 640)\n",
      "\n",
      "0: 384x640 1 bottle, 5 chairs, 1 dining table, 1 tv, 50.6ms\n",
      "Speed: 1.4ms preprocess, 50.6ms inference, 0.9ms postprocess per image at shape (1, 3, 384, 640)\n",
      "\n",
      "0: 384x640 2 bottles, 4 chairs, 2 tvs, 72.1ms\n",
      "Speed: 1.5ms preprocess, 72.1ms inference, 0.6ms postprocess per image at shape (1, 3, 384, 640)\n",
      "\n",
      "0: 384x640 2 bottles, 5 chairs, 1 tv, 52.3ms\n",
      "Speed: 1.4ms preprocess, 52.3ms inference, 0.8ms postprocess per image at shape (1, 3, 384, 640)\n",
      "\n",
      "0: 384x640 2 bottles, 4 chairs, 1 dining table, 1 laptop, 51.5ms\n",
      "Speed: 1.6ms preprocess, 51.5ms inference, 0.6ms postprocess per image at shape (1, 3, 384, 640)\n",
      "\n",
      "0: 384x640 2 bottles, 6 chairs, 1 tv, 53.5ms\n",
      "Speed: 1.5ms preprocess, 53.5ms inference, 0.9ms postprocess per image at shape (1, 3, 384, 640)\n",
      "\n",
      "0: 384x640 2 bottles, 4 chairs, 2 dining tables, 1 tv, 51.8ms\n",
      "Speed: 1.4ms preprocess, 51.8ms inference, 1.0ms postprocess per image at shape (1, 3, 384, 640)\n",
      "\n",
      "0: 384x640 2 bottles, 6 chairs, 1 dining table, 1 tv, 1 laptop, 51.5ms\n",
      "Speed: 1.5ms preprocess, 51.5ms inference, 1.0ms postprocess per image at shape (1, 3, 384, 640)\n",
      "\n",
      "0: 384x640 3 bottles, 7 chairs, 1 tv, 1 laptop, 52.1ms\n",
      "Speed: 1.4ms preprocess, 52.1ms inference, 0.9ms postprocess per image at shape (1, 3, 384, 640)\n",
      "\n",
      "0: 384x640 2 bottles, 4 chairs, 1 tv, 1 laptop, 60.4ms\n",
      "Speed: 1.4ms preprocess, 60.4ms inference, 0.7ms postprocess per image at shape (1, 3, 384, 640)\n",
      "\n",
      "0: 384x640 2 bottles, 4 chairs, 2 tvs, 1 laptop, 71.1ms\n",
      "Speed: 1.9ms preprocess, 71.1ms inference, 1.0ms postprocess per image at shape (1, 3, 384, 640)\n",
      "\n",
      "0: 384x640 2 bottles, 4 chairs, 1 tv, 66.2ms\n",
      "Speed: 1.4ms preprocess, 66.2ms inference, 0.8ms postprocess per image at shape (1, 3, 384, 640)\n",
      "\n",
      "0: 384x640 2 bottles, 5 chairs, 1 tv, 58.0ms\n",
      "Speed: 1.4ms preprocess, 58.0ms inference, 1.0ms postprocess per image at shape (1, 3, 384, 640)\n",
      "\n",
      "0: 384x640 2 bottles, 7 chairs, 1 dining table, 1 tv, 59.4ms\n",
      "Speed: 1.8ms preprocess, 59.4ms inference, 1.0ms postprocess per image at shape (1, 3, 384, 640)\n",
      "\n",
      "0: 384x640 2 bottles, 4 chairs, 1 tv, 2 laptops, 55.9ms\n",
      "Speed: 1.4ms preprocess, 55.9ms inference, 0.9ms postprocess per image at shape (1, 3, 384, 640)\n",
      "\n",
      "0: 384x640 1 bottle, 4 chairs, 1 tv, 54.1ms\n",
      "Speed: 1.4ms preprocess, 54.1ms inference, 0.9ms postprocess per image at shape (1, 3, 384, 640)\n",
      "\n",
      "0: 384x640 1 bottle, 5 chairs, 1 tv, 59.5ms\n",
      "Speed: 2.1ms preprocess, 59.5ms inference, 0.7ms postprocess per image at shape (1, 3, 384, 640)\n",
      "\n",
      "0: 384x640 2 bottles, 8 chairs, 1 tv, 1 laptop, 51.9ms\n",
      "Speed: 1.5ms preprocess, 51.9ms inference, 1.1ms postprocess per image at shape (1, 3, 384, 640)\n",
      "\n",
      "0: 384x640 2 bottles, 3 chairs, 2 tvs, 55.2ms\n",
      "Speed: 1.4ms preprocess, 55.2ms inference, 0.7ms postprocess per image at shape (1, 3, 384, 640)\n",
      "\n",
      "0: 384x640 2 bottles, 5 chairs, 2 tvs, 51.9ms\n",
      "Speed: 1.7ms preprocess, 51.9ms inference, 0.9ms postprocess per image at shape (1, 3, 384, 640)\n",
      "\n",
      "0: 384x640 2 bottles, 6 chairs, 1 dining table, 1 laptop, 52.0ms\n",
      "Speed: 1.4ms preprocess, 52.0ms inference, 0.8ms postprocess per image at shape (1, 3, 384, 640)\n",
      "\n",
      "0: 384x640 2 bottles, 6 chairs, 1 dining table, 1 laptop, 62.8ms\n",
      "Speed: 1.7ms preprocess, 62.8ms inference, 0.7ms postprocess per image at shape (1, 3, 384, 640)\n",
      "\n",
      "0: 384x640 1 bottle, 7 chairs, 54.1ms\n",
      "Speed: 1.4ms preprocess, 54.1ms inference, 0.7ms postprocess per image at shape (1, 3, 384, 640)\n",
      "\n",
      "0: 384x640 1 backpack, 1 bottle, 8 chairs, 53.6ms\n",
      "Speed: 1.6ms preprocess, 53.6ms inference, 0.8ms postprocess per image at shape (1, 3, 384, 640)\n",
      "\n",
      "0: 384x640 1 backpack, 1 bottle, 8 chairs, 2 laptops, 68.3ms\n",
      "Speed: 1.4ms preprocess, 68.3ms inference, 0.6ms postprocess per image at shape (1, 3, 384, 640)\n",
      "\n",
      "0: 384x640 2 bottles, 5 chairs, 1 laptop, 54.8ms\n",
      "Speed: 1.4ms preprocess, 54.8ms inference, 1.1ms postprocess per image at shape (1, 3, 384, 640)\n",
      "\n",
      "0: 384x640 3 bottles, 5 chairs, 52.5ms\n",
      "Speed: 1.5ms preprocess, 52.5ms inference, 0.7ms postprocess per image at shape (1, 3, 384, 640)\n",
      "\n",
      "0: 384x640 1 backpack, 1 bottle, 4 chairs, 2 laptops, 55.4ms\n",
      "Speed: 1.4ms preprocess, 55.4ms inference, 0.7ms postprocess per image at shape (1, 3, 384, 640)\n",
      "\n",
      "0: 384x640 1 backpack, 2 bottles, 6 chairs, 2 laptops, 54.0ms\n",
      "Speed: 1.5ms preprocess, 54.0ms inference, 0.8ms postprocess per image at shape (1, 3, 384, 640)\n",
      "\n",
      "0: 384x640 1 backpack, 1 bottle, 6 chairs, 2 laptops, 53.1ms\n",
      "Speed: 1.6ms preprocess, 53.1ms inference, 0.8ms postprocess per image at shape (1, 3, 384, 640)\n",
      "\n",
      "0: 384x640 1 backpack, 1 bottle, 7 chairs, 2 laptops, 52.2ms\n",
      "Speed: 1.6ms preprocess, 52.2ms inference, 0.9ms postprocess per image at shape (1, 3, 384, 640)\n",
      "\n",
      "0: 384x640 1 backpack, 2 bottles, 8 chairs, 2 laptops, 52.4ms\n",
      "Speed: 1.5ms preprocess, 52.4ms inference, 0.7ms postprocess per image at shape (1, 3, 384, 640)\n",
      "\n",
      "0: 384x640 1 backpack, 1 bottle, 8 chairs, 1 dining table, 1 laptop, 54.3ms\n",
      "Speed: 1.9ms preprocess, 54.3ms inference, 0.8ms postprocess per image at shape (1, 3, 384, 640)\n",
      "\n",
      "0: 384x640 1 backpack, 2 bottles, 8 chairs, 1 dining table, 2 laptops, 52.6ms\n",
      "Speed: 1.4ms preprocess, 52.6ms inference, 0.8ms postprocess per image at shape (1, 3, 384, 640)\n",
      "\n",
      "0: 384x640 1 backpack, 1 bottle, 6 chairs, 3 laptops, 51.1ms\n",
      "Speed: 1.5ms preprocess, 51.1ms inference, 0.7ms postprocess per image at shape (1, 3, 384, 640)\n",
      "\n",
      "0: 384x640 1 bottle, 6 chairs, 2 laptops, 53.0ms\n",
      "Speed: 1.5ms preprocess, 53.0ms inference, 0.8ms postprocess per image at shape (1, 3, 384, 640)\n",
      "\n",
      "0: 384x640 1 backpack, 1 bottle, 8 chairs, 2 laptops, 51.7ms\n",
      "Speed: 1.6ms preprocess, 51.7ms inference, 0.9ms postprocess per image at shape (1, 3, 384, 640)\n",
      "\n",
      "0: 384x640 1 bottle, 9 chairs, 1 laptop, 52.7ms\n",
      "Speed: 1.4ms preprocess, 52.7ms inference, 0.8ms postprocess per image at shape (1, 3, 384, 640)\n",
      "\n",
      "0: 384x640 3 bottles, 8 chairs, 1 laptop, 141.6ms\n",
      "Speed: 9.9ms preprocess, 141.6ms inference, 0.8ms postprocess per image at shape (1, 3, 384, 640)\n",
      "\n",
      "0: 384x640 1 bottle, 5 chairs, 1 tv, 1 laptop, 67.7ms\n",
      "Speed: 1.7ms preprocess, 67.7ms inference, 0.6ms postprocess per image at shape (1, 3, 384, 640)\n",
      "\n",
      "0: 384x640 2 bottles, 5 chairs, 2 laptops, 72.0ms\n",
      "Speed: 1.6ms preprocess, 72.0ms inference, 0.7ms postprocess per image at shape (1, 3, 384, 640)\n",
      "\n",
      "0: 384x640 2 bottles, 2 chairs, 1 sink, 85.5ms\n",
      "Speed: 1.5ms preprocess, 85.5ms inference, 1.2ms postprocess per image at shape (1, 3, 384, 640)\n",
      "\n",
      "0: 384x640 (no detections), 64.2ms\n",
      "Speed: 1.5ms preprocess, 64.2ms inference, 0.4ms postprocess per image at shape (1, 3, 384, 640)\n",
      "\n",
      "0: 384x640 1 umbrella, 3 bottles, 1 cup, 1 chair, 3 laptops, 69.2ms\n",
      "Speed: 1.5ms preprocess, 69.2ms inference, 0.8ms postprocess per image at shape (1, 3, 384, 640)\n",
      "\n",
      "0: 384x640 1 umbrella, 3 bottles, 1 chair, 2 laptops, 81.9ms\n",
      "Speed: 1.6ms preprocess, 81.9ms inference, 0.8ms postprocess per image at shape (1, 3, 384, 640)\n",
      "\n",
      "0: 384x640 1 umbrella, 2 bottles, 1 chair, 2 laptops, 67.1ms\n",
      "Speed: 1.9ms preprocess, 67.1ms inference, 0.6ms postprocess per image at shape (1, 3, 384, 640)\n",
      "\n",
      "0: 384x640 1 umbrella, 2 bottles, 1 chair, 2 laptops, 65.8ms\n",
      "Speed: 1.7ms preprocess, 65.8ms inference, 0.8ms postprocess per image at shape (1, 3, 384, 640)\n",
      "\n",
      "0: 384x640 1 umbrella, 2 bottles, 1 chair, 2 laptops, 91.2ms\n",
      "Speed: 2.2ms preprocess, 91.2ms inference, 0.9ms postprocess per image at shape (1, 3, 384, 640)\n",
      "\n",
      "0: 384x640 1 umbrella, 2 bottles, 1 chair, 2 laptops, 66.1ms\n",
      "Speed: 1.5ms preprocess, 66.1ms inference, 1.0ms postprocess per image at shape (1, 3, 384, 640)\n",
      "\n",
      "0: 384x640 1 bottle, 1 chair, 1 laptop, 1 mouse, 66.5ms\n",
      "Speed: 1.7ms preprocess, 66.5ms inference, 0.8ms postprocess per image at shape (1, 3, 384, 640)\n",
      "\n",
      "0: 384x640 2 bottles, 1 chair, 1 laptop, 1 mouse, 1 cell phone, 53.9ms\n",
      "Speed: 1.4ms preprocess, 53.9ms inference, 0.8ms postprocess per image at shape (1, 3, 384, 640)\n",
      "\n",
      "0: 384x640 1 bottle, 1 bed, 1 laptop, 69.1ms\n",
      "Speed: 1.4ms preprocess, 69.1ms inference, 0.8ms postprocess per image at shape (1, 3, 384, 640)\n",
      "\n",
      "0: 384x640 1 chair, 3 laptops, 61.6ms\n",
      "Speed: 1.5ms preprocess, 61.6ms inference, 0.7ms postprocess per image at shape (1, 3, 384, 640)\n",
      "\n",
      "0: 384x640 1 chair, 2 laptops, 61.8ms\n",
      "Speed: 1.7ms preprocess, 61.8ms inference, 0.7ms postprocess per image at shape (1, 3, 384, 640)\n",
      "\n",
      "0: 384x640 1 suitcase, 1 bottle, 63.0ms\n",
      "Speed: 1.6ms preprocess, 63.0ms inference, 0.7ms postprocess per image at shape (1, 3, 384, 640)\n",
      "\n",
      "0: 384x640 1 bottle, 1 cup, 2 chairs, 79.3ms\n",
      "Speed: 1.9ms preprocess, 79.3ms inference, 0.7ms postprocess per image at shape (1, 3, 384, 640)\n",
      "\n",
      "0: 384x640 1 bottle, 2 chairs, 1 tv, 64.0ms\n",
      "Speed: 1.8ms preprocess, 64.0ms inference, 0.6ms postprocess per image at shape (1, 3, 384, 640)\n",
      "\n",
      "0: 384x640 1 bottle, 3 chairs, 1 laptop, 63.2ms\n",
      "Speed: 2.0ms preprocess, 63.2ms inference, 0.6ms postprocess per image at shape (1, 3, 384, 640)\n",
      "\n",
      "0: 384x640 1 bottle, 5 chairs, 1 tv, 2 laptops, 61.1ms\n",
      "Speed: 1.7ms preprocess, 61.1ms inference, 0.7ms postprocess per image at shape (1, 3, 384, 640)\n",
      "\n",
      "0: 384x640 1 bottle, 4 chairs, 1 tv, 1 laptop, 62.1ms\n",
      "Speed: 1.5ms preprocess, 62.1ms inference, 0.6ms postprocess per image at shape (1, 3, 384, 640)\n",
      "\n",
      "0: 384x640 2 bottles, 5 chairs, 1 tv, 2 laptops, 62.8ms\n",
      "Speed: 1.7ms preprocess, 62.8ms inference, 0.6ms postprocess per image at shape (1, 3, 384, 640)\n",
      "\n",
      "0: 384x640 2 bottles, 1 chair, 1 laptop, 63.4ms\n",
      "Speed: 1.8ms preprocess, 63.4ms inference, 0.7ms postprocess per image at shape (1, 3, 384, 640)\n",
      "\n",
      "0: 384x640 1 bottle, 3 chairs, 1 tv, 1 laptop, 63.4ms\n",
      "Speed: 1.8ms preprocess, 63.4ms inference, 0.6ms postprocess per image at shape (1, 3, 384, 640)\n",
      "\n",
      "0: 384x640 1 bottle, 6 chairs, 1 tv, 2 laptops, 73.7ms\n",
      "Speed: 1.8ms preprocess, 73.7ms inference, 0.7ms postprocess per image at shape (1, 3, 384, 640)\n",
      "\n",
      "0: 384x640 2 bottles, 5 chairs, 1 tv, 2 laptops, 63.7ms\n",
      "Speed: 1.7ms preprocess, 63.7ms inference, 0.7ms postprocess per image at shape (1, 3, 384, 640)\n",
      "\n",
      "0: 384x640 1 bottle, 4 chairs, 1 tv, 1 laptop, 65.5ms\n",
      "Speed: 1.6ms preprocess, 65.5ms inference, 0.9ms postprocess per image at shape (1, 3, 384, 640)\n",
      "\n",
      "0: 384x640 2 bottles, 5 chairs, 1 laptop, 66.9ms\n",
      "Speed: 1.6ms preprocess, 66.9ms inference, 0.8ms postprocess per image at shape (1, 3, 384, 640)\n",
      "\n",
      "0: 384x640 2 bottles, 5 chairs, 1 tv, 61.8ms\n",
      "Speed: 1.6ms preprocess, 61.8ms inference, 0.6ms postprocess per image at shape (1, 3, 384, 640)\n",
      "\n",
      "0: 384x640 1 bottle, 5 chairs, 1 tv, 64.5ms\n",
      "Speed: 1.5ms preprocess, 64.5ms inference, 1.0ms postprocess per image at shape (1, 3, 384, 640)\n",
      "\n",
      "0: 384x640 1 bottle, 4 chairs, 2 tvs, 3 laptops, 61.6ms\n",
      "Speed: 1.6ms preprocess, 61.6ms inference, 1.0ms postprocess per image at shape (1, 3, 384, 640)\n",
      "\n",
      "0: 384x640 2 bottles, 3 chairs, 1 tv, 2 laptops, 123.4ms\n",
      "Speed: 2.0ms preprocess, 123.4ms inference, 2.5ms postprocess per image at shape (1, 3, 384, 640)\n",
      "\n",
      "0: 384x640 2 bottles, 5 chairs, 3 laptops, 149.5ms\n",
      "Speed: 8.7ms preprocess, 149.5ms inference, 1.4ms postprocess per image at shape (1, 3, 384, 640)\n",
      "\n",
      "0: 384x640 2 bottles, 6 chairs, 1 laptop, 268.3ms\n",
      "Speed: 8.8ms preprocess, 268.3ms inference, 2.2ms postprocess per image at shape (1, 3, 384, 640)\n",
      "\n",
      "0: 384x640 2 bottles, 3 chairs, 1 laptop, 101.3ms\n",
      "Speed: 2.2ms preprocess, 101.3ms inference, 0.7ms postprocess per image at shape (1, 3, 384, 640)\n",
      "\n",
      "0: 384x640 2 bottles, 4 chairs, 2 laptops, 69.7ms\n",
      "Speed: 1.7ms preprocess, 69.7ms inference, 0.7ms postprocess per image at shape (1, 3, 384, 640)\n",
      "\n",
      "0: 384x640 2 bottles, 5 chairs, 2 laptops, 73.8ms\n",
      "Speed: 1.7ms preprocess, 73.8ms inference, 1.3ms postprocess per image at shape (1, 3, 384, 640)\n",
      "\n",
      "0: 384x640 2 bottles, 2 chairs, 2 laptops, 68.2ms\n",
      "Speed: 1.6ms preprocess, 68.2ms inference, 0.7ms postprocess per image at shape (1, 3, 384, 640)\n",
      "\n",
      "0: 384x640 2 bottles, 5 chairs, 3 laptops, 70.0ms\n",
      "Speed: 1.6ms preprocess, 70.0ms inference, 0.8ms postprocess per image at shape (1, 3, 384, 640)\n",
      "\n",
      "0: 384x640 1 bottle, 3 chairs, 3 laptops, 57.1ms\n",
      "Speed: 1.4ms preprocess, 57.1ms inference, 0.8ms postprocess per image at shape (1, 3, 384, 640)\n",
      "\n",
      "0: 384x640 1 bottle, 3 chairs, 2 laptops, 72.1ms\n",
      "Speed: 1.9ms preprocess, 72.1ms inference, 0.8ms postprocess per image at shape (1, 3, 384, 640)\n",
      "\n",
      "0: 384x640 2 bottles, 6 chairs, 2 laptops, 84.0ms\n",
      "Speed: 1.7ms preprocess, 84.0ms inference, 1.0ms postprocess per image at shape (1, 3, 384, 640)\n",
      "\n",
      "0: 384x640 1 bottle, 5 chairs, 3 laptops, 88.6ms\n",
      "Speed: 2.0ms preprocess, 88.6ms inference, 0.9ms postprocess per image at shape (1, 3, 384, 640)\n",
      "\n",
      "0: 384x640 2 bottles, 5 chairs, 3 laptops, 66.6ms\n",
      "Speed: 1.4ms preprocess, 66.6ms inference, 0.6ms postprocess per image at shape (1, 3, 384, 640)\n",
      "\n",
      "0: 384x640 2 bottles, 4 chairs, 3 laptops, 56.5ms\n",
      "Speed: 1.4ms preprocess, 56.5ms inference, 0.9ms postprocess per image at shape (1, 3, 384, 640)\n",
      "\n",
      "0: 384x640 1 bottle, 5 chairs, 2 laptops, 55.3ms\n",
      "Speed: 1.4ms preprocess, 55.3ms inference, 0.8ms postprocess per image at shape (1, 3, 384, 640)\n",
      "\n",
      "0: 384x640 1 bottle, 3 chairs, 3 laptops, 60.2ms\n",
      "Speed: 1.4ms preprocess, 60.2ms inference, 1.1ms postprocess per image at shape (1, 3, 384, 640)\n",
      "\n",
      "0: 384x640 1 bottle, 4 chairs, 4 laptops, 63.8ms\n",
      "Speed: 1.5ms preprocess, 63.8ms inference, 0.7ms postprocess per image at shape (1, 3, 384, 640)\n",
      "\n",
      "0: 384x640 1 bottle, 4 chairs, 1 tv, 3 laptops, 58.2ms\n",
      "Speed: 1.5ms preprocess, 58.2ms inference, 0.8ms postprocess per image at shape (1, 3, 384, 640)\n",
      "\n",
      "0: 384x640 2 bottles, 5 chairs, 3 laptops, 68.5ms\n",
      "Speed: 1.5ms preprocess, 68.5ms inference, 0.7ms postprocess per image at shape (1, 3, 384, 640)\n",
      "\n",
      "0: 384x640 2 bottles, 4 chairs, 3 laptops, 58.7ms\n",
      "Speed: 1.7ms preprocess, 58.7ms inference, 1.5ms postprocess per image at shape (1, 3, 384, 640)\n",
      "\n",
      "0: 384x640 1 bottle, 3 chairs, 2 laptops, 57.3ms\n",
      "Speed: 1.5ms preprocess, 57.3ms inference, 0.7ms postprocess per image at shape (1, 3, 384, 640)\n",
      "\n",
      "0: 384x640 2 bottles, 3 chairs, 3 laptops, 60.9ms\n",
      "Speed: 1.7ms preprocess, 60.9ms inference, 0.7ms postprocess per image at shape (1, 3, 384, 640)\n",
      "\n",
      "0: 384x640 2 bottles, 4 chairs, 3 laptops, 78.3ms\n",
      "Speed: 1.7ms preprocess, 78.3ms inference, 1.0ms postprocess per image at shape (1, 3, 384, 640)\n",
      "\n",
      "0: 384x640 1 bottle, 5 chairs, 4 laptops, 73.8ms\n",
      "Speed: 2.3ms preprocess, 73.8ms inference, 1.4ms postprocess per image at shape (1, 3, 384, 640)\n",
      "\n",
      "0: 384x640 2 bottles, 6 chairs, 2 laptops, 123.0ms\n",
      "Speed: 33.1ms preprocess, 123.0ms inference, 1.4ms postprocess per image at shape (1, 3, 384, 640)\n",
      "\n",
      "0: 384x640 2 bottles, 4 chairs, 1 tv, 2 laptops, 73.3ms\n",
      "Speed: 2.1ms preprocess, 73.3ms inference, 0.8ms postprocess per image at shape (1, 3, 384, 640)\n",
      "\n",
      "0: 384x640 2 bottles, 4 chairs, 3 laptops, 58.9ms\n",
      "Speed: 1.8ms preprocess, 58.9ms inference, 1.3ms postprocess per image at shape (1, 3, 384, 640)\n",
      "\n",
      "0: 384x640 2 bottles, 4 chairs, 1 laptop, 70.8ms\n",
      "Speed: 1.4ms preprocess, 70.8ms inference, 0.8ms postprocess per image at shape (1, 3, 384, 640)\n",
      "\n",
      "0: 384x640 1 bottle, 5 chairs, 2 laptops, 69.6ms\n",
      "Speed: 1.5ms preprocess, 69.6ms inference, 0.7ms postprocess per image at shape (1, 3, 384, 640)\n",
      "\n",
      "0: 384x640 2 bottles, 4 chairs, 1 laptop, 65.9ms\n",
      "Speed: 1.7ms preprocess, 65.9ms inference, 0.6ms postprocess per image at shape (1, 3, 384, 640)\n",
      "\n",
      "0: 384x640 1 bottle, 5 chairs, 3 laptops, 69.6ms\n",
      "Speed: 1.4ms preprocess, 69.6ms inference, 0.8ms postprocess per image at shape (1, 3, 384, 640)\n",
      "\n",
      "0: 384x640 1 bottle, 6 chairs, 1 tv, 3 laptops, 66.1ms\n",
      "Speed: 1.4ms preprocess, 66.1ms inference, 0.7ms postprocess per image at shape (1, 3, 384, 640)\n",
      "\n",
      "0: 384x640 1 bottle, 5 chairs, 1 laptop, 66.8ms\n",
      "Speed: 2.0ms preprocess, 66.8ms inference, 0.8ms postprocess per image at shape (1, 3, 384, 640)\n",
      "\n",
      "0: 384x640 1 bottle, 6 chairs, 1 laptop, 81.6ms\n",
      "Speed: 2.4ms preprocess, 81.6ms inference, 0.8ms postprocess per image at shape (1, 3, 384, 640)\n",
      "\n",
      "0: 384x640 2 bottles, 5 chairs, 2 laptops, 72.6ms\n",
      "Speed: 1.7ms preprocess, 72.6ms inference, 0.8ms postprocess per image at shape (1, 3, 384, 640)\n",
      "\n",
      "0: 384x640 1 bottle, 5 chairs, 3 laptops, 65.3ms\n",
      "Speed: 2.3ms preprocess, 65.3ms inference, 0.6ms postprocess per image at shape (1, 3, 384, 640)\n",
      "\n",
      "0: 384x640 2 bottles, 4 chairs, 2 laptops, 55.7ms\n",
      "Speed: 1.4ms preprocess, 55.7ms inference, 1.3ms postprocess per image at shape (1, 3, 384, 640)\n",
      "\n",
      "0: 384x640 2 bottles, 4 chairs, 3 laptops, 80.2ms\n",
      "Speed: 2.2ms preprocess, 80.2ms inference, 0.7ms postprocess per image at shape (1, 3, 384, 640)\n",
      "\n",
      "0: 384x640 2 bottles, 4 chairs, 2 laptops, 50.6ms\n",
      "Speed: 1.5ms preprocess, 50.6ms inference, 0.7ms postprocess per image at shape (1, 3, 384, 640)\n",
      "\n",
      "0: 384x640 1 bottle, 2 chairs, 1 tv, 1 sink, 48.5ms\n",
      "Speed: 1.5ms preprocess, 48.5ms inference, 0.6ms postprocess per image at shape (1, 3, 384, 640)\n",
      "\n",
      "0: 384x640 1 bottle, 2 chairs, 2 beds, 2 sinks, 51.2ms\n",
      "Speed: 1.4ms preprocess, 51.2ms inference, 1.0ms postprocess per image at shape (1, 3, 384, 640)\n",
      "\n",
      "0: 384x640 1 suitcase, 2 chairs, 1 sink, 50.5ms\n",
      "Speed: 1.5ms preprocess, 50.5ms inference, 0.9ms postprocess per image at shape (1, 3, 384, 640)\n",
      "\n",
      "0: 384x640 4 chairs, 52.4ms\n",
      "Speed: 2.1ms preprocess, 52.4ms inference, 0.9ms postprocess per image at shape (1, 3, 384, 640)\n",
      "\n",
      "0: 384x640 3 chairs, 1 dining table, 52.8ms\n",
      "Speed: 1.5ms preprocess, 52.8ms inference, 0.9ms postprocess per image at shape (1, 3, 384, 640)\n",
      "\n",
      "0: 384x640 4 chairs, 1 dining table, 1 laptop, 53.9ms\n",
      "Speed: 1.4ms preprocess, 53.9ms inference, 0.8ms postprocess per image at shape (1, 3, 384, 640)\n",
      "\n",
      "0: 384x640 3 chairs, 1 dining table, 69.2ms\n",
      "Speed: 2.1ms preprocess, 69.2ms inference, 0.6ms postprocess per image at shape (1, 3, 384, 640)\n",
      "\n",
      "0: 384x640 3 chairs, 1 dining table, 49.1ms\n",
      "Speed: 1.5ms preprocess, 49.1ms inference, 0.7ms postprocess per image at shape (1, 3, 384, 640)\n",
      "\n",
      "0: 384x640 3 chairs, 51.0ms\n",
      "Speed: 1.5ms preprocess, 51.0ms inference, 0.8ms postprocess per image at shape (1, 3, 384, 640)\n",
      "\n",
      "0: 384x640 2 chairs, 1 sink, 49.4ms\n",
      "Speed: 1.5ms preprocess, 49.4ms inference, 0.6ms postprocess per image at shape (1, 3, 384, 640)\n",
      "\n",
      "0: 384x640 1 bottle, 4 chairs, 54.1ms\n",
      "Speed: 1.5ms preprocess, 54.1ms inference, 0.8ms postprocess per image at shape (1, 3, 384, 640)\n",
      "\n",
      "0: 384x640 5 chairs, 1 laptop, 52.1ms\n",
      "Speed: 1.5ms preprocess, 52.1ms inference, 0.7ms postprocess per image at shape (1, 3, 384, 640)\n",
      "\n",
      "0: 384x640 6 chairs, 49.9ms\n",
      "Speed: 1.5ms preprocess, 49.9ms inference, 0.6ms postprocess per image at shape (1, 3, 384, 640)\n",
      "\n",
      "0: 384x640 1 bottle, 6 chairs, 48.6ms\n",
      "Speed: 1.4ms preprocess, 48.6ms inference, 0.6ms postprocess per image at shape (1, 3, 384, 640)\n",
      "\n",
      "0: 384x640 1 bottle, 5 chairs, 52.7ms\n",
      "Speed: 1.6ms preprocess, 52.7ms inference, 0.7ms postprocess per image at shape (1, 3, 384, 640)\n",
      "\n",
      "0: 384x640 2 bottles, 5 chairs, 1 dining table, 67.2ms\n",
      "Speed: 1.4ms preprocess, 67.2ms inference, 0.7ms postprocess per image at shape (1, 3, 384, 640)\n",
      "\n",
      "0: 384x640 2 bottles, 7 chairs, 1 dining table, 51.2ms\n",
      "Speed: 1.5ms preprocess, 51.2ms inference, 0.7ms postprocess per image at shape (1, 3, 384, 640)\n",
      "\n",
      "0: 384x640 2 bottles, 4 chairs, 1 dining table, 49.2ms\n",
      "Speed: 1.4ms preprocess, 49.2ms inference, 0.6ms postprocess per image at shape (1, 3, 384, 640)\n",
      "\n",
      "0: 384x640 2 bottles, 5 chairs, 51.9ms\n",
      "Speed: 1.5ms preprocess, 51.9ms inference, 0.9ms postprocess per image at shape (1, 3, 384, 640)\n",
      "\n",
      "0: 384x640 1 bottle, 4 chairs, 49.6ms\n",
      "Speed: 1.4ms preprocess, 49.6ms inference, 0.8ms postprocess per image at shape (1, 3, 384, 640)\n",
      "\n",
      "0: 384x640 1 bottle, 4 chairs, 51.9ms\n",
      "Speed: 1.4ms preprocess, 51.9ms inference, 0.8ms postprocess per image at shape (1, 3, 384, 640)\n",
      "\n",
      "0: 384x640 2 bottles, 2 chairs, 1 tv, 1 laptop, 1 sink, 50.9ms\n",
      "Speed: 1.4ms preprocess, 50.9ms inference, 0.6ms postprocess per image at shape (1, 3, 384, 640)\n",
      "\n",
      "0: 384x640 2 bottles, 5 chairs, 1 bed, 1 dining table, 1 tv, 51.1ms\n",
      "Speed: 1.5ms preprocess, 51.1ms inference, 0.7ms postprocess per image at shape (1, 3, 384, 640)\n",
      "\n",
      "0: 384x640 2 bottles, 3 chairs, 1 tv, 48.1ms\n",
      "Speed: 1.5ms preprocess, 48.1ms inference, 0.6ms postprocess per image at shape (1, 3, 384, 640)\n",
      "\n",
      "0: 384x640 3 bottles, 3 chairs, 48.0ms\n",
      "Speed: 1.5ms preprocess, 48.0ms inference, 0.6ms postprocess per image at shape (1, 3, 384, 640)\n",
      "\n",
      "0: 384x640 2 bottles, 4 chairs, 1 bed, 1 tv, 1 laptop, 50.6ms\n",
      "Speed: 1.4ms preprocess, 50.6ms inference, 0.6ms postprocess per image at shape (1, 3, 384, 640)\n",
      "\n",
      "0: 384x640 2 bottles, 3 chairs, 2 dining tables, 1 tv, 50.0ms\n",
      "Speed: 1.4ms preprocess, 50.0ms inference, 0.7ms postprocess per image at shape (1, 3, 384, 640)\n",
      "\n",
      "0: 384x640 2 bottles, 3 chairs, 56.7ms\n",
      "Speed: 1.4ms preprocess, 56.7ms inference, 0.8ms postprocess per image at shape (1, 3, 384, 640)\n",
      "\n",
      "0: 384x640 2 bottles, 4 chairs, 1 laptop, 1 sink, 61.9ms\n",
      "Speed: 2.1ms preprocess, 61.9ms inference, 0.7ms postprocess per image at shape (1, 3, 384, 640)\n",
      "\n",
      "0: 384x640 2 bottles, 1 chair, 48.5ms\n",
      "Speed: 1.5ms preprocess, 48.5ms inference, 0.6ms postprocess per image at shape (1, 3, 384, 640)\n",
      "\n",
      "0: 384x640 2 bottles, 3 chairs, 50.5ms\n",
      "Speed: 1.4ms preprocess, 50.5ms inference, 0.6ms postprocess per image at shape (1, 3, 384, 640)\n",
      "\n",
      "0: 384x640 2 bottles, 1 chair, 1 sink, 55.3ms\n",
      "Speed: 1.4ms preprocess, 55.3ms inference, 0.7ms postprocess per image at shape (1, 3, 384, 640)\n",
      "\n",
      "0: 384x640 2 bottles, 5 chairs, 55.1ms\n",
      "Speed: 1.8ms preprocess, 55.1ms inference, 0.9ms postprocess per image at shape (1, 3, 384, 640)\n",
      "\n",
      "0: 384x640 1 backpack, 2 bottles, 8 chairs, 1 tv, 58.9ms\n",
      "Speed: 1.7ms preprocess, 58.9ms inference, 0.9ms postprocess per image at shape (1, 3, 384, 640)\n",
      "\n",
      "0: 384x640 1 bottle, 8 chairs, 52.0ms\n",
      "Speed: 1.5ms preprocess, 52.0ms inference, 0.8ms postprocess per image at shape (1, 3, 384, 640)\n",
      "\n",
      "0: 384x640 2 bottles, 3 chairs, 1 laptop, 50.7ms\n",
      "Speed: 1.5ms preprocess, 50.7ms inference, 0.6ms postprocess per image at shape (1, 3, 384, 640)\n",
      "\n",
      "0: 384x640 1 bottle, 2 chairs, 1 couch, 1 sink, 53.9ms\n",
      "Speed: 1.4ms preprocess, 53.9ms inference, 0.9ms postprocess per image at shape (1, 3, 384, 640)\n",
      "\n",
      "0: 384x640 (no detections), 56.7ms\n",
      "Speed: 1.8ms preprocess, 56.7ms inference, 0.7ms postprocess per image at shape (1, 3, 384, 640)\n",
      "\n",
      "0: 384x640 2 bottles, 59.9ms\n",
      "Speed: 1.4ms preprocess, 59.9ms inference, 0.9ms postprocess per image at shape (1, 3, 384, 640)\n",
      "\n",
      "0: 384x640 2 bottles, 1 chair, 73.7ms\n",
      "Speed: 1.7ms preprocess, 73.7ms inference, 0.6ms postprocess per image at shape (1, 3, 384, 640)\n",
      "\n",
      "0: 384x640 1 bottle, 3 chairs, 2 laptops, 1 cell phone, 52.2ms\n",
      "Speed: 1.5ms preprocess, 52.2ms inference, 0.8ms postprocess per image at shape (1, 3, 384, 640)\n",
      "\n",
      "0: 384x640 1 bottle, 1 sink, 59.3ms\n",
      "Speed: 1.5ms preprocess, 59.3ms inference, 0.6ms postprocess per image at shape (1, 3, 384, 640)\n",
      "\n",
      "0: 384x640 2 chairs, 48.2ms\n",
      "Speed: 1.5ms preprocess, 48.2ms inference, 0.6ms postprocess per image at shape (1, 3, 384, 640)\n",
      "\n",
      "0: 384x640 1 backpack, 4 chairs, 1 dining table, 51.1ms\n",
      "Speed: 1.4ms preprocess, 51.1ms inference, 0.7ms postprocess per image at shape (1, 3, 384, 640)\n",
      "\n",
      "0: 384x640 2 chairs, 2 laptops, 48.9ms\n",
      "Speed: 1.4ms preprocess, 48.9ms inference, 0.6ms postprocess per image at shape (1, 3, 384, 640)\n",
      "\n",
      "0: 384x640 1 backpack, 2 chairs, 2 laptops, 48.7ms\n",
      "Speed: 1.4ms preprocess, 48.7ms inference, 0.7ms postprocess per image at shape (1, 3, 384, 640)\n",
      "\n",
      "0: 384x640 1 backpack, 2 chairs, 2 laptops, 67.1ms\n",
      "Speed: 1.4ms preprocess, 67.1ms inference, 0.7ms postprocess per image at shape (1, 3, 384, 640)\n",
      "\n",
      "0: 384x640 1 chair, 1 bed, 1 laptop, 49.4ms\n",
      "Speed: 1.6ms preprocess, 49.4ms inference, 0.6ms postprocess per image at shape (1, 3, 384, 640)\n",
      "\n",
      "0: 384x640 1 backpack, 1 cup, 2 chairs, 3 laptops, 71.1ms\n",
      "Speed: 9.1ms preprocess, 71.1ms inference, 0.6ms postprocess per image at shape (1, 3, 384, 640)\n",
      "\n",
      "0: 384x640 1 backpack, 1 chair, 1 tv, 2 laptops, 49.2ms\n",
      "Speed: 1.4ms preprocess, 49.2ms inference, 0.6ms postprocess per image at shape (1, 3, 384, 640)\n",
      "\n",
      "0: 384x640 1 backpack, 1 chair, 1 tv, 2 laptops, 51.3ms\n",
      "Speed: 1.5ms preprocess, 51.3ms inference, 0.9ms postprocess per image at shape (1, 3, 384, 640)\n",
      "\n",
      "0: 384x640 1 backpack, 1 chair, 2 laptops, 50.2ms\n",
      "Speed: 1.4ms preprocess, 50.2ms inference, 0.6ms postprocess per image at shape (1, 3, 384, 640)\n",
      "\n",
      "0: 384x640 1 backpack, 1 chair, 2 laptops, 51.9ms\n",
      "Speed: 1.3ms preprocess, 51.9ms inference, 0.7ms postprocess per image at shape (1, 3, 384, 640)\n",
      "\n",
      "0: 384x640 1 backpack, 3 chairs, 2 laptops, 49.1ms\n",
      "Speed: 1.5ms preprocess, 49.1ms inference, 0.6ms postprocess per image at shape (1, 3, 384, 640)\n",
      "\n",
      "0: 384x640 1 bed, 134.7ms\n",
      "Speed: 3.8ms preprocess, 134.7ms inference, 0.6ms postprocess per image at shape (1, 3, 384, 640)\n",
      "\n",
      "0: 384x640 1 person, 1 microwave, 50.2ms\n",
      "Speed: 1.4ms preprocess, 50.2ms inference, 1.1ms postprocess per image at shape (1, 3, 384, 640)\n",
      "\n",
      "0: 384x640 1 person, 1 backpack, 1 bowl, 1 laptop, 51.5ms\n",
      "Speed: 1.5ms preprocess, 51.5ms inference, 0.8ms postprocess per image at shape (1, 3, 384, 640)\n"
     ]
    },
    {
     "name": "stdout",
     "output_type": "stream",
     "text": [
      "BOX START ---------------------\n",
      " person \n",
      "BOX END ---------------------\n",
      "BOX START ---------------------\n",
      " person \n",
      "BOX END ---------------------\n"
     ]
    },
    {
     "name": "stderr",
     "output_type": "stream",
     "text": [
      "\n",
      "0: 384x640 1 person, 1 backpack, 1 chair, 1 laptop, 68.9ms\n",
      "Speed: 1.4ms preprocess, 68.9ms inference, 0.6ms postprocess per image at shape (1, 3, 384, 640)\n",
      "\n",
      "0: 384x640 1 person, 1 backpack, 2 chairs, 48.7ms\n",
      "Speed: 1.6ms preprocess, 48.7ms inference, 0.6ms postprocess per image at shape (1, 3, 384, 640)\n",
      "\n"
     ]
    },
    {
     "name": "stdout",
     "output_type": "stream",
     "text": [
      "BOX START ---------------------\n",
      " person \n",
      "BOX END ---------------------\n",
      "BOX START ---------------------\n",
      " person \n",
      "BOX END ---------------------\n"
     ]
    },
    {
     "name": "stderr",
     "output_type": "stream",
     "text": [
      "0: 384x640 1 person, 1 backpack, 2 chairs, 49.4ms\n",
      "Speed: 1.9ms preprocess, 49.4ms inference, 0.6ms postprocess per image at shape (1, 3, 384, 640)\n",
      "\n",
      "0: 384x640 1 person, 2 chairs, 1 laptop, 51.6ms\n",
      "Speed: 1.4ms preprocess, 51.6ms inference, 0.8ms postprocess per image at shape (1, 3, 384, 640)\n"
     ]
    },
    {
     "name": "stdout",
     "output_type": "stream",
     "text": [
      "BOX START ---------------------\n",
      " person \n",
      "BOX END ---------------------\n",
      "BOX START ---------------------\n",
      " person \n",
      "BOX END ---------------------\n"
     ]
    },
    {
     "name": "stderr",
     "output_type": "stream",
     "text": [
      "\n",
      "0: 384x640 1 person, 3 chairs, 1 laptop, 58.7ms\n",
      "Speed: 1.6ms preprocess, 58.7ms inference, 0.6ms postprocess per image at shape (1, 3, 384, 640)\n",
      "\n",
      "0: 384x640 1 person, 1 bed, 50.4ms\n",
      "Speed: 1.6ms preprocess, 50.4ms inference, 0.6ms postprocess per image at shape (1, 3, 384, 640)\n",
      "\n"
     ]
    },
    {
     "name": "stdout",
     "output_type": "stream",
     "text": [
      "BOX START ---------------------\n",
      " person \n",
      "BOX END ---------------------\n",
      "BOX START ---------------------\n",
      " person \n",
      "BOX END ---------------------\n"
     ]
    },
    {
     "name": "stderr",
     "output_type": "stream",
     "text": [
      "0: 384x640 1 person, 1 chair, 1 bed, 60.1ms\n",
      "Speed: 1.4ms preprocess, 60.1ms inference, 0.9ms postprocess per image at shape (1, 3, 384, 640)\n",
      "\n",
      "0: 384x640 2 beds, 50.1ms\n",
      "Speed: 1.4ms preprocess, 50.1ms inference, 0.9ms postprocess per image at shape (1, 3, 384, 640)\n",
      "\n"
     ]
    },
    {
     "name": "stdout",
     "output_type": "stream",
     "text": [
      "BOX START ---------------------\n",
      " person \n",
      "BOX END ---------------------\n"
     ]
    },
    {
     "name": "stderr",
     "output_type": "stream",
     "text": [
      "0: 384x640 1 backpack, 1 chair, 1 bed, 1 laptop, 53.3ms\n",
      "Speed: 1.4ms preprocess, 53.3ms inference, 0.9ms postprocess per image at shape (1, 3, 384, 640)\n",
      "\n",
      "0: 384x640 1 backpack, 1 chair, 1 bed, 1 laptop, 51.9ms\n",
      "Speed: 1.4ms preprocess, 51.9ms inference, 0.6ms postprocess per image at shape (1, 3, 384, 640)\n",
      "\n",
      "0: 384x640 1 backpack, 1 bottle, 2 chairs, 1 bed, 1 laptop, 51.0ms\n",
      "Speed: 1.5ms preprocess, 51.0ms inference, 0.7ms postprocess per image at shape (1, 3, 384, 640)\n",
      "\n",
      "0: 384x640 1 backpack, 2 chairs, 1 dining table, 1 laptop, 51.9ms\n",
      "Speed: 1.5ms preprocess, 51.9ms inference, 0.8ms postprocess per image at shape (1, 3, 384, 640)\n",
      "\n",
      "0: 384x640 1 backpack, 1 bottle, 4 chairs, 1 dining table, 1 laptop, 49.9ms\n",
      "Speed: 1.5ms preprocess, 49.9ms inference, 0.6ms postprocess per image at shape (1, 3, 384, 640)\n",
      "\n",
      "0: 384x640 1 backpack, 4 chairs, 1 dining table, 1 laptop, 50.3ms\n",
      "Speed: 1.6ms preprocess, 50.3ms inference, 0.6ms postprocess per image at shape (1, 3, 384, 640)\n",
      "\n",
      "0: 384x640 1 bottle, 3 chairs, 1 dining table, 1 tv, 1 laptop, 51.2ms\n",
      "Speed: 1.4ms preprocess, 51.2ms inference, 0.8ms postprocess per image at shape (1, 3, 384, 640)\n",
      "\n",
      "0: 384x640 1 bottle, 3 chairs, 1 dining table, 1 laptop, 53.4ms\n",
      "Speed: 1.5ms preprocess, 53.4ms inference, 0.9ms postprocess per image at shape (1, 3, 384, 640)\n",
      "\n",
      "0: 384x640 4 chairs, 1 dining table, 1 laptop, 50.0ms\n",
      "Speed: 1.6ms preprocess, 50.0ms inference, 0.7ms postprocess per image at shape (1, 3, 384, 640)\n",
      "\n",
      "0: 384x640 1 backpack, 1 bottle, 4 chairs, 1 dining table, 1 laptop, 60.7ms\n",
      "Speed: 1.8ms preprocess, 60.7ms inference, 0.9ms postprocess per image at shape (1, 3, 384, 640)\n",
      "\n",
      "0: 384x640 1 backpack, 4 chairs, 1 dining table, 1 laptop, 48.2ms\n",
      "Speed: 1.4ms preprocess, 48.2ms inference, 0.6ms postprocess per image at shape (1, 3, 384, 640)\n",
      "\n",
      "0: 384x640 4 chairs, 1 dining table, 1 laptop, 51.3ms\n",
      "Speed: 1.5ms preprocess, 51.3ms inference, 0.8ms postprocess per image at shape (1, 3, 384, 640)\n",
      "\n",
      "0: 384x640 3 chairs, 1 dining table, 1 laptop, 57.1ms\n",
      "Speed: 1.4ms preprocess, 57.1ms inference, 1.1ms postprocess per image at shape (1, 3, 384, 640)\n",
      "\n",
      "0: 384x640 2 bottles, 4 chairs, 1 dining table, 1 laptop, 111.0ms\n",
      "Speed: 1.6ms preprocess, 111.0ms inference, 0.6ms postprocess per image at shape (1, 3, 384, 640)\n",
      "\n",
      "0: 384x640 1 chair, 1 laptop, 51.4ms\n",
      "Speed: 1.5ms preprocess, 51.4ms inference, 0.6ms postprocess per image at shape (1, 3, 384, 640)\n",
      "\n",
      "0: 384x640 2 bottles, 3 chairs, 1 laptop, 53.1ms\n",
      "Speed: 1.5ms preprocess, 53.1ms inference, 0.8ms postprocess per image at shape (1, 3, 384, 640)\n",
      "\n",
      "0: 384x640 1 bottle, 3 chairs, 1 dining table, 1 laptop, 49.1ms\n",
      "Speed: 1.5ms preprocess, 49.1ms inference, 0.6ms postprocess per image at shape (1, 3, 384, 640)\n",
      "\n",
      "0: 384x640 1 backpack, 1 bottle, 3 chairs, 1 dining table, 2 laptops, 48.9ms\n",
      "Speed: 1.4ms preprocess, 48.9ms inference, 0.6ms postprocess per image at shape (1, 3, 384, 640)\n",
      "\n",
      "0: 384x640 1 bottle, 2 chairs, 1 dining table, 1 tv, 1 laptop, 50.9ms\n",
      "Speed: 1.8ms preprocess, 50.9ms inference, 0.8ms postprocess per image at shape (1, 3, 384, 640)\n",
      "\n",
      "0: 384x640 2 bottles, 3 chairs, 1 dining table, 1 laptop, 48.7ms\n",
      "Speed: 1.5ms preprocess, 48.7ms inference, 0.6ms postprocess per image at shape (1, 3, 384, 640)\n",
      "\n",
      "0: 384x640 4 chairs, 1 dining table, 1 laptop, 49.1ms\n",
      "Speed: 1.5ms preprocess, 49.1ms inference, 0.6ms postprocess per image at shape (1, 3, 384, 640)\n",
      "\n",
      "0: 384x640 1 bottle, 3 chairs, 1 dining table, 2 laptops, 53.6ms\n",
      "Speed: 1.5ms preprocess, 53.6ms inference, 0.9ms postprocess per image at shape (1, 3, 384, 640)\n",
      "\n",
      "0: 384x640 3 chairs, 1 dining table, 1 laptop, 49.9ms\n",
      "Speed: 1.5ms preprocess, 49.9ms inference, 0.6ms postprocess per image at shape (1, 3, 384, 640)\n",
      "\n",
      "0: 384x640 1 bottle, 3 chairs, 1 dining table, 1 laptop, 50.6ms\n",
      "Speed: 1.5ms preprocess, 50.6ms inference, 0.6ms postprocess per image at shape (1, 3, 384, 640)\n",
      "\n",
      "0: 384x640 2 bottles, 2 chairs, 1 dining table, 1 laptop, 48.4ms\n",
      "Speed: 1.5ms preprocess, 48.4ms inference, 0.6ms postprocess per image at shape (1, 3, 384, 640)\n",
      "\n",
      "0: 384x640 2 chairs, 1 laptop, 52.5ms\n",
      "Speed: 1.4ms preprocess, 52.5ms inference, 0.6ms postprocess per image at shape (1, 3, 384, 640)\n",
      "\n",
      "0: 384x640 2 bottles, 3 chairs, 1 dining table, 1 laptop, 51.1ms\n",
      "Speed: 1.4ms preprocess, 51.1ms inference, 0.9ms postprocess per image at shape (1, 3, 384, 640)\n",
      "\n",
      "0: 384x640 3 chairs, 1 dining table, 1 tv, 1 laptop, 49.3ms\n",
      "Speed: 1.4ms preprocess, 49.3ms inference, 0.6ms postprocess per image at shape (1, 3, 384, 640)\n",
      "\n",
      "0: 384x640 3 chairs, 1 dining table, 1 laptop, 50.3ms\n",
      "Speed: 1.6ms preprocess, 50.3ms inference, 1.0ms postprocess per image at shape (1, 3, 384, 640)\n",
      "\n",
      "0: 384x640 3 chairs, 1 dining table, 1 laptop, 51.5ms\n",
      "Speed: 1.5ms preprocess, 51.5ms inference, 0.8ms postprocess per image at shape (1, 3, 384, 640)\n",
      "\n",
      "0: 384x640 1 chair, 1 laptop, 50.1ms\n",
      "Speed: 1.5ms preprocess, 50.1ms inference, 0.6ms postprocess per image at shape (1, 3, 384, 640)\n",
      "\n",
      "0: 384x640 3 chairs, 1 dining table, 1 laptop, 50.6ms\n",
      "Speed: 2.4ms preprocess, 50.6ms inference, 0.7ms postprocess per image at shape (1, 3, 384, 640)\n",
      "\n",
      "0: 384x640 1 bottle, 3 chairs, 1 dining table, 2 laptops, 69.0ms\n",
      "Speed: 1.5ms preprocess, 69.0ms inference, 0.6ms postprocess per image at shape (1, 3, 384, 640)\n",
      "\n",
      "0: 384x640 3 chairs, 1 dining table, 1 laptop, 49.8ms\n",
      "Speed: 1.5ms preprocess, 49.8ms inference, 0.6ms postprocess per image at shape (1, 3, 384, 640)\n",
      "\n",
      "0: 384x640 4 chairs, 1 dining table, 50.8ms\n",
      "Speed: 2.1ms preprocess, 50.8ms inference, 0.7ms postprocess per image at shape (1, 3, 384, 640)\n",
      "\n",
      "0: 384x640 4 chairs, 1 dining table, 49.6ms\n",
      "Speed: 1.6ms preprocess, 49.6ms inference, 0.6ms postprocess per image at shape (1, 3, 384, 640)\n",
      "\n",
      "0: 384x640 4 chairs, 1 dining table, 1 laptop, 48.6ms\n",
      "Speed: 1.4ms preprocess, 48.6ms inference, 0.8ms postprocess per image at shape (1, 3, 384, 640)\n",
      "\n",
      "0: 384x640 3 chairs, 1 dining table, 1 laptop, 49.2ms\n",
      "Speed: 1.4ms preprocess, 49.2ms inference, 0.6ms postprocess per image at shape (1, 3, 384, 640)\n",
      "\n",
      "0: 384x640 1 bottle, 3 chairs, 1 dining table, 1 laptop, 50.8ms\n",
      "Speed: 1.5ms preprocess, 50.8ms inference, 0.8ms postprocess per image at shape (1, 3, 384, 640)\n",
      "\n",
      "0: 384x640 2 chairs, 1 dining table, 1 laptop, 52.3ms\n",
      "Speed: 2.9ms preprocess, 52.3ms inference, 0.7ms postprocess per image at shape (1, 3, 384, 640)\n",
      "\n",
      "0: 384x640 4 chairs, 51.0ms\n",
      "Speed: 1.7ms preprocess, 51.0ms inference, 0.8ms postprocess per image at shape (1, 3, 384, 640)\n",
      "\n",
      "0: 384x640 3 chairs, 1 dining table, 49.3ms\n",
      "Speed: 1.4ms preprocess, 49.3ms inference, 0.7ms postprocess per image at shape (1, 3, 384, 640)\n",
      "\n",
      "0: 384x640 4 chairs, 1 dining table, 48.0ms\n",
      "Speed: 1.5ms preprocess, 48.0ms inference, 0.6ms postprocess per image at shape (1, 3, 384, 640)\n",
      "\n",
      "0: 384x640 1 bottle, 3 chairs, 1 dining table, 1 laptop, 47.9ms\n",
      "Speed: 1.6ms preprocess, 47.9ms inference, 0.6ms postprocess per image at shape (1, 3, 384, 640)\n",
      "\n",
      "0: 384x640 3 chairs, 1 dining table, 1 laptop, 67.3ms\n",
      "Speed: 1.6ms preprocess, 67.3ms inference, 1.6ms postprocess per image at shape (1, 3, 384, 640)\n",
      "\n",
      "0: 384x640 3 chairs, 1 dining table, 1 laptop, 48.8ms\n",
      "Speed: 1.4ms preprocess, 48.8ms inference, 0.6ms postprocess per image at shape (1, 3, 384, 640)\n",
      "\n",
      "0: 384x640 1 backpack, 1 chair, 1 laptop, 48.6ms\n",
      "Speed: 1.4ms preprocess, 48.6ms inference, 0.8ms postprocess per image at shape (1, 3, 384, 640)\n",
      "\n",
      "0: 384x640 1 backpack, 1 chair, 1 laptop, 47.7ms\n",
      "Speed: 1.4ms preprocess, 47.7ms inference, 0.7ms postprocess per image at shape (1, 3, 384, 640)\n",
      "\n",
      "0: 384x640 1 bed, 49.9ms\n",
      "Speed: 1.4ms preprocess, 49.9ms inference, 0.7ms postprocess per image at shape (1, 3, 384, 640)\n",
      "\n",
      "0: 384x640 1 backpack, 3 chairs, 2 laptops, 49.8ms\n",
      "Speed: 1.5ms preprocess, 49.8ms inference, 0.7ms postprocess per image at shape (1, 3, 384, 640)\n",
      "\n",
      "0: 384x640 1 backpack, 3 chairs, 50.6ms\n",
      "Speed: 1.6ms preprocess, 50.6ms inference, 0.7ms postprocess per image at shape (1, 3, 384, 640)\n",
      "\n",
      "0: 384x640 1 backpack, 3 chairs, 49.0ms\n",
      "Speed: 1.4ms preprocess, 49.0ms inference, 0.6ms postprocess per image at shape (1, 3, 384, 640)\n",
      "\n",
      "0: 384x640 2 chairs, 1 laptop, 50.0ms\n",
      "Speed: 2.1ms preprocess, 50.0ms inference, 0.6ms postprocess per image at shape (1, 3, 384, 640)\n",
      "\n",
      "0: 384x640 2 chairs, 62.3ms\n",
      "Speed: 1.5ms preprocess, 62.3ms inference, 0.8ms postprocess per image at shape (1, 3, 384, 640)\n",
      "\n",
      "0: 384x640 1 bottle, 2 chairs, 62.7ms\n",
      "Speed: 1.5ms preprocess, 62.7ms inference, 1.1ms postprocess per image at shape (1, 3, 384, 640)\n",
      "\n",
      "0: 384x640 2 chairs, 1 dining table, 49.5ms\n",
      "Speed: 1.5ms preprocess, 49.5ms inference, 0.6ms postprocess per image at shape (1, 3, 384, 640)\n",
      "\n",
      "0: 384x640 1 backpack, 2 chairs, 1 dining table, 1 laptop, 50.7ms\n",
      "Speed: 1.4ms preprocess, 50.7ms inference, 0.8ms postprocess per image at shape (1, 3, 384, 640)\n",
      "\n",
      "0: 384x640 1 backpack, 1 bottle, 3 chairs, 1 dining table, 47.9ms\n",
      "Speed: 1.8ms preprocess, 47.9ms inference, 0.6ms postprocess per image at shape (1, 3, 384, 640)\n",
      "\n",
      "0: 384x640 1 backpack, 2 chairs, 1 laptop, 50.4ms\n",
      "Speed: 1.5ms preprocess, 50.4ms inference, 0.7ms postprocess per image at shape (1, 3, 384, 640)\n",
      "\n",
      "0: 384x640 1 backpack, 2 chairs, 49.3ms\n",
      "Speed: 1.4ms preprocess, 49.3ms inference, 0.6ms postprocess per image at shape (1, 3, 384, 640)\n",
      "\n",
      "0: 384x640 1 person, 1 backpack, 1 bottle, 2 chairs, 68.3ms\n",
      "Speed: 1.5ms preprocess, 68.3ms inference, 0.6ms postprocess per image at shape (1, 3, 384, 640)\n",
      "\n",
      "0: 384x640 1 person, 1 backpack, 2 chairs, 1 laptop, 48.6ms\n",
      "Speed: 1.4ms preprocess, 48.6ms inference, 0.6ms postprocess per image at shape (1, 3, 384, 640)\n",
      "\n"
     ]
    },
    {
     "name": "stdout",
     "output_type": "stream",
     "text": [
      "BOX START ---------------------\n",
      " person \n",
      "BOX END ---------------------\n",
      "BOX START ---------------------\n",
      " person \n",
      "BOX END ---------------------\n"
     ]
    },
    {
     "name": "stderr",
     "output_type": "stream",
     "text": [
      "0: 384x640 1 person, 1 backpack, 1 chair, 49.9ms\n",
      "Speed: 1.4ms preprocess, 49.9ms inference, 0.6ms postprocess per image at shape (1, 3, 384, 640)\n",
      "\n",
      "0: 384x640 1 backpack, 2 chairs, 49.8ms\n",
      "Speed: 1.4ms preprocess, 49.8ms inference, 0.6ms postprocess per image at shape (1, 3, 384, 640)\n",
      "\n"
     ]
    },
    {
     "name": "stdout",
     "output_type": "stream",
     "text": [
      "BOX START ---------------------\n",
      " person \n",
      "BOX END ---------------------\n"
     ]
    },
    {
     "name": "stderr",
     "output_type": "stream",
     "text": [
      "0: 384x640 2 chairs, 1 bed, 55.7ms\n",
      "Speed: 1.5ms preprocess, 55.7ms inference, 0.8ms postprocess per image at shape (1, 3, 384, 640)\n",
      "\n",
      "0: 384x640 1 person, 1 chair, 50.7ms\n",
      "Speed: 1.5ms preprocess, 50.7ms inference, 0.8ms postprocess per image at shape (1, 3, 384, 640)\n",
      "\n",
      "0: 384x640 2 persons, 1 laptop, 48.7ms\n",
      "Speed: 1.4ms preprocess, 48.7ms inference, 0.6ms postprocess per image at shape (1, 3, 384, 640)\n",
      "\n",
      "0: 384x640 1 person, 2 beds, 49.9ms\n",
      "Speed: 1.4ms preprocess, 49.9ms inference, 0.7ms postprocess per image at shape (1, 3, 384, 640)\n"
     ]
    },
    {
     "name": "stdout",
     "output_type": "stream",
     "text": [
      "BOX START ---------------------\n",
      " person \n",
      "BOX END ---------------------\n",
      "BOX START ---------------------\n",
      " person \n",
      "BOX END ---------------------\n",
      "BOX START ---------------------\n",
      " person \n",
      "BOX END ---------------------\n"
     ]
    },
    {
     "name": "stderr",
     "output_type": "stream",
     "text": [
      "\n",
      "0: 384x640 1 person, 1 knife, 1 bed, 2 laptops, 112.5ms\n",
      "Speed: 1.4ms preprocess, 112.5ms inference, 0.6ms postprocess per image at shape (1, 3, 384, 640)\n"
     ]
    },
    {
     "name": "stdout",
     "output_type": "stream",
     "text": [
      "BOX START ---------------------\n",
      " person \n",
      "BOX END ---------------------\n",
      "BOX START ---------------------\n",
      " person \n",
      "BOX END ---------------------\n"
     ]
    },
    {
     "name": "stderr",
     "output_type": "stream",
     "text": [
      "\n",
      "0: 384x640 1 person, 2 laptops, 56.4ms\n",
      "Speed: 1.5ms preprocess, 56.4ms inference, 0.8ms postprocess per image at shape (1, 3, 384, 640)\n",
      "\n",
      "0: 384x640 1 laptop, 1 book, 49.3ms\n",
      "Speed: 1.3ms preprocess, 49.3ms inference, 0.6ms postprocess per image at shape (1, 3, 384, 640)\n",
      "\n"
     ]
    },
    {
     "name": "stdout",
     "output_type": "stream",
     "text": [
      "BOX START ---------------------\n",
      " person \n",
      "BOX END ---------------------\n"
     ]
    },
    {
     "name": "stderr",
     "output_type": "stream",
     "text": [
      "0: 384x640 1 bed, 59.5ms\n",
      "Speed: 1.4ms preprocess, 59.5ms inference, 0.8ms postprocess per image at shape (1, 3, 384, 640)\n",
      "\n",
      "0: 384x640 1 chair, 4 laptops, 1 mouse, 49.2ms\n",
      "Speed: 1.5ms preprocess, 49.2ms inference, 0.6ms postprocess per image at shape (1, 3, 384, 640)\n",
      "\n",
      "0: 384x640 1 bed, 1 book, 49.9ms\n",
      "Speed: 1.5ms preprocess, 49.9ms inference, 0.7ms postprocess per image at shape (1, 3, 384, 640)\n",
      "\n",
      "0: 384x640 3 laptops, 48.9ms\n",
      "Speed: 1.3ms preprocess, 48.9ms inference, 0.6ms postprocess per image at shape (1, 3, 384, 640)\n",
      "\n",
      "0: 384x640 1 chair, 2 laptops, 49.7ms\n",
      "Speed: 1.5ms preprocess, 49.7ms inference, 0.8ms postprocess per image at shape (1, 3, 384, 640)\n",
      "\n",
      "0: 384x640 4 chairs, 1 couch, 1 sink, 50.2ms\n",
      "Speed: 1.6ms preprocess, 50.2ms inference, 0.6ms postprocess per image at shape (1, 3, 384, 640)\n",
      "\n",
      "0: 384x640 4 chairs, 1 bed, 53.2ms\n",
      "Speed: 2.1ms preprocess, 53.2ms inference, 1.0ms postprocess per image at shape (1, 3, 384, 640)\n",
      "\n",
      "0: 384x640 4 chairs, 1 sink, 49.1ms\n",
      "Speed: 1.5ms preprocess, 49.1ms inference, 0.7ms postprocess per image at shape (1, 3, 384, 640)\n",
      "\n",
      "0: 384x640 1 chair, 1 sink, 48.2ms\n",
      "Speed: 1.5ms preprocess, 48.2ms inference, 0.6ms postprocess per image at shape (1, 3, 384, 640)\n",
      "\n",
      "0: 384x640 (no detections), 51.6ms\n",
      "Speed: 1.8ms preprocess, 51.6ms inference, 0.5ms postprocess per image at shape (1, 3, 384, 640)\n",
      "\n",
      "0: 384x640 4 chairs, 50.8ms\n",
      "Speed: 1.8ms preprocess, 50.8ms inference, 0.8ms postprocess per image at shape (1, 3, 384, 640)\n",
      "\n",
      "0: 384x640 1 person, 52.8ms\n",
      "Speed: 1.4ms preprocess, 52.8ms inference, 0.6ms postprocess per image at shape (1, 3, 384, 640)\n",
      "\n",
      "0: 384x640 (no detections), 52.1ms\n",
      "Speed: 1.7ms preprocess, 52.1ms inference, 0.5ms postprocess per image at shape (1, 3, 384, 640)\n",
      "\n"
     ]
    },
    {
     "name": "stdout",
     "output_type": "stream",
     "text": [
      "BOX START ---------------------\n",
      " person \n",
      "BOX END ---------------------\n"
     ]
    },
    {
     "name": "stderr",
     "output_type": "stream",
     "text": [
      "0: 384x640 1 laptop, 58.1ms\n",
      "Speed: 1.4ms preprocess, 58.1ms inference, 0.8ms postprocess per image at shape (1, 3, 384, 640)\n",
      "\n",
      "0: 384x640 (no detections), 50.0ms\n",
      "Speed: 1.5ms preprocess, 50.0ms inference, 0.4ms postprocess per image at shape (1, 3, 384, 640)\n",
      "\n",
      "0: 384x640 1 laptop, 1 keyboard, 49.1ms\n",
      "Speed: 1.4ms preprocess, 49.1ms inference, 0.6ms postprocess per image at shape (1, 3, 384, 640)\n",
      "\n",
      "0: 384x640 1 laptop, 49.0ms\n",
      "Speed: 1.3ms preprocess, 49.0ms inference, 0.6ms postprocess per image at shape (1, 3, 384, 640)\n",
      "\n",
      "0: 384x640 1 laptop, 1 keyboard, 49.5ms\n",
      "Speed: 1.4ms preprocess, 49.5ms inference, 0.8ms postprocess per image at shape (1, 3, 384, 640)\n",
      "\n",
      "0: 384x640 1 laptop, 1 cell phone, 48.2ms\n",
      "Speed: 1.8ms preprocess, 48.2ms inference, 0.8ms postprocess per image at shape (1, 3, 384, 640)\n",
      "\n",
      "0: 384x640 1 laptop, 1 cell phone, 50.8ms\n",
      "Speed: 1.5ms preprocess, 50.8ms inference, 0.6ms postprocess per image at shape (1, 3, 384, 640)\n",
      "\n",
      "0: 384x640 1 laptop, 1 cell phone, 54.1ms\n",
      "Speed: 1.7ms preprocess, 54.1ms inference, 0.8ms postprocess per image at shape (1, 3, 384, 640)\n",
      "\n",
      "0: 384x640 1 laptop, 1 cell phone, 52.6ms\n",
      "Speed: 1.5ms preprocess, 52.6ms inference, 0.6ms postprocess per image at shape (1, 3, 384, 640)\n",
      "\n",
      "0: 384x640 1 laptop, 1 keyboard, 1 cell phone, 49.1ms\n",
      "Speed: 1.5ms preprocess, 49.1ms inference, 0.6ms postprocess per image at shape (1, 3, 384, 640)\n",
      "\n",
      "0: 384x640 1 laptop, 1 cell phone, 49.8ms\n",
      "Speed: 1.5ms preprocess, 49.8ms inference, 0.8ms postprocess per image at shape (1, 3, 384, 640)\n",
      "\n",
      "0: 384x640 1 laptop, 1 cell phone, 49.6ms\n",
      "Speed: 1.4ms preprocess, 49.6ms inference, 0.6ms postprocess per image at shape (1, 3, 384, 640)\n",
      "\n",
      "0: 384x640 1 laptop, 1 keyboard, 1 cell phone, 48.3ms\n",
      "Speed: 1.6ms preprocess, 48.3ms inference, 1.0ms postprocess per image at shape (1, 3, 384, 640)\n",
      "\n",
      "0: 384x640 1 laptop, 1 cell phone, 49.6ms\n",
      "Speed: 1.6ms preprocess, 49.6ms inference, 0.6ms postprocess per image at shape (1, 3, 384, 640)\n",
      "\n",
      "0: 384x640 1 laptop, 51.0ms\n",
      "Speed: 2.0ms preprocess, 51.0ms inference, 0.9ms postprocess per image at shape (1, 3, 384, 640)\n",
      "\n",
      "0: 384x640 1 laptop, 1 cell phone, 52.4ms\n",
      "Speed: 1.4ms preprocess, 52.4ms inference, 0.7ms postprocess per image at shape (1, 3, 384, 640)\n",
      "\n",
      "0: 384x640 1 laptop, 1 cell phone, 52.9ms\n",
      "Speed: 2.1ms preprocess, 52.9ms inference, 0.8ms postprocess per image at shape (1, 3, 384, 640)\n",
      "\n",
      "0: 384x640 1 laptop, 1 cell phone, 50.5ms\n",
      "Speed: 1.4ms preprocess, 50.5ms inference, 0.7ms postprocess per image at shape (1, 3, 384, 640)\n",
      "\n",
      "0: 384x640 1 laptop, 1 cell phone, 52.3ms\n",
      "Speed: 1.5ms preprocess, 52.3ms inference, 0.7ms postprocess per image at shape (1, 3, 384, 640)\n",
      "\n",
      "0: 384x640 1 laptop, 1 keyboard, 1 cell phone, 53.5ms\n",
      "Speed: 1.4ms preprocess, 53.5ms inference, 0.8ms postprocess per image at shape (1, 3, 384, 640)\n",
      "\n",
      "0: 384x640 1 person, 11 cars, 1 keyboard, 49.0ms\n",
      "Speed: 1.6ms preprocess, 49.0ms inference, 0.6ms postprocess per image at shape (1, 3, 384, 640)\n",
      "\n",
      "0: 384x640 1 keyboard, 69.7ms\n",
      "Speed: 1.5ms preprocess, 69.7ms inference, 0.6ms postprocess per image at shape (1, 3, 384, 640)\n",
      "\n"
     ]
    },
    {
     "name": "stdout",
     "output_type": "stream",
     "text": [
      "BOX START ---------------------\n",
      " person \n",
      "BOX END ---------------------\n"
     ]
    },
    {
     "name": "stderr",
     "output_type": "stream",
     "text": [
      "0: 384x640 1 laptop, 2 keyboards, 57.5ms\n",
      "Speed: 1.4ms preprocess, 57.5ms inference, 1.0ms postprocess per image at shape (1, 3, 384, 640)\n",
      "\n",
      "0: 384x640 1 laptop, 1 keyboard, 66.0ms\n",
      "Speed: 1.6ms preprocess, 66.0ms inference, 0.6ms postprocess per image at shape (1, 3, 384, 640)\n",
      "\n",
      "0: 384x640 1 laptop, 1 keyboard, 52.0ms\n",
      "Speed: 1.4ms preprocess, 52.0ms inference, 0.7ms postprocess per image at shape (1, 3, 384, 640)\n",
      "\n",
      "0: 384x640 1 laptop, 1 keyboard, 50.7ms\n",
      "Speed: 1.5ms preprocess, 50.7ms inference, 0.6ms postprocess per image at shape (1, 3, 384, 640)\n",
      "\n",
      "0: 384x640 1 laptop, 1 keyboard, 52.3ms\n",
      "Speed: 1.4ms preprocess, 52.3ms inference, 0.6ms postprocess per image at shape (1, 3, 384, 640)\n",
      "\n",
      "0: 384x640 1 laptop, 1 keyboard, 49.6ms\n",
      "Speed: 1.6ms preprocess, 49.6ms inference, 0.6ms postprocess per image at shape (1, 3, 384, 640)\n",
      "\n",
      "0: 384x640 1 laptop, 1 keyboard, 49.6ms\n",
      "Speed: 1.5ms preprocess, 49.6ms inference, 0.8ms postprocess per image at shape (1, 3, 384, 640)\n",
      "\n",
      "0: 384x640 1 laptop, 1 keyboard, 52.2ms\n",
      "Speed: 1.4ms preprocess, 52.2ms inference, 0.8ms postprocess per image at shape (1, 3, 384, 640)\n",
      "\n",
      "0: 384x640 1 laptop, 1 keyboard, 50.0ms\n",
      "Speed: 1.5ms preprocess, 50.0ms inference, 0.6ms postprocess per image at shape (1, 3, 384, 640)\n",
      "\n",
      "0: 384x640 1 laptop, 49.1ms\n",
      "Speed: 1.4ms preprocess, 49.1ms inference, 0.6ms postprocess per image at shape (1, 3, 384, 640)\n",
      "\n",
      "0: 384x640 (no detections), 49.3ms\n",
      "Speed: 1.4ms preprocess, 49.3ms inference, 0.4ms postprocess per image at shape (1, 3, 384, 640)\n",
      "\n",
      "0: 384x640 (no detections), 50.9ms\n",
      "Speed: 1.4ms preprocess, 50.9ms inference, 0.5ms postprocess per image at shape (1, 3, 384, 640)\n",
      "\n",
      "0: 384x640 1 cat, 49.8ms\n",
      "Speed: 1.5ms preprocess, 49.8ms inference, 1.0ms postprocess per image at shape (1, 3, 384, 640)\n",
      "\n",
      "0: 384x640 1 person, 50.9ms\n",
      "Speed: 1.5ms preprocess, 50.9ms inference, 0.7ms postprocess per image at shape (1, 3, 384, 640)\n",
      "\n",
      "0: 384x640 1 person, 1 chair, 49.1ms\n",
      "Speed: 1.7ms preprocess, 49.1ms inference, 0.9ms postprocess per image at shape (1, 3, 384, 640)\n",
      "\n"
     ]
    },
    {
     "name": "stdout",
     "output_type": "stream",
     "text": [
      "BOX START ---------------------\n",
      " person \n",
      "BOX END ---------------------\n",
      "BOX START ---------------------\n",
      " person \n",
      "BOX END ---------------------\n"
     ]
    },
    {
     "name": "stderr",
     "output_type": "stream",
     "text": [
      "0: 384x640 1 person, 2 chairs, 59.1ms\n",
      "Speed: 1.4ms preprocess, 59.1ms inference, 0.8ms postprocess per image at shape (1, 3, 384, 640)\n",
      "\n",
      "0: 384x640 1 person, 1 chair, 1 tv, 56.2ms\n",
      "Speed: 1.4ms preprocess, 56.2ms inference, 0.7ms postprocess per image at shape (1, 3, 384, 640)\n",
      "\n"
     ]
    },
    {
     "name": "stdout",
     "output_type": "stream",
     "text": [
      "BOX START ---------------------\n",
      " person \n",
      "BOX END ---------------------\n",
      "BOX START ---------------------\n",
      " person \n",
      "BOX END ---------------------\n"
     ]
    },
    {
     "name": "stderr",
     "output_type": "stream",
     "text": [
      "0: 384x640 1 person, 2 chairs, 1 laptop, 55.2ms\n",
      "Speed: 1.5ms preprocess, 55.2ms inference, 0.9ms postprocess per image at shape (1, 3, 384, 640)\n",
      "\n",
      "0: 384x640 1 person, 2 chairs, 49.8ms\n",
      "Speed: 1.4ms preprocess, 49.8ms inference, 0.6ms postprocess per image at shape (1, 3, 384, 640)\n",
      "\n"
     ]
    },
    {
     "name": "stdout",
     "output_type": "stream",
     "text": [
      "BOX START ---------------------\n",
      " person \n",
      "BOX END ---------------------\n",
      "BOX START ---------------------\n",
      " person \n",
      "BOX END ---------------------\n"
     ]
    },
    {
     "name": "stderr",
     "output_type": "stream",
     "text": [
      "0: 384x640 1 person, 1 chair, 61.4ms\n",
      "Speed: 1.7ms preprocess, 61.4ms inference, 0.8ms postprocess per image at shape (1, 3, 384, 640)\n",
      "\n",
      "0: 384x640 1 chair, 51.2ms\n",
      "Speed: 1.5ms preprocess, 51.2ms inference, 1.0ms postprocess per image at shape (1, 3, 384, 640)\n",
      "\n"
     ]
    },
    {
     "name": "stdout",
     "output_type": "stream",
     "text": [
      "BOX START ---------------------\n",
      " person \n",
      "BOX END ---------------------\n"
     ]
    },
    {
     "name": "stderr",
     "output_type": "stream",
     "text": [
      "0: 384x640 2 chairs, 64.3ms\n",
      "Speed: 1.5ms preprocess, 64.3ms inference, 0.6ms postprocess per image at shape (1, 3, 384, 640)\n",
      "\n",
      "0: 384x640 3 chairs, 1 couch, 1 tv, 51.8ms\n",
      "Speed: 1.4ms preprocess, 51.8ms inference, 0.8ms postprocess per image at shape (1, 3, 384, 640)\n",
      "\n",
      "0: 384x640 3 chairs, 71.5ms\n",
      "Speed: 1.7ms preprocess, 71.5ms inference, 0.9ms postprocess per image at shape (1, 3, 384, 640)\n",
      "\n",
      "0: 384x640 3 chairs, 50.3ms\n",
      "Speed: 1.4ms preprocess, 50.3ms inference, 0.6ms postprocess per image at shape (1, 3, 384, 640)\n",
      "\n",
      "0: 384x640 3 chairs, 1 couch, 1 tv, 49.9ms\n",
      "Speed: 1.8ms preprocess, 49.9ms inference, 0.9ms postprocess per image at shape (1, 3, 384, 640)\n",
      "\n",
      "0: 384x640 3 chairs, 1 tv, 50.8ms\n",
      "Speed: 1.4ms preprocess, 50.8ms inference, 0.9ms postprocess per image at shape (1, 3, 384, 640)\n",
      "\n",
      "0: 384x640 4 chairs, 1 tv, 51.2ms\n",
      "Speed: 1.4ms preprocess, 51.2ms inference, 0.9ms postprocess per image at shape (1, 3, 384, 640)\n",
      "\n",
      "0: 384x640 3 chairs, 1 tv, 51.5ms\n",
      "Speed: 1.5ms preprocess, 51.5ms inference, 0.9ms postprocess per image at shape (1, 3, 384, 640)\n",
      "\n",
      "0: 384x640 4 chairs, 1 tv, 51.0ms\n",
      "Speed: 1.6ms preprocess, 51.0ms inference, 0.8ms postprocess per image at shape (1, 3, 384, 640)\n",
      "\n",
      "0: 384x640 3 chairs, 1 tv, 52.4ms\n",
      "Speed: 1.5ms preprocess, 52.4ms inference, 0.7ms postprocess per image at shape (1, 3, 384, 640)\n",
      "\n",
      "0: 384x640 3 chairs, 1 tv, 52.6ms\n",
      "Speed: 1.6ms preprocess, 52.6ms inference, 0.9ms postprocess per image at shape (1, 3, 384, 640)\n",
      "\n",
      "0: 384x640 1 backpack, 3 chairs, 1 tv, 50.7ms\n",
      "Speed: 1.5ms preprocess, 50.7ms inference, 0.6ms postprocess per image at shape (1, 3, 384, 640)\n",
      "\n",
      "0: 384x640 1 backpack, 3 chairs, 1 tv, 49.8ms\n",
      "Speed: 1.4ms preprocess, 49.8ms inference, 0.8ms postprocess per image at shape (1, 3, 384, 640)\n",
      "\n",
      "0: 384x640 1 backpack, 2 chairs, 53.5ms\n",
      "Speed: 1.4ms preprocess, 53.5ms inference, 0.9ms postprocess per image at shape (1, 3, 384, 640)\n",
      "\n",
      "0: 384x640 3 chairs, 50.3ms\n",
      "Speed: 1.4ms preprocess, 50.3ms inference, 0.8ms postprocess per image at shape (1, 3, 384, 640)\n",
      "\n",
      "0: 384x640 1 backpack, 3 chairs, 50.8ms\n",
      "Speed: 1.5ms preprocess, 50.8ms inference, 0.7ms postprocess per image at shape (1, 3, 384, 640)\n",
      "\n",
      "0: 384x640 (no detections), 50.5ms\n",
      "Speed: 1.7ms preprocess, 50.5ms inference, 0.4ms postprocess per image at shape (1, 3, 384, 640)\n",
      "\n",
      "0: 384x640 1 car, 49.7ms\n",
      "Speed: 1.4ms preprocess, 49.7ms inference, 0.7ms postprocess per image at shape (1, 3, 384, 640)\n",
      "\n",
      "0: 384x640 1 cup, 1 chair, 1 laptop, 110.0ms\n",
      "Speed: 1.5ms preprocess, 110.0ms inference, 0.6ms postprocess per image at shape (1, 3, 384, 640)\n",
      "\n",
      "0: 384x640 1 bottle, 1 chair, 1 sink, 53.0ms\n",
      "Speed: 1.8ms preprocess, 53.0ms inference, 0.7ms postprocess per image at shape (1, 3, 384, 640)\n",
      "\n",
      "0: 384x640 1 bottle, 4 chairs, 2 laptops, 50.8ms\n",
      "Speed: 1.4ms preprocess, 50.8ms inference, 0.7ms postprocess per image at shape (1, 3, 384, 640)\n",
      "\n",
      "0: 384x640 6 chairs, 2 laptops, 52.9ms\n",
      "Speed: 1.6ms preprocess, 52.9ms inference, 0.7ms postprocess per image at shape (1, 3, 384, 640)\n",
      "\n",
      "0: 384x640 1 backpack, 5 chairs, 2 laptops, 50.6ms\n",
      "Speed: 1.5ms preprocess, 50.6ms inference, 0.8ms postprocess per image at shape (1, 3, 384, 640)\n",
      "\n",
      "0: 384x640 9 chairs, 3 laptops, 50.8ms\n",
      "Speed: 1.5ms preprocess, 50.8ms inference, 0.6ms postprocess per image at shape (1, 3, 384, 640)\n",
      "\n",
      "0: 384x640 7 chairs, 1 tv, 3 laptops, 51.2ms\n",
      "Speed: 1.5ms preprocess, 51.2ms inference, 0.8ms postprocess per image at shape (1, 3, 384, 640)\n",
      "\n",
      "0: 384x640 5 chairs, 3 laptops, 49.3ms\n",
      "Speed: 1.4ms preprocess, 49.3ms inference, 0.6ms postprocess per image at shape (1, 3, 384, 640)\n",
      "\n",
      "0: 384x640 8 chairs, 1 tv, 3 laptops, 50.0ms\n",
      "Speed: 1.5ms preprocess, 50.0ms inference, 0.7ms postprocess per image at shape (1, 3, 384, 640)\n",
      "\n",
      "0: 384x640 7 chairs, 1 tv, 3 laptops, 49.7ms\n",
      "Speed: 1.7ms preprocess, 49.7ms inference, 0.8ms postprocess per image at shape (1, 3, 384, 640)\n",
      "\n",
      "0: 384x640 9 chairs, 3 laptops, 53.9ms\n",
      "Speed: 1.4ms preprocess, 53.9ms inference, 0.9ms postprocess per image at shape (1, 3, 384, 640)\n",
      "\n",
      "0: 384x640 8 chairs, 3 laptops, 54.1ms\n",
      "Speed: 1.4ms preprocess, 54.1ms inference, 0.9ms postprocess per image at shape (1, 3, 384, 640)\n",
      "\n",
      "0: 384x640 9 chairs, 1 tv, 3 laptops, 51.2ms\n",
      "Speed: 1.4ms preprocess, 51.2ms inference, 0.8ms postprocess per image at shape (1, 3, 384, 640)\n",
      "\n",
      "0: 384x640 5 chairs, 2 laptops, 59.4ms\n",
      "Speed: 1.6ms preprocess, 59.4ms inference, 0.8ms postprocess per image at shape (1, 3, 384, 640)\n",
      "\n",
      "0: 384x640 1 backpack, 8 chairs, 1 tv, 2 laptops, 52.1ms\n",
      "Speed: 1.5ms preprocess, 52.1ms inference, 0.7ms postprocess per image at shape (1, 3, 384, 640)\n",
      "\n",
      "0: 384x640 5 chairs, 1 tv, 3 laptops, 48.8ms\n",
      "Speed: 1.4ms preprocess, 48.8ms inference, 0.6ms postprocess per image at shape (1, 3, 384, 640)\n",
      "\n",
      "0: 384x640 7 chairs, 1 tv, 2 laptops, 48.7ms\n",
      "Speed: 1.4ms preprocess, 48.7ms inference, 0.6ms postprocess per image at shape (1, 3, 384, 640)\n",
      "\n",
      "0: 384x640 1 suitcase, 7 chairs, 3 laptops, 53.5ms\n",
      "Speed: 1.4ms preprocess, 53.5ms inference, 0.8ms postprocess per image at shape (1, 3, 384, 640)\n",
      "\n",
      "0: 384x640 8 chairs, 3 laptops, 51.2ms\n",
      "Speed: 1.7ms preprocess, 51.2ms inference, 0.9ms postprocess per image at shape (1, 3, 384, 640)\n",
      "\n",
      "0: 384x640 1 backpack, 7 chairs, 3 laptops, 53.0ms\n",
      "Speed: 1.4ms preprocess, 53.0ms inference, 1.1ms postprocess per image at shape (1, 3, 384, 640)\n",
      "\n",
      "0: 384x640 6 chairs, 4 laptops, 51.0ms\n",
      "Speed: 1.4ms preprocess, 51.0ms inference, 0.6ms postprocess per image at shape (1, 3, 384, 640)\n",
      "\n",
      "0: 384x640 6 chairs, 1 tv, 2 laptops, 50.9ms\n",
      "Speed: 1.5ms preprocess, 50.9ms inference, 0.8ms postprocess per image at shape (1, 3, 384, 640)\n",
      "\n",
      "0: 384x640 1 backpack, 6 chairs, 3 laptops, 52.6ms\n",
      "Speed: 1.4ms preprocess, 52.6ms inference, 1.0ms postprocess per image at shape (1, 3, 384, 640)\n",
      "\n",
      "0: 384x640 4 chairs, 1 tv, 4 laptops, 49.9ms\n",
      "Speed: 1.3ms preprocess, 49.9ms inference, 0.6ms postprocess per image at shape (1, 3, 384, 640)\n",
      "\n",
      "0: 384x640 1 backpack, 6 chairs, 2 laptops, 51.4ms\n",
      "Speed: 1.5ms preprocess, 51.4ms inference, 0.8ms postprocess per image at shape (1, 3, 384, 640)\n",
      "\n",
      "0: 384x640 4 chairs, 1 tv, 2 laptops, 50.0ms\n",
      "Speed: 1.4ms preprocess, 50.0ms inference, 0.6ms postprocess per image at shape (1, 3, 384, 640)\n",
      "\n",
      "0: 384x640 5 chairs, 3 laptops, 49.8ms\n",
      "Speed: 1.5ms preprocess, 49.8ms inference, 0.7ms postprocess per image at shape (1, 3, 384, 640)\n",
      "\n",
      "0: 384x640 3 laptops, 53.2ms\n",
      "Speed: 1.4ms preprocess, 53.2ms inference, 1.0ms postprocess per image at shape (1, 3, 384, 640)\n",
      "\n",
      "0: 384x640 3 chairs, 2 laptops, 50.5ms\n",
      "Speed: 1.4ms preprocess, 50.5ms inference, 0.7ms postprocess per image at shape (1, 3, 384, 640)\n",
      "\n",
      "0: 384x640 4 chairs, 2 laptops, 53.4ms\n",
      "Speed: 1.4ms preprocess, 53.4ms inference, 0.9ms postprocess per image at shape (1, 3, 384, 640)\n",
      "\n",
      "0: 384x640 5 chairs, 3 laptops, 50.4ms\n",
      "Speed: 1.5ms preprocess, 50.4ms inference, 0.6ms postprocess per image at shape (1, 3, 384, 640)\n",
      "\n",
      "0: 384x640 4 chairs, 2 laptops, 53.1ms\n",
      "Speed: 1.6ms preprocess, 53.1ms inference, 0.8ms postprocess per image at shape (1, 3, 384, 640)\n",
      "\n",
      "0: 384x640 5 chairs, 3 laptops, 51.1ms\n",
      "Speed: 1.4ms preprocess, 51.1ms inference, 0.8ms postprocess per image at shape (1, 3, 384, 640)\n",
      "\n",
      "0: 384x640 1 backpack, 4 chairs, 1 couch, 2 laptops, 52.7ms\n",
      "Speed: 1.4ms preprocess, 52.7ms inference, 0.8ms postprocess per image at shape (1, 3, 384, 640)\n",
      "\n",
      "0: 384x640 3 chairs, 1 couch, 2 laptops, 57.4ms\n",
      "Speed: 1.4ms preprocess, 57.4ms inference, 0.7ms postprocess per image at shape (1, 3, 384, 640)\n",
      "\n",
      "0: 384x640 3 chairs, 2 laptops, 77.2ms\n",
      "Speed: 2.0ms preprocess, 77.2ms inference, 0.6ms postprocess per image at shape (1, 3, 384, 640)\n",
      "\n",
      "0: 384x640 4 chairs, 2 laptops, 52.5ms\n",
      "Speed: 1.5ms preprocess, 52.5ms inference, 0.8ms postprocess per image at shape (1, 3, 384, 640)\n",
      "\n",
      "0: 384x640 1 laptop, 50.0ms\n",
      "Speed: 1.5ms preprocess, 50.0ms inference, 0.6ms postprocess per image at shape (1, 3, 384, 640)\n",
      "\n",
      "0: 384x640 (no detections), 50.8ms\n",
      "Speed: 1.5ms preprocess, 50.8ms inference, 0.5ms postprocess per image at shape (1, 3, 384, 640)\n",
      "\n",
      "0: 384x640 7 chairs, 1 dining table, 1 tv, 2 laptops, 51.0ms\n",
      "Speed: 1.4ms preprocess, 51.0ms inference, 1.0ms postprocess per image at shape (1, 3, 384, 640)\n",
      "\n",
      "0: 384x640 10 chairs, 2 dining tables, 1 tv, 2 laptops, 51.7ms\n",
      "Speed: 1.4ms preprocess, 51.7ms inference, 0.8ms postprocess per image at shape (1, 3, 384, 640)\n",
      "\n",
      "0: 384x640 9 chairs, 2 dining tables, 1 laptop, 53.2ms\n",
      "Speed: 1.6ms preprocess, 53.2ms inference, 0.8ms postprocess per image at shape (1, 3, 384, 640)\n",
      "\n",
      "0: 384x640 1 bottle, 8 chairs, 2 dining tables, 1 laptop, 49.6ms\n",
      "Speed: 1.4ms preprocess, 49.6ms inference, 0.6ms postprocess per image at shape (1, 3, 384, 640)\n",
      "\n",
      "0: 384x640 1 bottle, 8 chairs, 2 dining tables, 1 tv, 2 laptops, 50.6ms\n",
      "Speed: 1.4ms preprocess, 50.6ms inference, 0.8ms postprocess per image at shape (1, 3, 384, 640)\n",
      "\n",
      "0: 384x640 1 bottle, 7 chairs, 2 dining tables, 1 tv, 1 laptop, 62.9ms\n",
      "Speed: 1.5ms preprocess, 62.9ms inference, 0.8ms postprocess per image at shape (1, 3, 384, 640)\n",
      "\n",
      "0: 384x640 12 chairs, 1 dining table, 1 tv, 1 laptop, 51.1ms\n",
      "Speed: 1.5ms preprocess, 51.1ms inference, 0.9ms postprocess per image at shape (1, 3, 384, 640)\n",
      "\n",
      "0: 384x640 6 chairs, 1 dining table, 50.8ms\n",
      "Speed: 1.6ms preprocess, 50.8ms inference, 0.8ms postprocess per image at shape (1, 3, 384, 640)\n",
      "\n",
      "0: 384x640 1 bottle, 1 chair, 1 dining table, 50.3ms\n",
      "Speed: 1.5ms preprocess, 50.3ms inference, 0.6ms postprocess per image at shape (1, 3, 384, 640)\n",
      "\n",
      "0: 384x640 1 bottle, 2 chairs, 1 dining table, 51.1ms\n",
      "Speed: 1.5ms preprocess, 51.1ms inference, 0.8ms postprocess per image at shape (1, 3, 384, 640)\n",
      "\n",
      "0: 384x640 1 bottle, 1 chair, 1 dining table, 1 tv, 1 sink, 51.9ms\n",
      "Speed: 1.5ms preprocess, 51.9ms inference, 0.8ms postprocess per image at shape (1, 3, 384, 640)\n",
      "\n",
      "0: 384x640 2 bottles, 2 chairs, 1 dining table, 1 microwave, 142.6ms\n",
      "Speed: 1.4ms preprocess, 142.6ms inference, 1.0ms postprocess per image at shape (1, 3, 384, 640)\n",
      "\n",
      "0: 384x640 2 chairs, 49.5ms\n",
      "Speed: 1.5ms preprocess, 49.5ms inference, 0.9ms postprocess per image at shape (1, 3, 384, 640)\n",
      "\n",
      "0: 384x640 4 chairs, 2 dining tables, 1 tv, 50.9ms\n",
      "Speed: 1.4ms preprocess, 50.9ms inference, 0.6ms postprocess per image at shape (1, 3, 384, 640)\n",
      "\n",
      "0: 384x640 7 chairs, 1 tv, 50.4ms\n",
      "Speed: 1.5ms preprocess, 50.4ms inference, 0.6ms postprocess per image at shape (1, 3, 384, 640)\n",
      "\n",
      "0: 384x640 4 chairs, 1 dining table, 1 tv, 49.8ms\n",
      "Speed: 1.4ms preprocess, 49.8ms inference, 0.6ms postprocess per image at shape (1, 3, 384, 640)\n",
      "\n",
      "0: 384x640 3 chairs, 49.9ms\n",
      "Speed: 1.5ms preprocess, 49.9ms inference, 0.6ms postprocess per image at shape (1, 3, 384, 640)\n",
      "\n",
      "0: 384x640 6 chairs, 51.3ms\n",
      "Speed: 1.7ms preprocess, 51.3ms inference, 1.0ms postprocess per image at shape (1, 3, 384, 640)\n",
      "\n",
      "0: 384x640 1 backpack, 8 chairs, 1 dining table, 50.6ms\n",
      "Speed: 1.5ms preprocess, 50.6ms inference, 0.9ms postprocess per image at shape (1, 3, 384, 640)\n",
      "\n",
      "0: 384x640 9 chairs, 2 dining tables, 51.8ms\n",
      "Speed: 1.5ms preprocess, 51.8ms inference, 0.8ms postprocess per image at shape (1, 3, 384, 640)\n",
      "\n",
      "0: 384x640 6 chairs, 1 dining table, 1 tv, 48.7ms\n",
      "Speed: 1.4ms preprocess, 48.7ms inference, 0.6ms postprocess per image at shape (1, 3, 384, 640)\n",
      "\n",
      "0: 384x640 7 chairs, 1 dining table, 1 tv, 50.3ms\n",
      "Speed: 1.6ms preprocess, 50.3ms inference, 0.6ms postprocess per image at shape (1, 3, 384, 640)\n",
      "\n",
      "0: 384x640 8 chairs, 2 dining tables, 1 tv, 52.6ms\n",
      "Speed: 1.4ms preprocess, 52.6ms inference, 0.9ms postprocess per image at shape (1, 3, 384, 640)\n",
      "\n",
      "0: 384x640 3 chairs, 1 dining table, 1 microwave, 49.0ms\n",
      "Speed: 1.5ms preprocess, 49.0ms inference, 0.6ms postprocess per image at shape (1, 3, 384, 640)\n",
      "\n",
      "0: 384x640 7 chairs, 1 dining table, 73.9ms\n",
      "Speed: 1.7ms preprocess, 73.9ms inference, 0.7ms postprocess per image at shape (1, 3, 384, 640)\n",
      "\n",
      "0: 384x640 4 chairs, 1 cell phone, 1 microwave, 54.1ms\n",
      "Speed: 2.5ms preprocess, 54.1ms inference, 0.6ms postprocess per image at shape (1, 3, 384, 640)\n",
      "\n",
      "0: 384x640 1 bottle, 4 chairs, 48.6ms\n",
      "Speed: 1.6ms preprocess, 48.6ms inference, 0.6ms postprocess per image at shape (1, 3, 384, 640)\n",
      "\n",
      "0: 384x640 1 bottle, 1 cup, 3 chairs, 51.1ms\n",
      "Speed: 1.5ms preprocess, 51.1ms inference, 0.6ms postprocess per image at shape (1, 3, 384, 640)\n",
      "\n",
      "0: 384x640 2 bottles, 2 chairs, 1 dining table, 1 laptop, 62.9ms\n",
      "Speed: 1.4ms preprocess, 62.9ms inference, 0.7ms postprocess per image at shape (1, 3, 384, 640)\n",
      "\n",
      "0: 384x640 1 bottle, 5 chairs, 1 dining table, 50.5ms\n",
      "Speed: 1.4ms preprocess, 50.5ms inference, 0.6ms postprocess per image at shape (1, 3, 384, 640)\n",
      "\n",
      "0: 384x640 1 bottle, 9 chairs, 1 dining table, 51.7ms\n",
      "Speed: 1.5ms preprocess, 51.7ms inference, 0.6ms postprocess per image at shape (1, 3, 384, 640)\n",
      "\n",
      "0: 384x640 1 bottle, 7 chairs, 2 dining tables, 1 laptop, 50.9ms\n",
      "Speed: 1.4ms preprocess, 50.9ms inference, 0.9ms postprocess per image at shape (1, 3, 384, 640)\n",
      "\n",
      "0: 384x640 1 bottle, 7 chairs, 2 dining tables, 2 tvs, 1 laptop, 49.1ms\n",
      "Speed: 1.4ms preprocess, 49.1ms inference, 0.8ms postprocess per image at shape (1, 3, 384, 640)\n",
      "\n",
      "0: 384x640 1 bottle, 8 chairs, 2 dining tables, 1 tv, 1 laptop, 49.5ms\n",
      "Speed: 1.5ms preprocess, 49.5ms inference, 0.6ms postprocess per image at shape (1, 3, 384, 640)\n",
      "\n",
      "0: 384x640 1 bottle, 8 chairs, 2 dining tables, 1 tv, 1 laptop, 49.7ms\n",
      "Speed: 1.5ms preprocess, 49.7ms inference, 0.6ms postprocess per image at shape (1, 3, 384, 640)\n",
      "\n",
      "0: 384x640 1 bottle, 7 chairs, 2 dining tables, 1 tv, 1 laptop, 109.5ms\n",
      "Speed: 1.5ms preprocess, 109.5ms inference, 0.7ms postprocess per image at shape (1, 3, 384, 640)\n",
      "\n",
      "0: 384x640 1 person, 1 bottle, 1 chair, 69.4ms\n",
      "Speed: 1.6ms preprocess, 69.4ms inference, 0.6ms postprocess per image at shape (1, 3, 384, 640)\n",
      "\n",
      "0: 384x640 1 person, 1 bottle, 1 sink, 50.0ms\n",
      "Speed: 1.4ms preprocess, 50.0ms inference, 0.7ms postprocess per image at shape (1, 3, 384, 640)\n",
      "\n"
     ]
    },
    {
     "name": "stdout",
     "output_type": "stream",
     "text": [
      "BOX START ---------------------\n",
      " person \n",
      "BOX END ---------------------\n",
      "BOX START ---------------------\n",
      " person \n",
      "BOX END ---------------------\n"
     ]
    },
    {
     "name": "stderr",
     "output_type": "stream",
     "text": [
      "0: 384x640 1 bottle, 1 chair, 51.7ms\n",
      "Speed: 1.5ms preprocess, 51.7ms inference, 0.8ms postprocess per image at shape (1, 3, 384, 640)\n",
      "\n",
      "0: 384x640 1 train, 1 bottle, 1 laptop, 51.5ms\n",
      "Speed: 1.5ms preprocess, 51.5ms inference, 0.6ms postprocess per image at shape (1, 3, 384, 640)\n",
      "\n",
      "0: 384x640 1 motorcycle, 1 bottle, 1 sink, 50.3ms\n",
      "Speed: 1.5ms preprocess, 50.3ms inference, 0.6ms postprocess per image at shape (1, 3, 384, 640)\n",
      "\n",
      "0: 384x640 1 bottle, 1 chair, 1 laptop, 49.3ms\n",
      "Speed: 1.8ms preprocess, 49.3ms inference, 0.6ms postprocess per image at shape (1, 3, 384, 640)\n",
      "\n",
      "0: 384x640 1 bottle, 9 chairs, 2 laptops, 48.5ms\n",
      "Speed: 1.5ms preprocess, 48.5ms inference, 0.6ms postprocess per image at shape (1, 3, 384, 640)\n",
      "\n",
      "0: 384x640 1 bottle, 8 chairs, 3 laptops, 49.7ms\n",
      "Speed: 1.4ms preprocess, 49.7ms inference, 0.6ms postprocess per image at shape (1, 3, 384, 640)\n",
      "\n",
      "0: 384x640 1 bottle, 8 chairs, 4 laptops, 52.5ms\n",
      "Speed: 1.6ms preprocess, 52.5ms inference, 1.0ms postprocess per image at shape (1, 3, 384, 640)\n",
      "\n",
      "0: 384x640 7 chairs, 1 tv, 2 laptops, 50.4ms\n",
      "Speed: 1.5ms preprocess, 50.4ms inference, 0.8ms postprocess per image at shape (1, 3, 384, 640)\n",
      "\n",
      "0: 384x640 9 chairs, 1 tv, 3 laptops, 48.7ms\n",
      "Speed: 1.4ms preprocess, 48.7ms inference, 0.7ms postprocess per image at shape (1, 3, 384, 640)\n",
      "\n",
      "0: 384x640 3 chairs, 1 tv, 2 laptops, 48.6ms\n",
      "Speed: 1.5ms preprocess, 48.6ms inference, 0.6ms postprocess per image at shape (1, 3, 384, 640)\n",
      "\n",
      "0: 384x640 1 bottle, 10 chairs, 1 tv, 3 laptops, 54.3ms\n",
      "Speed: 1.4ms preprocess, 54.3ms inference, 0.8ms postprocess per image at shape (1, 3, 384, 640)\n",
      "\n",
      "0: 384x640 1 bottle, 5 chairs, 1 tv, 1 laptop, 50.3ms\n",
      "Speed: 1.4ms preprocess, 50.3ms inference, 0.6ms postprocess per image at shape (1, 3, 384, 640)\n",
      "\n",
      "0: 384x640 8 chairs, 1 dining table, 1 tv, 3 laptops, 48.8ms\n",
      "Speed: 1.6ms preprocess, 48.8ms inference, 0.6ms postprocess per image at shape (1, 3, 384, 640)\n",
      "\n",
      "0: 384x640 1 backpack, 8 chairs, 1 dining table, 3 laptops, 51.2ms\n",
      "Speed: 1.7ms preprocess, 51.2ms inference, 0.9ms postprocess per image at shape (1, 3, 384, 640)\n",
      "\n",
      "0: 384x640 7 chairs, 1 dining table, 3 laptops, 50.5ms\n",
      "Speed: 1.4ms preprocess, 50.5ms inference, 0.7ms postprocess per image at shape (1, 3, 384, 640)\n",
      "\n",
      "0: 384x640 5 chairs, 1 tv, 3 laptops, 50.6ms\n",
      "Speed: 1.5ms preprocess, 50.6ms inference, 0.7ms postprocess per image at shape (1, 3, 384, 640)\n",
      "\n",
      "0: 384x640 11 chairs, 1 dining table, 4 laptops, 50.2ms\n",
      "Speed: 1.3ms preprocess, 50.2ms inference, 0.7ms postprocess per image at shape (1, 3, 384, 640)\n",
      "\n",
      "0: 384x640 8 chairs, 3 laptops, 50.6ms\n",
      "Speed: 1.4ms preprocess, 50.6ms inference, 0.8ms postprocess per image at shape (1, 3, 384, 640)\n",
      "\n",
      "0: 384x640 8 chairs, 3 laptops, 50.3ms\n",
      "Speed: 1.7ms preprocess, 50.3ms inference, 0.8ms postprocess per image at shape (1, 3, 384, 640)\n",
      "\n",
      "0: 384x640 7 chairs, 4 laptops, 50.9ms\n",
      "Speed: 1.5ms preprocess, 50.9ms inference, 0.6ms postprocess per image at shape (1, 3, 384, 640)\n",
      "\n",
      "0: 384x640 8 chairs, 3 laptops, 49.5ms\n",
      "Speed: 1.4ms preprocess, 49.5ms inference, 0.7ms postprocess per image at shape (1, 3, 384, 640)\n",
      "\n",
      "0: 384x640 1 backpack, 10 chairs, 3 laptops, 49.8ms\n",
      "Speed: 1.5ms preprocess, 49.8ms inference, 0.6ms postprocess per image at shape (1, 3, 384, 640)\n",
      "\n",
      "0: 384x640 8 chairs, 1 tv, 3 laptops, 49.4ms\n",
      "Speed: 1.5ms preprocess, 49.4ms inference, 0.7ms postprocess per image at shape (1, 3, 384, 640)\n",
      "\n",
      "0: 384x640 1 backpack, 4 chairs, 3 laptops, 49.5ms\n",
      "Speed: 1.4ms preprocess, 49.5ms inference, 0.6ms postprocess per image at shape (1, 3, 384, 640)\n",
      "\n",
      "0: 384x640 8 chairs, 3 laptops, 49.5ms\n",
      "Speed: 1.9ms preprocess, 49.5ms inference, 0.6ms postprocess per image at shape (1, 3, 384, 640)\n",
      "\n",
      "0: 384x640 1 backpack, 7 chairs, 2 laptops, 55.2ms\n",
      "Speed: 1.4ms preprocess, 55.2ms inference, 0.7ms postprocess per image at shape (1, 3, 384, 640)\n",
      "\n",
      "0: 384x640 7 chairs, 4 laptops, 49.6ms\n",
      "Speed: 1.4ms preprocess, 49.6ms inference, 0.6ms postprocess per image at shape (1, 3, 384, 640)\n",
      "\n",
      "0: 384x640 1 chair, 51.4ms\n",
      "Speed: 1.7ms preprocess, 51.4ms inference, 0.8ms postprocess per image at shape (1, 3, 384, 640)\n",
      "\n",
      "0: 384x640 1 chair, 2 laptops, 50.4ms\n",
      "Speed: 1.4ms preprocess, 50.4ms inference, 0.6ms postprocess per image at shape (1, 3, 384, 640)\n",
      "\n",
      "0: 384x640 1 chair, 1 laptop, 49.7ms\n",
      "Speed: 1.4ms preprocess, 49.7ms inference, 0.6ms postprocess per image at shape (1, 3, 384, 640)\n",
      "\n",
      "0: 384x640 4 chairs, 1 tv, 3 laptops, 49.9ms\n",
      "Speed: 1.9ms preprocess, 49.9ms inference, 0.6ms postprocess per image at shape (1, 3, 384, 640)\n",
      "\n",
      "0: 384x640 1 chair, 1 sink, 54.9ms\n",
      "Speed: 1.5ms preprocess, 54.9ms inference, 0.9ms postprocess per image at shape (1, 3, 384, 640)\n",
      "\n",
      "0: 384x640 1 train, 49.7ms\n",
      "Speed: 1.4ms preprocess, 49.7ms inference, 0.6ms postprocess per image at shape (1, 3, 384, 640)\n",
      "\n",
      "0: 384x640 (no detections), 49.2ms\n",
      "Speed: 1.4ms preprocess, 49.2ms inference, 0.4ms postprocess per image at shape (1, 3, 384, 640)\n",
      "\n",
      "0: 384x640 2 persons, 1 laptop, 48.0ms\n",
      "Speed: 1.4ms preprocess, 48.0ms inference, 0.6ms postprocess per image at shape (1, 3, 384, 640)\n",
      "\n",
      "0: 384x640 1 person, 49.7ms\n",
      "Speed: 1.4ms preprocess, 49.7ms inference, 0.6ms postprocess per image at shape (1, 3, 384, 640)\n",
      "\n"
     ]
    },
    {
     "name": "stdout",
     "output_type": "stream",
     "text": [
      "BOX START ---------------------\n",
      " person \n",
      "BOX END ---------------------\n",
      "BOX START ---------------------\n",
      " person \n",
      "BOX END ---------------------\n",
      "BOX START ---------------------\n",
      " person \n",
      "BOX END ---------------------\n"
     ]
    },
    {
     "name": "stderr",
     "output_type": "stream",
     "text": [
      "0: 384x640 1 person, 1 chair, 55.3ms\n",
      "Speed: 1.4ms preprocess, 55.3ms inference, 0.6ms postprocess per image at shape (1, 3, 384, 640)\n",
      "\n",
      "0: 384x640 1 person, 1 dining table, 52.8ms\n",
      "Speed: 1.5ms preprocess, 52.8ms inference, 1.0ms postprocess per image at shape (1, 3, 384, 640)\n"
     ]
    },
    {
     "name": "stdout",
     "output_type": "stream",
     "text": [
      "BOX START ---------------------\n",
      " person \n",
      "BOX END ---------------------\n",
      "BOX START ---------------------\n",
      " person \n",
      "BOX END ---------------------\n"
     ]
    },
    {
     "name": "stderr",
     "output_type": "stream",
     "text": [
      "\n",
      "0: 384x640 1 person, 1 frisbee, 52.5ms\n",
      "Speed: 1.4ms preprocess, 52.5ms inference, 0.8ms postprocess per image at shape (1, 3, 384, 640)\n",
      "\n",
      "0: 384x640 1 person, 1 chair, 50.2ms\n",
      "Speed: 1.5ms preprocess, 50.2ms inference, 0.7ms postprocess per image at shape (1, 3, 384, 640)\n"
     ]
    },
    {
     "name": "stdout",
     "output_type": "stream",
     "text": [
      "BOX START ---------------------\n",
      " person \n",
      "BOX END ---------------------\n",
      "BOX START ---------------------\n",
      " person \n",
      "BOX END ---------------------\n"
     ]
    },
    {
     "name": "stderr",
     "output_type": "stream",
     "text": [
      "\n",
      "0: 384x640 1 person, 1 chair, 114.0ms\n",
      "Speed: 1.5ms preprocess, 114.0ms inference, 0.6ms postprocess per image at shape (1, 3, 384, 640)\n",
      "\n",
      "0: 384x640 1 person, 49.3ms\n",
      "Speed: 1.6ms preprocess, 49.3ms inference, 0.8ms postprocess per image at shape (1, 3, 384, 640)\n",
      "\n"
     ]
    },
    {
     "name": "stdout",
     "output_type": "stream",
     "text": [
      "BOX START ---------------------\n",
      " person \n",
      "BOX END ---------------------\n",
      "BOX START ---------------------\n",
      " person \n",
      "BOX END ---------------------\n"
     ]
    },
    {
     "name": "stderr",
     "output_type": "stream",
     "text": [
      "0: 384x640 1 person, 58.0ms\n",
      "Speed: 1.4ms preprocess, 58.0ms inference, 0.8ms postprocess per image at shape (1, 3, 384, 640)\n",
      "\n",
      "0: 384x640 1 person, 50.0ms\n",
      "Speed: 1.5ms preprocess, 50.0ms inference, 0.6ms postprocess per image at shape (1, 3, 384, 640)\n",
      "\n"
     ]
    },
    {
     "name": "stdout",
     "output_type": "stream",
     "text": [
      "BOX START ---------------------\n",
      " person \n",
      "BOX END ---------------------\n",
      "BOX START ---------------------\n",
      " person \n",
      "BOX END ---------------------\n"
     ]
    },
    {
     "name": "stderr",
     "output_type": "stream",
     "text": [
      "0: 384x640 1 person, 1 bottle, 1 chair, 49.8ms\n",
      "Speed: 1.5ms preprocess, 49.8ms inference, 0.7ms postprocess per image at shape (1, 3, 384, 640)\n",
      "\n",
      "0: 384x640 1 person, 1 chair, 1 dining table, 49.9ms\n",
      "Speed: 1.4ms preprocess, 49.9ms inference, 0.6ms postprocess per image at shape (1, 3, 384, 640)\n"
     ]
    },
    {
     "name": "stdout",
     "output_type": "stream",
     "text": [
      "BOX START ---------------------\n",
      " person \n",
      "BOX END ---------------------\n",
      "BOX START ---------------------\n",
      " person \n",
      "BOX END ---------------------\n"
     ]
    },
    {
     "name": "stderr",
     "output_type": "stream",
     "text": [
      "\n",
      "0: 384x640 1 person, 2 chairs, 1 dining table, 63.7ms\n",
      "Speed: 1.4ms preprocess, 63.7ms inference, 0.7ms postprocess per image at shape (1, 3, 384, 640)\n",
      "\n",
      "0: 384x640 1 person, 1 chair, 1 dining table, 2 laptops, 51.5ms\n",
      "Speed: 1.4ms preprocess, 51.5ms inference, 0.8ms postprocess per image at shape (1, 3, 384, 640)\n",
      "\n"
     ]
    },
    {
     "name": "stdout",
     "output_type": "stream",
     "text": [
      "BOX START ---------------------\n",
      " person \n",
      "BOX END ---------------------\n",
      "BOX START ---------------------\n",
      " person \n",
      "BOX END ---------------------\n"
     ]
    },
    {
     "name": "stderr",
     "output_type": "stream",
     "text": [
      "0: 384x640 1 person, 54.7ms\n",
      "Speed: 1.4ms preprocess, 54.7ms inference, 0.8ms postprocess per image at shape (1, 3, 384, 640)\n",
      "\n",
      "0: 384x640 1 person, 1 bottle, 1 chair, 1 dining table, 47.7ms\n",
      "Speed: 1.8ms preprocess, 47.7ms inference, 0.6ms postprocess per image at shape (1, 3, 384, 640)\n",
      "\n"
     ]
    },
    {
     "name": "stdout",
     "output_type": "stream",
     "text": [
      "BOX START ---------------------\n",
      " person \n",
      "BOX END ---------------------\n",
      "BOX START ---------------------\n",
      " person \n",
      "BOX END ---------------------\n"
     ]
    },
    {
     "name": "stderr",
     "output_type": "stream",
     "text": [
      "0: 384x640 1 person, 1 dining table, 56.8ms\n",
      "Speed: 1.4ms preprocess, 56.8ms inference, 0.7ms postprocess per image at shape (1, 3, 384, 640)\n",
      "\n",
      "0: 384x640 1 person, 1 chair, 1 dining table, 51.8ms\n",
      "Speed: 1.5ms preprocess, 51.8ms inference, 0.6ms postprocess per image at shape (1, 3, 384, 640)\n",
      "\n"
     ]
    },
    {
     "name": "stdout",
     "output_type": "stream",
     "text": [
      "BOX START ---------------------\n",
      " person \n",
      "BOX END ---------------------\n",
      "BOX START ---------------------\n",
      " person \n",
      "BOX END ---------------------\n"
     ]
    },
    {
     "name": "stderr",
     "output_type": "stream",
     "text": [
      "0: 384x640 1 person, 1 chair, 1 dining table, 54.2ms\n",
      "Speed: 1.7ms preprocess, 54.2ms inference, 0.7ms postprocess per image at shape (1, 3, 384, 640)\n",
      "\n",
      "0: 384x640 1 person, 1 chair, 1 dining table, 69.9ms\n",
      "Speed: 9.2ms preprocess, 69.9ms inference, 0.6ms postprocess per image at shape (1, 3, 384, 640)\n"
     ]
    },
    {
     "name": "stdout",
     "output_type": "stream",
     "text": [
      "BOX START ---------------------\n",
      " person \n",
      "BOX END ---------------------\n",
      "BOX START ---------------------\n",
      " person \n",
      "BOX END ---------------------\n"
     ]
    },
    {
     "name": "stderr",
     "output_type": "stream",
     "text": [
      "\n",
      "0: 384x640 1 person, 3 chairs, 1 dining table, 56.4ms\n",
      "Speed: 1.4ms preprocess, 56.4ms inference, 0.7ms postprocess per image at shape (1, 3, 384, 640)\n",
      "\n",
      "0: 384x640 1 person, 1 bottle, 1 chair, 1 dining table, 48.9ms\n",
      "Speed: 1.5ms preprocess, 48.9ms inference, 0.6ms postprocess per image at shape (1, 3, 384, 640)\n",
      "\n"
     ]
    },
    {
     "name": "stdout",
     "output_type": "stream",
     "text": [
      "BOX START ---------------------\n",
      " person \n",
      "BOX END ---------------------\n",
      "BOX START ---------------------\n",
      " person \n",
      "BOX END ---------------------\n"
     ]
    },
    {
     "name": "stderr",
     "output_type": "stream",
     "text": [
      "0: 384x640 1 person, 3 chairs, 1 dining table, 58.4ms\n",
      "Speed: 1.5ms preprocess, 58.4ms inference, 0.7ms postprocess per image at shape (1, 3, 384, 640)\n",
      "\n",
      "0: 384x640 1 person, 3 chairs, 49.7ms\n",
      "Speed: 1.6ms preprocess, 49.7ms inference, 0.8ms postprocess per image at shape (1, 3, 384, 640)\n",
      "\n"
     ]
    },
    {
     "name": "stdout",
     "output_type": "stream",
     "text": [
      "BOX START ---------------------\n",
      " person \n",
      "BOX END ---------------------\n",
      "BOX START ---------------------\n",
      " person \n",
      "BOX END ---------------------\n"
     ]
    },
    {
     "name": "stderr",
     "output_type": "stream",
     "text": [
      "0: 384x640 1 person, 2 chairs, 48.7ms\n",
      "Speed: 1.4ms preprocess, 48.7ms inference, 0.8ms postprocess per image at shape (1, 3, 384, 640)\n",
      "\n",
      "0: 384x640 1 person, 4 chairs, 1 laptop, 48.5ms\n",
      "Speed: 1.4ms preprocess, 48.5ms inference, 0.6ms postprocess per image at shape (1, 3, 384, 640)\n",
      "\n"
     ]
    },
    {
     "name": "stdout",
     "output_type": "stream",
     "text": [
      "BOX START ---------------------\n",
      " person \n",
      "BOX END ---------------------\n",
      "BOX START ---------------------\n",
      " person \n",
      "BOX END ---------------------\n"
     ]
    },
    {
     "name": "stderr",
     "output_type": "stream",
     "text": [
      "0: 384x640 1 person, 4 chairs, 56.2ms\n",
      "Speed: 1.7ms preprocess, 56.2ms inference, 0.8ms postprocess per image at shape (1, 3, 384, 640)\n",
      "\n",
      "0: 384x640 1 person, 2 chairs, 54.0ms\n",
      "Speed: 1.7ms preprocess, 54.0ms inference, 0.8ms postprocess per image at shape (1, 3, 384, 640)\n",
      "\n"
     ]
    },
    {
     "name": "stdout",
     "output_type": "stream",
     "text": [
      "BOX START ---------------------\n",
      " person \n",
      "BOX END ---------------------\n",
      "BOX START ---------------------\n",
      " person \n",
      "BOX END ---------------------\n"
     ]
    },
    {
     "name": "stderr",
     "output_type": "stream",
     "text": [
      "0: 384x640 1 person, 3 chairs, 57.8ms\n",
      "Speed: 1.6ms preprocess, 57.8ms inference, 0.8ms postprocess per image at shape (1, 3, 384, 640)\n",
      "\n",
      "0: 384x640 1 person, 2 chairs, 50.5ms\n",
      "Speed: 1.4ms preprocess, 50.5ms inference, 0.6ms postprocess per image at shape (1, 3, 384, 640)\n",
      "\n"
     ]
    },
    {
     "name": "stdout",
     "output_type": "stream",
     "text": [
      "BOX START ---------------------\n",
      " person \n",
      "BOX END ---------------------\n",
      "BOX START ---------------------\n",
      " person \n",
      "BOX END ---------------------\n"
     ]
    },
    {
     "name": "stderr",
     "output_type": "stream",
     "text": [
      "0: 384x640 1 person, 1 tie, 1 chair, 1 laptop, 50.0ms\n",
      "Speed: 1.7ms preprocess, 50.0ms inference, 1.1ms postprocess per image at shape (1, 3, 384, 640)\n",
      "\n",
      "0: 384x640 1 person, 2 chairs, 51.0ms\n",
      "Speed: 1.4ms preprocess, 51.0ms inference, 0.8ms postprocess per image at shape (1, 3, 384, 640)\n"
     ]
    },
    {
     "name": "stdout",
     "output_type": "stream",
     "text": [
      "BOX START ---------------------\n",
      " person \n",
      "BOX END ---------------------\n",
      "BOX START ---------------------\n",
      " person \n",
      "BOX END ---------------------\n"
     ]
    },
    {
     "name": "stderr",
     "output_type": "stream",
     "text": [
      "\n",
      "0: 384x640 1 person, 2 chairs, 1 laptop, 55.8ms\n",
      "Speed: 1.4ms preprocess, 55.8ms inference, 0.8ms postprocess per image at shape (1, 3, 384, 640)\n",
      "\n",
      "0: 384x640 1 person, 1 bottle, 2 chairs, 48.8ms\n",
      "Speed: 1.5ms preprocess, 48.8ms inference, 0.6ms postprocess per image at shape (1, 3, 384, 640)\n",
      "\n"
     ]
    },
    {
     "name": "stdout",
     "output_type": "stream",
     "text": [
      "BOX START ---------------------\n",
      " person \n",
      "BOX END ---------------------\n",
      "BOX START ---------------------\n",
      " person \n",
      "BOX END ---------------------\n"
     ]
    },
    {
     "name": "stderr",
     "output_type": "stream",
     "text": [
      "0: 384x640 1 person, 1 chair, 1 laptop, 63.1ms\n",
      "Speed: 1.5ms preprocess, 63.1ms inference, 1.1ms postprocess per image at shape (1, 3, 384, 640)\n",
      "\n",
      "0: 384x640 1 person, 2 chairs, 90.5ms\n",
      "Speed: 18.1ms preprocess, 90.5ms inference, 0.7ms postprocess per image at shape (1, 3, 384, 640)\n"
     ]
    },
    {
     "name": "stdout",
     "output_type": "stream",
     "text": [
      "BOX START ---------------------\n",
      " person \n",
      "BOX END ---------------------\n",
      "BOX START ---------------------\n",
      " person \n",
      "BOX END ---------------------\n"
     ]
    },
    {
     "name": "stderr",
     "output_type": "stream",
     "text": [
      "\n",
      "0: 384x640 1 person, 1 chair, 55.1ms\n",
      "Speed: 1.5ms preprocess, 55.1ms inference, 0.9ms postprocess per image at shape (1, 3, 384, 640)\n",
      "\n",
      "0: 384x640 1 person, 1 chair, 51.1ms\n",
      "Speed: 1.5ms preprocess, 51.1ms inference, 0.9ms postprocess per image at shape (1, 3, 384, 640)\n"
     ]
    },
    {
     "name": "stdout",
     "output_type": "stream",
     "text": [
      "BOX START ---------------------\n",
      " person \n",
      "BOX END ---------------------\n",
      "BOX START ---------------------\n",
      " person \n",
      "BOX END ---------------------\n"
     ]
    },
    {
     "name": "stderr",
     "output_type": "stream",
     "text": [
      "\n",
      "0: 384x640 1 person, 1 chair, 63.4ms\n",
      "Speed: 1.4ms preprocess, 63.4ms inference, 0.6ms postprocess per image at shape (1, 3, 384, 640)\n",
      "\n",
      "0: 384x640 1 person, 1 chair, 48.7ms\n",
      "Speed: 1.4ms preprocess, 48.7ms inference, 0.6ms postprocess per image at shape (1, 3, 384, 640)\n",
      "\n"
     ]
    },
    {
     "name": "stdout",
     "output_type": "stream",
     "text": [
      "BOX START ---------------------\n",
      " person \n",
      "BOX END ---------------------\n",
      "BOX START ---------------------\n",
      " person \n",
      "BOX END ---------------------\n"
     ]
    },
    {
     "name": "stderr",
     "output_type": "stream",
     "text": [
      "0: 384x640 1 person, 1 chair, 50.9ms\n",
      "Speed: 1.5ms preprocess, 50.9ms inference, 1.5ms postprocess per image at shape (1, 3, 384, 640)\n",
      "\n",
      "0: 384x640 1 person, 1 dining table, 49.9ms\n",
      "Speed: 1.4ms preprocess, 49.9ms inference, 0.6ms postprocess per image at shape (1, 3, 384, 640)\n",
      "\n"
     ]
    },
    {
     "name": "stdout",
     "output_type": "stream",
     "text": [
      "BOX START ---------------------\n",
      " person \n",
      "BOX END ---------------------\n",
      "BOX START ---------------------\n",
      " person \n",
      "BOX END ---------------------\n"
     ]
    },
    {
     "name": "stderr",
     "output_type": "stream",
     "text": [
      "0: 384x640 1 person, 1 dining table, 56.7ms\n",
      "Speed: 1.7ms preprocess, 56.7ms inference, 0.6ms postprocess per image at shape (1, 3, 384, 640)\n",
      "\n",
      "0: 384x640 1 person, 51.1ms\n",
      "Speed: 1.6ms preprocess, 51.1ms inference, 0.6ms postprocess per image at shape (1, 3, 384, 640)\n",
      "\n"
     ]
    },
    {
     "name": "stdout",
     "output_type": "stream",
     "text": [
      "BOX START ---------------------\n",
      " person \n",
      "BOX END ---------------------\n",
      "BOX START ---------------------\n",
      " person \n",
      "BOX END ---------------------\n"
     ]
    },
    {
     "name": "stderr",
     "output_type": "stream",
     "text": [
      "0: 384x640 1 person, 1 baseball bat, 1 chair, 58.9ms\n",
      "Speed: 1.5ms preprocess, 58.9ms inference, 0.8ms postprocess per image at shape (1, 3, 384, 640)\n",
      "\n",
      "0: 384x640 1 person, 51.0ms\n",
      "Speed: 1.5ms preprocess, 51.0ms inference, 0.6ms postprocess per image at shape (1, 3, 384, 640)\n",
      "\n"
     ]
    },
    {
     "name": "stdout",
     "output_type": "stream",
     "text": [
      "BOX START ---------------------\n",
      " person \n",
      "BOX END ---------------------\n",
      "BOX START ---------------------\n",
      " person \n",
      "BOX END ---------------------\n"
     ]
    },
    {
     "name": "stderr",
     "output_type": "stream",
     "text": [
      "0: 384x640 1 person, 2 chairs, 55.4ms\n",
      "Speed: 1.4ms preprocess, 55.4ms inference, 1.4ms postprocess per image at shape (1, 3, 384, 640)\n",
      "\n",
      "0: 384x640 1 person, 1 chair, 51.4ms\n",
      "Speed: 1.4ms preprocess, 51.4ms inference, 0.8ms postprocess per image at shape (1, 3, 384, 640)\n",
      "\n"
     ]
    },
    {
     "name": "stdout",
     "output_type": "stream",
     "text": [
      "BOX START ---------------------\n",
      " person \n",
      "BOX END ---------------------\n",
      "BOX START ---------------------\n",
      " person \n",
      "BOX END ---------------------\n"
     ]
    },
    {
     "name": "stderr",
     "output_type": "stream",
     "text": [
      "0: 384x640 1 person, 1 chair, 60.4ms\n",
      "Speed: 1.5ms preprocess, 60.4ms inference, 0.7ms postprocess per image at shape (1, 3, 384, 640)\n",
      "\n",
      "0: 384x640 1 person, 3 chairs, 48.7ms\n",
      "Speed: 1.5ms preprocess, 48.7ms inference, 0.6ms postprocess per image at shape (1, 3, 384, 640)\n",
      "\n"
     ]
    },
    {
     "name": "stdout",
     "output_type": "stream",
     "text": [
      "BOX START ---------------------\n",
      " person \n",
      "BOX END ---------------------\n",
      "BOX START ---------------------\n",
      " person \n",
      "BOX END ---------------------\n"
     ]
    },
    {
     "name": "stderr",
     "output_type": "stream",
     "text": [
      "0: 384x640 1 person, 2 chairs, 51.1ms\n",
      "Speed: 1.6ms preprocess, 51.1ms inference, 1.3ms postprocess per image at shape (1, 3, 384, 640)\n",
      "\n",
      "0: 384x640 1 person, 1 chair, 1 microwave, 67.8ms\n",
      "Speed: 8.8ms preprocess, 67.8ms inference, 0.6ms postprocess per image at shape (1, 3, 384, 640)\n"
     ]
    },
    {
     "name": "stdout",
     "output_type": "stream",
     "text": [
      "BOX START ---------------------\n",
      " person \n",
      "BOX END ---------------------\n",
      "BOX START ---------------------\n",
      " person \n",
      "BOX END ---------------------\n"
     ]
    },
    {
     "name": "stderr",
     "output_type": "stream",
     "text": [
      "\n",
      "0: 384x640 1 person, 1 bottle, 1 chair, 61.4ms\n",
      "Speed: 1.5ms preprocess, 61.4ms inference, 0.6ms postprocess per image at shape (1, 3, 384, 640)\n",
      "\n",
      "0: 384x640 1 person, 1 chair, 51.9ms\n",
      "Speed: 1.4ms preprocess, 51.9ms inference, 0.7ms postprocess per image at shape (1, 3, 384, 640)\n",
      "\n"
     ]
    },
    {
     "name": "stdout",
     "output_type": "stream",
     "text": [
      "BOX START ---------------------\n",
      " person \n",
      "BOX END ---------------------\n",
      "BOX START ---------------------\n",
      " person \n",
      "BOX END ---------------------\n"
     ]
    },
    {
     "name": "stderr",
     "output_type": "stream",
     "text": [
      "0: 384x640 1 person, 2 chairs, 59.0ms\n",
      "Speed: 1.5ms preprocess, 59.0ms inference, 1.2ms postprocess per image at shape (1, 3, 384, 640)\n",
      "\n",
      "0: 384x640 1 person, 49.0ms\n",
      "Speed: 1.4ms preprocess, 49.0ms inference, 0.6ms postprocess per image at shape (1, 3, 384, 640)\n",
      "\n"
     ]
    },
    {
     "name": "stdout",
     "output_type": "stream",
     "text": [
      "BOX START ---------------------\n",
      " person \n",
      "BOX END ---------------------\n",
      "BOX START ---------------------\n",
      " person \n",
      "BOX END ---------------------\n"
     ]
    },
    {
     "name": "stderr",
     "output_type": "stream",
     "text": [
      "0: 384x640 1 person, 2 dining tables, 59.9ms\n",
      "Speed: 1.4ms preprocess, 59.9ms inference, 0.6ms postprocess per image at shape (1, 3, 384, 640)\n",
      "\n",
      "0: 384x640 2 persons, 50.3ms\n",
      "Speed: 1.4ms preprocess, 50.3ms inference, 0.7ms postprocess per image at shape (1, 3, 384, 640)\n",
      "\n"
     ]
    },
    {
     "name": "stdout",
     "output_type": "stream",
     "text": [
      "BOX START ---------------------\n",
      " person \n",
      "BOX END ---------------------\n",
      "BOX START ---------------------\n",
      " person \n",
      "BOX END ---------------------\n",
      "BOX START ---------------------\n",
      " person \n",
      "BOX END ---------------------\n"
     ]
    },
    {
     "name": "stderr",
     "output_type": "stream",
     "text": [
      "0: 384x640 1 person, 54.5ms\n",
      "Speed: 1.4ms preprocess, 54.5ms inference, 1.0ms postprocess per image at shape (1, 3, 384, 640)\n",
      "\n",
      "0: 384x640 1 person, 1 bench, 1 chair, 1 laptop, 51.3ms\n",
      "Speed: 1.6ms preprocess, 51.3ms inference, 0.8ms postprocess per image at shape (1, 3, 384, 640)\n",
      "\n"
     ]
    },
    {
     "name": "stdout",
     "output_type": "stream",
     "text": [
      "BOX START ---------------------\n",
      " person \n",
      "BOX END ---------------------\n",
      "BOX START ---------------------\n",
      " person \n",
      "BOX END ---------------------\n"
     ]
    },
    {
     "name": "stderr",
     "output_type": "stream",
     "text": [
      "0: 384x640 1 person, 1 chair, 1 dining table, 60.5ms\n",
      "Speed: 1.5ms preprocess, 60.5ms inference, 0.8ms postprocess per image at shape (1, 3, 384, 640)\n",
      "\n",
      "0: 384x640 1 person, 2 chairs, 50.3ms\n",
      "Speed: 1.5ms preprocess, 50.3ms inference, 0.6ms postprocess per image at shape (1, 3, 384, 640)\n",
      "\n"
     ]
    },
    {
     "name": "stdout",
     "output_type": "stream",
     "text": [
      "BOX START ---------------------\n",
      " person \n",
      "BOX END ---------------------\n",
      "BOX START ---------------------\n",
      " person \n",
      "BOX END ---------------------\n"
     ]
    },
    {
     "name": "stderr",
     "output_type": "stream",
     "text": [
      "0: 384x640 1 person, 1 chair, 74.5ms\n",
      "Speed: 1.4ms preprocess, 74.5ms inference, 0.6ms postprocess per image at shape (1, 3, 384, 640)\n",
      "\n",
      "0: 384x640 1 person, 1 chair, 55.9ms\n",
      "Speed: 1.6ms preprocess, 55.9ms inference, 0.9ms postprocess per image at shape (1, 3, 384, 640)\n",
      "\n"
     ]
    },
    {
     "name": "stdout",
     "output_type": "stream",
     "text": [
      "BOX START ---------------------\n",
      " person \n",
      "BOX END ---------------------\n",
      "BOX START ---------------------\n",
      " person \n",
      "BOX END ---------------------\n"
     ]
    },
    {
     "name": "stderr",
     "output_type": "stream",
     "text": [
      "0: 384x640 1 person, 2 chairs, 65.3ms\n",
      "Speed: 1.4ms preprocess, 65.3ms inference, 0.6ms postprocess per image at shape (1, 3, 384, 640)\n",
      "\n",
      "0: 384x640 1 person, 1 bench, 54.7ms\n",
      "Speed: 1.4ms preprocess, 54.7ms inference, 0.8ms postprocess per image at shape (1, 3, 384, 640)\n",
      "\n"
     ]
    },
    {
     "name": "stdout",
     "output_type": "stream",
     "text": [
      "BOX START ---------------------\n",
      " person \n",
      "BOX END ---------------------\n",
      "BOX START ---------------------\n",
      " person \n",
      "BOX END ---------------------\n"
     ]
    },
    {
     "name": "stderr",
     "output_type": "stream",
     "text": [
      "0: 384x640 1 person, 53.9ms\n",
      "Speed: 1.4ms preprocess, 53.9ms inference, 0.9ms postprocess per image at shape (1, 3, 384, 640)\n",
      "\n",
      "0: 384x640 1 person, 67.2ms\n",
      "Speed: 10.4ms preprocess, 67.2ms inference, 0.6ms postprocess per image at shape (1, 3, 384, 640)\n"
     ]
    },
    {
     "name": "stdout",
     "output_type": "stream",
     "text": [
      "BOX START ---------------------\n",
      " person \n",
      "BOX END ---------------------\n",
      "BOX START ---------------------\n",
      " person \n",
      "BOX END ---------------------\n"
     ]
    },
    {
     "name": "stderr",
     "output_type": "stream",
     "text": [
      "\n",
      "0: 384x640 1 person, 1 knife, 55.5ms\n",
      "Speed: 1.5ms preprocess, 55.5ms inference, 0.7ms postprocess per image at shape (1, 3, 384, 640)\n",
      "\n",
      "0: 384x640 1 person, 51.5ms\n",
      "Speed: 1.4ms preprocess, 51.5ms inference, 0.8ms postprocess per image at shape (1, 3, 384, 640)\n",
      "\n"
     ]
    },
    {
     "name": "stdout",
     "output_type": "stream",
     "text": [
      "BOX START ---------------------\n",
      " person \n",
      "BOX END ---------------------\n",
      "BOX START ---------------------\n",
      " person \n",
      "BOX END ---------------------\n"
     ]
    },
    {
     "name": "stderr",
     "output_type": "stream",
     "text": [
      "0: 384x640 (no detections), 56.7ms\n",
      "Speed: 1.7ms preprocess, 56.7ms inference, 0.5ms postprocess per image at shape (1, 3, 384, 640)\n",
      "\n",
      "0: 384x640 1 person, 1 laptop, 1 refrigerator, 1 book, 51.9ms\n",
      "Speed: 1.4ms preprocess, 51.9ms inference, 0.9ms postprocess per image at shape (1, 3, 384, 640)\n",
      "\n",
      "0: 384x640 1 keyboard, 50.9ms\n",
      "Speed: 1.5ms preprocess, 50.9ms inference, 0.6ms postprocess per image at shape (1, 3, 384, 640)\n",
      "\n"
     ]
    },
    {
     "name": "stdout",
     "output_type": "stream",
     "text": [
      "BOX START ---------------------\n",
      " person \n",
      "BOX END ---------------------\n"
     ]
    },
    {
     "name": "stderr",
     "output_type": "stream",
     "text": [
      "0: 384x640 1 keyboard, 1 book, 58.3ms\n",
      "Speed: 1.5ms preprocess, 58.3ms inference, 0.9ms postprocess per image at shape (1, 3, 384, 640)\n",
      "\n",
      "0: 384x640 1 knife, 1 laptop, 1 keyboard, 1 book, 49.1ms\n",
      "Speed: 1.5ms preprocess, 49.1ms inference, 0.6ms postprocess per image at shape (1, 3, 384, 640)\n",
      "\n",
      "0: 384x640 1 keyboard, 2 books, 49.9ms\n",
      "Speed: 1.6ms preprocess, 49.9ms inference, 0.6ms postprocess per image at shape (1, 3, 384, 640)\n",
      "\n",
      "0: 384x640 1 knife, 1 laptop, 1 keyboard, 1 book, 51.0ms\n",
      "Speed: 1.4ms preprocess, 51.0ms inference, 0.8ms postprocess per image at shape (1, 3, 384, 640)\n",
      "\n",
      "0: 384x640 1 laptop, 1 keyboard, 2 books, 49.9ms\n",
      "Speed: 1.4ms preprocess, 49.9ms inference, 0.7ms postprocess per image at shape (1, 3, 384, 640)\n",
      "\n",
      "0: 384x640 1 knife, 1 laptop, 1 keyboard, 1 book, 50.5ms\n",
      "Speed: 1.5ms preprocess, 50.5ms inference, 0.6ms postprocess per image at shape (1, 3, 384, 640)\n",
      "\n",
      "0: 384x640 1 dining table, 1 laptop, 1 book, 52.4ms\n",
      "Speed: 1.4ms preprocess, 52.4ms inference, 0.8ms postprocess per image at shape (1, 3, 384, 640)\n",
      "\n",
      "0: 384x640 2 books, 49.8ms\n",
      "Speed: 1.5ms preprocess, 49.8ms inference, 0.9ms postprocess per image at shape (1, 3, 384, 640)\n",
      "\n",
      "0: 384x640 2 books, 51.1ms\n",
      "Speed: 1.5ms preprocess, 51.1ms inference, 0.8ms postprocess per image at shape (1, 3, 384, 640)\n",
      "\n",
      "0: 384x640 1 laptop, 1 book, 49.1ms\n",
      "Speed: 1.5ms preprocess, 49.1ms inference, 0.7ms postprocess per image at shape (1, 3, 384, 640)\n",
      "\n",
      "0: 384x640 (no detections), 48.3ms\n",
      "Speed: 1.9ms preprocess, 48.3ms inference, 0.4ms postprocess per image at shape (1, 3, 384, 640)\n",
      "\n",
      "0: 384x640 (no detections), 48.4ms\n",
      "Speed: 1.5ms preprocess, 48.4ms inference, 0.4ms postprocess per image at shape (1, 3, 384, 640)\n",
      "\n",
      "0: 384x640 (no detections), 47.0ms\n",
      "Speed: 1.5ms preprocess, 47.0ms inference, 0.4ms postprocess per image at shape (1, 3, 384, 640)\n",
      "\n",
      "0: 384x640 (no detections), 46.8ms\n",
      "Speed: 1.6ms preprocess, 46.8ms inference, 0.4ms postprocess per image at shape (1, 3, 384, 640)\n",
      "\n",
      "0: 384x640 (no detections), 47.7ms\n",
      "Speed: 1.4ms preprocess, 47.7ms inference, 0.4ms postprocess per image at shape (1, 3, 384, 640)\n",
      "\n",
      "0: 384x640 (no detections), 48.3ms\n",
      "Speed: 1.6ms preprocess, 48.3ms inference, 0.4ms postprocess per image at shape (1, 3, 384, 640)\n",
      "\n",
      "0: 384x640 (no detections), 48.7ms\n",
      "Speed: 1.8ms preprocess, 48.7ms inference, 0.4ms postprocess per image at shape (1, 3, 384, 640)\n",
      "\n",
      "0: 384x640 (no detections), 47.7ms\n",
      "Speed: 2.0ms preprocess, 47.7ms inference, 0.4ms postprocess per image at shape (1, 3, 384, 640)\n",
      "\n",
      "0: 384x640 (no detections), 48.4ms\n",
      "Speed: 1.4ms preprocess, 48.4ms inference, 0.4ms postprocess per image at shape (1, 3, 384, 640)\n",
      "\n",
      "0: 384x640 (no detections), 47.9ms\n",
      "Speed: 1.7ms preprocess, 47.9ms inference, 0.4ms postprocess per image at shape (1, 3, 384, 640)\n",
      "\n",
      "0: 384x640 (no detections), 49.1ms\n",
      "Speed: 1.5ms preprocess, 49.1ms inference, 0.6ms postprocess per image at shape (1, 3, 384, 640)\n",
      "\n",
      "0: 384x640 (no detections), 47.1ms\n",
      "Speed: 1.5ms preprocess, 47.1ms inference, 0.4ms postprocess per image at shape (1, 3, 384, 640)\n",
      "\n",
      "0: 384x640 (no detections), 47.6ms\n",
      "Speed: 1.4ms preprocess, 47.6ms inference, 0.4ms postprocess per image at shape (1, 3, 384, 640)\n",
      "\n",
      "0: 384x640 (no detections), 47.8ms\n",
      "Speed: 1.5ms preprocess, 47.8ms inference, 0.4ms postprocess per image at shape (1, 3, 384, 640)\n",
      "\n",
      "0: 384x640 (no detections), 52.1ms\n",
      "Speed: 1.4ms preprocess, 52.1ms inference, 0.4ms postprocess per image at shape (1, 3, 384, 640)\n",
      "\n",
      "0: 384x640 (no detections), 47.9ms\n",
      "Speed: 1.3ms preprocess, 47.9ms inference, 0.4ms postprocess per image at shape (1, 3, 384, 640)\n",
      "\n",
      "0: 384x640 (no detections), 52.2ms\n",
      "Speed: 1.5ms preprocess, 52.2ms inference, 0.4ms postprocess per image at shape (1, 3, 384, 640)\n",
      "\n",
      "0: 384x640 (no detections), 51.6ms\n",
      "Speed: 1.4ms preprocess, 51.6ms inference, 0.6ms postprocess per image at shape (1, 3, 384, 640)\n",
      "\n",
      "0: 384x640 (no detections), 47.7ms\n",
      "Speed: 1.4ms preprocess, 47.7ms inference, 0.4ms postprocess per image at shape (1, 3, 384, 640)\n",
      "\n",
      "0: 384x640 (no detections), 46.7ms\n",
      "Speed: 1.5ms preprocess, 46.7ms inference, 0.4ms postprocess per image at shape (1, 3, 384, 640)\n",
      "\n",
      "0: 384x640 (no detections), 48.3ms\n",
      "Speed: 1.4ms preprocess, 48.3ms inference, 0.4ms postprocess per image at shape (1, 3, 384, 640)\n",
      "\n",
      "0: 384x640 (no detections), 45.6ms\n",
      "Speed: 1.6ms preprocess, 45.6ms inference, 0.4ms postprocess per image at shape (1, 3, 384, 640)\n",
      "\n",
      "0: 384x640 (no detections), 64.5ms\n",
      "Speed: 1.6ms preprocess, 64.5ms inference, 0.4ms postprocess per image at shape (1, 3, 384, 640)\n",
      "\n",
      "0: 384x640 (no detections), 49.9ms\n",
      "Speed: 1.4ms preprocess, 49.9ms inference, 0.4ms postprocess per image at shape (1, 3, 384, 640)\n",
      "\n",
      "0: 384x640 (no detections), 47.0ms\n",
      "Speed: 1.4ms preprocess, 47.0ms inference, 0.4ms postprocess per image at shape (1, 3, 384, 640)\n",
      "\n",
      "0: 384x640 (no detections), 48.2ms\n",
      "Speed: 1.5ms preprocess, 48.2ms inference, 0.4ms postprocess per image at shape (1, 3, 384, 640)\n",
      "\n",
      "0: 384x640 (no detections), 48.8ms\n",
      "Speed: 1.9ms preprocess, 48.8ms inference, 0.4ms postprocess per image at shape (1, 3, 384, 640)\n",
      "\n",
      "0: 384x640 (no detections), 47.4ms\n",
      "Speed: 2.0ms preprocess, 47.4ms inference, 0.4ms postprocess per image at shape (1, 3, 384, 640)\n",
      "\n",
      "0: 384x640 (no detections), 47.6ms\n",
      "Speed: 1.6ms preprocess, 47.6ms inference, 0.4ms postprocess per image at shape (1, 3, 384, 640)\n",
      "\n",
      "0: 384x640 (no detections), 48.6ms\n",
      "Speed: 1.4ms preprocess, 48.6ms inference, 0.6ms postprocess per image at shape (1, 3, 384, 640)\n",
      "\n",
      "0: 384x640 (no detections), 48.0ms\n",
      "Speed: 1.9ms preprocess, 48.0ms inference, 0.5ms postprocess per image at shape (1, 3, 384, 640)\n",
      "\n",
      "0: 384x640 (no detections), 47.5ms\n",
      "Speed: 1.6ms preprocess, 47.5ms inference, 0.4ms postprocess per image at shape (1, 3, 384, 640)\n",
      "\n",
      "0: 384x640 (no detections), 47.5ms\n",
      "Speed: 1.6ms preprocess, 47.5ms inference, 0.4ms postprocess per image at shape (1, 3, 384, 640)\n",
      "\n",
      "0: 384x640 (no detections), 49.3ms\n",
      "Speed: 1.5ms preprocess, 49.3ms inference, 0.4ms postprocess per image at shape (1, 3, 384, 640)\n",
      "\n",
      "0: 384x640 (no detections), 49.2ms\n",
      "Speed: 1.4ms preprocess, 49.2ms inference, 0.4ms postprocess per image at shape (1, 3, 384, 640)\n",
      "\n",
      "0: 384x640 (no detections), 65.5ms\n",
      "Speed: 1.5ms preprocess, 65.5ms inference, 0.5ms postprocess per image at shape (1, 3, 384, 640)\n",
      "\n",
      "0: 384x640 (no detections), 49.8ms\n",
      "Speed: 1.4ms preprocess, 49.8ms inference, 0.4ms postprocess per image at shape (1, 3, 384, 640)\n",
      "\n",
      "0: 384x640 (no detections), 62.3ms\n",
      "Speed: 2.3ms preprocess, 62.3ms inference, 0.4ms postprocess per image at shape (1, 3, 384, 640)\n",
      "\n",
      "0: 384x640 (no detections), 48.1ms\n",
      "Speed: 1.5ms preprocess, 48.1ms inference, 0.4ms postprocess per image at shape (1, 3, 384, 640)\n",
      "\n",
      "0: 384x640 (no detections), 58.8ms\n",
      "Speed: 1.5ms preprocess, 58.8ms inference, 0.7ms postprocess per image at shape (1, 3, 384, 640)\n"
     ]
    }
   ],
   "source": [
    "# get frames for initializing \n",
    "cap = cv.VideoCapture(1)\n",
    "model = YOLO('yolov8n.pt')\n",
    "\n",
    "while True:\n",
    "    ret, frame = cap.read()\n",
    "    xyxys = []\n",
    "    confidences = []\n",
    "    class_ids = []\n",
    "\n",
    "    if not ret:\n",
    "        break\n",
    "    \n",
    "    results = model(frame)\n",
    "\n",
    "    \n",
    "    for result in results:\n",
    "        boxes = result.boxes.cpu().numpy()\n",
    "        for class_id in boxes.cls:\n",
    "    \n",
    "    detections = sv.Detections(\n",
    "                    xyxy=results[0].boxes.xyxy.cpu().numpy(),\n",
    "                    confidence=results[0].boxes.conf.cpu().numpy(),\n",
    "                    class_id=results[0].boxes.cls.cpu().numpy().astype(int),\n",
    "                    )\n",
    "    \n",
    "    frame = sv.BoxAnnotator(sv.ColorPalette.default(), thickness=3, text_thickness=3, text_scale=1.5).annotate(scene=frame, detections=detections)\n",
    "    cv.imshow('Live Video', frame)\n",
    "    if cv.waitKey(1) & 0xFF == 27:  # Press 'Esc' key to exit the loop\n",
    "        break\n",
    "\n",
    "cap.release()\n",
    "cv.destroyAllWindows()"
   ]
  },
  {
   "cell_type": "code",
   "execution_count": 5,
   "metadata": {},
   "outputs": [],
   "source": [
    "cap.release()\n",
    "cv.destroyAllWindows()"
   ]
  }
 ],
 "metadata": {
  "kernelspec": {
   "display_name": "Python 3",
   "language": "python",
   "name": "python3"
  },
  "language_info": {
   "codemirror_mode": {
    "name": "ipython",
    "version": 3
   },
   "file_extension": ".py",
   "mimetype": "text/x-python",
   "name": "python",
   "nbconvert_exporter": "python",
   "pygments_lexer": "ipython3",
   "version": "3.9.17"
  }
 },
 "nbformat": 4,
 "nbformat_minor": 2
}
